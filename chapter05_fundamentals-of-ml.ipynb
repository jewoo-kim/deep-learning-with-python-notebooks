{
 "cells": [
  {
   "cell_type": "markdown",
   "metadata": {
    "colab_type": "text"
   },
   "source": [
    "이것은 [Deep Learning with Python, Second Edition](https://www.manning.com/books/deep-learning-with-python-second-edition?a_aid=keras&a_bid=76564dff) 책의 노트북이다. 가독성을 위해 실행 가능한 코드 블록과 섹션 제목만 포함하고 책의 다른 모든 텍스트 단락, 그림 및 의사 코드는 생략한다.\n",
    "\n",
    "**무슨 일이 일어나고 있는지 확인하고 싶다면 책과 함께 노트북을 사용하는 것을 권장한다.**\n",
    "\n",
    "이 노트북은 TensorFlow 2.6 기반이다. (옮긴이: 버전 2.10.0, 애플 실리콘 M1 으로 테스트)"
   ]
  },
  {
   "cell_type": "markdown",
   "metadata": {
    "colab_type": "text"
   },
   "source": [
    "# 5 기계 학습의 기초"
   ]
  },
  {
   "cell_type": "markdown",
   "metadata": {
    "colab_type": "text"
   },
   "source": [
    "## 5.1 일반화: 기계 학습의 목표"
   ]
  },
  {
   "cell_type": "markdown",
   "metadata": {
    "colab_type": "text"
   },
   "source": [
    "### 5.1.1 과소적합 및 과대적합"
   ]
  },
  {
   "cell_type": "markdown",
   "metadata": {
    "colab_type": "text"
   },
   "source": [
    "#### 잡음 훈련 데이터"
   ]
  },
  {
   "cell_type": "markdown",
   "metadata": {
    "colab_type": "text"
   },
   "source": [
    "#### 모호한 특성"
   ]
  },
  {
   "cell_type": "markdown",
   "metadata": {
    "colab_type": "text"
   },
   "source": [
    "#### 드문 특성 및 가짜 상관 관계"
   ]
  },
  {
   "cell_type": "markdown",
   "metadata": {
    "colab_type": "text"
   },
   "source": [
    "**MNIST에 백색-잡음 채널 또는 모든-영 채널 추가**"
   ]
  },
  {
   "cell_type": "code",
   "execution_count": 1,
   "metadata": {
    "colab_type": "code"
   },
   "outputs": [],
   "source": [
    "from tensorflow.keras.datasets import mnist\n",
    "import numpy as np\n",
    "\n",
    "(train_images, train_labels), _ = mnist.load_data()\n",
    "train_images = train_images.reshape((60000, 28 * 28))\n",
    "train_images = train_images.astype(\"float32\") / 255 # shape = (60000, 784)\n",
    "\n",
    "train_images_with_noise_channels = np.concatenate(\n",
    "    [train_images, np.random.random((len(train_images), 784))], axis=1) # shape = (60000, 1568)\n",
    "train_images_with_zeros_channels = np.concatenate(\n",
    "    [train_images, np.zeros((len(train_images), 784))], axis=1)"
   ]
  },
  {
   "cell_type": "markdown",
   "metadata": {
    "colab_type": "text"
   },
   "source": [
    "**잡음 채널 또는 모두-0 채널을 사용하여 MNIST 데이터에 대해 동일 모델 학습**"
   ]
  },
  {
   "cell_type": "code",
   "execution_count": 2,
   "metadata": {
    "colab_type": "code"
   },
   "outputs": [
    {
     "name": "stdout",
     "output_type": "stream",
     "text": [
      "Metal device set to: Apple M1 Pro\n",
      "Epoch 1/10\n"
     ]
    },
    {
     "name": "stderr",
     "output_type": "stream",
     "text": [
      "2022-12-09 17:08:42.890690: I tensorflow/core/common_runtime/pluggable_device/pluggable_device_factory.cc:306] Could not identify NUMA node of platform GPU ID 0, defaulting to 0. Your kernel may not have been built with NUMA support.\n",
      "2022-12-09 17:08:42.890921: I tensorflow/core/common_runtime/pluggable_device/pluggable_device_factory.cc:272] Created TensorFlow device (/job:localhost/replica:0/task:0/device:GPU:0 with 0 MB memory) -> physical PluggableDevice (device: 0, name: METAL, pci bus id: <undefined>)\n",
      "2022-12-09 17:08:43.089931: W tensorflow/core/platform/profile_utils/cpu_utils.cc:128] Failed to get CPU frequency: 0 Hz\n"
     ]
    },
    {
     "name": "stdout",
     "output_type": "stream",
     "text": [
      "\r",
      "  1/375 [..............................] - ETA: 2:14 - loss: 2.3529 - accuracy: 0.0703"
     ]
    },
    {
     "name": "stderr",
     "output_type": "stream",
     "text": [
      "2022-12-09 17:08:43.308810: I tensorflow/core/grappler/optimizers/custom_graph_optimizer_registry.cc:114] Plugin optimizer for device_type GPU is enabled.\n"
     ]
    },
    {
     "name": "stdout",
     "output_type": "stream",
     "text": [
      "373/375 [============================>.] - ETA: 0s - loss: 0.6342 - accuracy: 0.8104"
     ]
    },
    {
     "name": "stderr",
     "output_type": "stream",
     "text": [
      "2022-12-09 17:08:45.819795: I tensorflow/core/grappler/optimizers/custom_graph_optimizer_registry.cc:114] Plugin optimizer for device_type GPU is enabled.\n"
     ]
    },
    {
     "name": "stdout",
     "output_type": "stream",
     "text": [
      "375/375 [==============================] - 3s 7ms/step - loss: 0.6325 - accuracy: 0.8108 - val_loss: 0.2872 - val_accuracy: 0.9137\n",
      "Epoch 2/10\n",
      "375/375 [==============================] - 3s 7ms/step - loss: 0.2466 - accuracy: 0.9234 - val_loss: 0.2041 - val_accuracy: 0.9363\n",
      "Epoch 3/10\n",
      "375/375 [==============================] - 3s 7ms/step - loss: 0.1610 - accuracy: 0.9502 - val_loss: 0.1475 - val_accuracy: 0.9557\n",
      "Epoch 4/10\n",
      "375/375 [==============================] - 3s 7ms/step - loss: 0.1121 - accuracy: 0.9648 - val_loss: 0.1587 - val_accuracy: 0.9494\n",
      "Epoch 5/10\n",
      "375/375 [==============================] - 3s 7ms/step - loss: 0.0847 - accuracy: 0.9728 - val_loss: 0.2101 - val_accuracy: 0.9387\n",
      "Epoch 6/10\n",
      "375/375 [==============================] - 3s 7ms/step - loss: 0.0603 - accuracy: 0.9809 - val_loss: 0.1391 - val_accuracy: 0.9605\n",
      "Epoch 7/10\n",
      "375/375 [==============================] - 3s 7ms/step - loss: 0.0463 - accuracy: 0.9852 - val_loss: 0.1297 - val_accuracy: 0.9651\n",
      "Epoch 8/10\n",
      "375/375 [==============================] - 3s 7ms/step - loss: 0.0354 - accuracy: 0.9885 - val_loss: 0.1335 - val_accuracy: 0.9657\n",
      "Epoch 9/10\n",
      "375/375 [==============================] - 3s 7ms/step - loss: 0.0277 - accuracy: 0.9914 - val_loss: 0.1223 - val_accuracy: 0.9691\n",
      "Epoch 10/10\n",
      "375/375 [==============================] - 3s 7ms/step - loss: 0.0208 - accuracy: 0.9930 - val_loss: 0.1352 - val_accuracy: 0.9690\n",
      "Epoch 1/10\n",
      "  8/375 [..............................] - ETA: 2s - loss: 1.4003 - accuracy: 0.5850  "
     ]
    },
    {
     "name": "stderr",
     "output_type": "stream",
     "text": [
      "2022-12-09 17:09:10.301308: I tensorflow/core/grappler/optimizers/custom_graph_optimizer_registry.cc:114] Plugin optimizer for device_type GPU is enabled.\n"
     ]
    },
    {
     "name": "stdout",
     "output_type": "stream",
     "text": [
      "367/375 [============================>.] - ETA: 0s - loss: 0.2898 - accuracy: 0.9168"
     ]
    },
    {
     "name": "stderr",
     "output_type": "stream",
     "text": [
      "2022-12-09 17:09:12.819333: I tensorflow/core/grappler/optimizers/custom_graph_optimizer_registry.cc:114] Plugin optimizer for device_type GPU is enabled.\n"
     ]
    },
    {
     "name": "stdout",
     "output_type": "stream",
     "text": [
      "375/375 [==============================] - 3s 8ms/step - loss: 0.2868 - accuracy: 0.9176 - val_loss: 0.1615 - val_accuracy: 0.9514\n",
      "Epoch 2/10\n",
      "375/375 [==============================] - 3s 7ms/step - loss: 0.1188 - accuracy: 0.9651 - val_loss: 0.1056 - val_accuracy: 0.9685\n",
      "Epoch 3/10\n",
      "375/375 [==============================] - 3s 7ms/step - loss: 0.0778 - accuracy: 0.9771 - val_loss: 0.1074 - val_accuracy: 0.9675\n",
      "Epoch 4/10\n",
      "375/375 [==============================] - 3s 7ms/step - loss: 0.0560 - accuracy: 0.9837 - val_loss: 0.0859 - val_accuracy: 0.9745\n",
      "Epoch 5/10\n",
      "375/375 [==============================] - 3s 7ms/step - loss: 0.0423 - accuracy: 0.9877 - val_loss: 0.0815 - val_accuracy: 0.9766\n",
      "Epoch 6/10\n",
      "375/375 [==============================] - 3s 7ms/step - loss: 0.0318 - accuracy: 0.9907 - val_loss: 0.0790 - val_accuracy: 0.9779\n",
      "Epoch 7/10\n",
      "375/375 [==============================] - 3s 7ms/step - loss: 0.0243 - accuracy: 0.9926 - val_loss: 0.0812 - val_accuracy: 0.9789\n",
      "Epoch 8/10\n",
      "375/375 [==============================] - 3s 7ms/step - loss: 0.0184 - accuracy: 0.9945 - val_loss: 0.0829 - val_accuracy: 0.9787\n",
      "Epoch 9/10\n",
      "375/375 [==============================] - 3s 7ms/step - loss: 0.0135 - accuracy: 0.9963 - val_loss: 0.0847 - val_accuracy: 0.9790\n",
      "Epoch 10/10\n",
      "375/375 [==============================] - 3s 7ms/step - loss: 0.0110 - accuracy: 0.9964 - val_loss: 0.0810 - val_accuracy: 0.9799\n"
     ]
    }
   ],
   "source": [
    "from tensorflow import keras\n",
    "from tensorflow.keras import layers\n",
    "\n",
    "def get_model():\n",
    "    model = keras.Sequential([\n",
    "        layers.Dense(512, activation=\"relu\"),\n",
    "        layers.Dense(10, activation=\"softmax\")\n",
    "    ])\n",
    "    model.compile(optimizer=\"rmsprop\",\n",
    "                  loss=\"sparse_categorical_crossentropy\",\n",
    "                  metrics=[\"accuracy\"])\n",
    "    return model\n",
    "\n",
    "model = get_model()\n",
    "history_noise = model.fit(\n",
    "    train_images_with_noise_channels, train_labels,\n",
    "    epochs=10,\n",
    "    batch_size=128,\n",
    "    validation_split=0.2)\n",
    "\n",
    "model = get_model()\n",
    "history_zeros = model.fit(\n",
    "    train_images_with_zeros_channels, train_labels,\n",
    "    epochs=10,\n",
    "    batch_size=128,\n",
    "    validation_split=0.2)"
   ]
  },
  {
   "cell_type": "markdown",
   "metadata": {
    "colab_type": "text"
   },
   "source": [
    "**검증 정확도 비교 그리기**"
   ]
  },
  {
   "cell_type": "code",
   "execution_count": 3,
   "metadata": {
    "colab_type": "code"
   },
   "outputs": [
    {
     "data": {
      "text/plain": [
       "<matplotlib.legend.Legend at 0x365b4e970>"
      ]
     },
     "execution_count": 3,
     "metadata": {},
     "output_type": "execute_result"
    },
    {
     "data": {
      "image/png": "[encoded data removed]",
      "text/plain": [
       "<Figure size 640x480 with 1 Axes>"
      ]
     },
     "metadata": {},
     "output_type": "display_data"
    }
   ],
   "source": [
    "import matplotlib.pyplot as plt\n",
    "val_acc_noise = history_noise.history[\"val_accuracy\"]\n",
    "val_acc_zeros = history_zeros.history[\"val_accuracy\"]\n",
    "epochs = range(1, 11)\n",
    "plt.plot(epochs, val_acc_noise, \"b-\",\n",
    "         label=\"Validation accuracy with noise channels\")\n",
    "plt.plot(epochs, val_acc_zeros, \"b--\",\n",
    "         label=\"Validation accuracy with zeros channels\")\n",
    "plt.title(\"Effect of noise channels on validation accuracy\")\n",
    "plt.xlabel(\"Epochs\")\n",
    "plt.ylabel(\"Accuracy\")\n",
    "plt.legend()"
   ]
  },
  {
   "cell_type": "markdown",
   "metadata": {
    "colab_type": "text"
   },
   "source": [
    "### 5.1.2 딥러닝의 일반적 본질"
   ]
  },
  {
   "cell_type": "markdown",
   "metadata": {
    "colab_type": "text"
   },
   "source": [
    "**무작위로 섞인 레이블이 있는 MNIST 모델 적응**"
   ]
  },
  {
   "cell_type": "code",
   "execution_count": 4,
   "metadata": {
    "colab_type": "code",
    "scrolled": true
   },
   "outputs": [
    {
     "name": "stdout",
     "output_type": "stream",
     "text": [
      "Epoch 1/100\n",
      "  9/375 [..............................] - ETA: 2s - loss: 2.4245 - accuracy: 0.0964  "
     ]
    },
    {
     "name": "stderr",
     "output_type": "stream",
     "text": [
      "2022-12-09 17:10:09.607322: I tensorflow/core/grappler/optimizers/custom_graph_optimizer_registry.cc:114] Plugin optimizer for device_type GPU is enabled.\n"
     ]
    },
    {
     "name": "stdout",
     "output_type": "stream",
     "text": [
      "373/375 [============================>.] - ETA: 0s - loss: 2.3158 - accuracy: 0.1046"
     ]
    },
    {
     "name": "stderr",
     "output_type": "stream",
     "text": [
      "2022-12-09 17:10:12.034694: I tensorflow/core/grappler/optimizers/custom_graph_optimizer_registry.cc:114] Plugin optimizer for device_type GPU is enabled.\n"
     ]
    },
    {
     "name": "stdout",
     "output_type": "stream",
     "text": [
      "375/375 [==============================] - 3s 7ms/step - loss: 2.3157 - accuracy: 0.1045 - val_loss: 2.3056 - val_accuracy: 0.1042\n",
      "Epoch 2/100\n",
      "375/375 [==============================] - 2s 7ms/step - loss: 2.3001 - accuracy: 0.1139 - val_loss: 2.3111 - val_accuracy: 0.1039\n",
      "Epoch 3/100\n",
      "375/375 [==============================] - 2s 7ms/step - loss: 2.2910 - accuracy: 0.1254 - val_loss: 2.3169 - val_accuracy: 0.1059\n",
      "Epoch 4/100\n",
      "375/375 [==============================] - 2s 7ms/step - loss: 2.2763 - accuracy: 0.1381 - val_loss: 2.3223 - val_accuracy: 0.1045\n",
      "Epoch 5/100\n",
      "375/375 [==============================] - 3s 7ms/step - loss: 2.2580 - accuracy: 0.1540 - val_loss: 2.3381 - val_accuracy: 0.1067\n",
      "Epoch 6/100\n",
      "375/375 [==============================] - 2s 7ms/step - loss: 2.2367 - accuracy: 0.1691 - val_loss: 2.3539 - val_accuracy: 0.1023\n",
      "Epoch 7/100\n",
      "375/375 [==============================] - 2s 7ms/step - loss: 2.2127 - accuracy: 0.1832 - val_loss: 2.3661 - val_accuracy: 0.1010\n",
      "Epoch 8/100\n",
      "375/375 [==============================] - 2s 7ms/step - loss: 2.1852 - accuracy: 0.1975 - val_loss: 2.3840 - val_accuracy: 0.1040\n",
      "Epoch 9/100\n",
      "375/375 [==============================] - 2s 7ms/step - loss: 2.1562 - accuracy: 0.2142 - val_loss: 2.4102 - val_accuracy: 0.1056\n",
      "Epoch 10/100\n",
      "375/375 [==============================] - 2s 7ms/step - loss: 2.1252 - accuracy: 0.2299 - val_loss: 2.4186 - val_accuracy: 0.1014\n",
      "Epoch 11/100\n",
      "375/375 [==============================] - 2s 7ms/step - loss: 2.0917 - accuracy: 0.2475 - val_loss: 2.4518 - val_accuracy: 0.1009\n",
      "Epoch 12/100\n",
      "375/375 [==============================] - 2s 7ms/step - loss: 2.0584 - accuracy: 0.2618 - val_loss: 2.4774 - val_accuracy: 0.1024\n",
      "Epoch 13/100\n",
      "375/375 [==============================] - 2s 7ms/step - loss: 2.0237 - accuracy: 0.2789 - val_loss: 2.5136 - val_accuracy: 0.1011\n",
      "Epoch 14/100\n",
      "375/375 [==============================] - 2s 7ms/step - loss: 1.9878 - accuracy: 0.2941 - val_loss: 2.5283 - val_accuracy: 0.1042\n",
      "Epoch 15/100\n",
      "375/375 [==============================] - 2s 7ms/step - loss: 1.9544 - accuracy: 0.3080 - val_loss: 2.5588 - val_accuracy: 0.1027\n",
      "Epoch 16/100\n",
      "375/375 [==============================] - 2s 7ms/step - loss: 1.9202 - accuracy: 0.3215 - val_loss: 2.6094 - val_accuracy: 0.1044\n",
      "Epoch 17/100\n",
      "375/375 [==============================] - 2s 7ms/step - loss: 1.8859 - accuracy: 0.3348 - val_loss: 2.6283 - val_accuracy: 0.1002\n",
      "Epoch 18/100\n",
      "375/375 [==============================] - 2s 7ms/step - loss: 1.8536 - accuracy: 0.3491 - val_loss: 2.6593 - val_accuracy: 0.1007\n",
      "Epoch 19/100\n",
      "375/375 [==============================] - 2s 7ms/step - loss: 1.8194 - accuracy: 0.3628 - val_loss: 2.7054 - val_accuracy: 0.0992\n",
      "Epoch 20/100\n",
      "375/375 [==============================] - 2s 7ms/step - loss: 1.7889 - accuracy: 0.3749 - val_loss: 2.7330 - val_accuracy: 0.1055\n",
      "Epoch 21/100\n",
      "375/375 [==============================] - 2s 7ms/step - loss: 1.7554 - accuracy: 0.3897 - val_loss: 2.7663 - val_accuracy: 0.1018\n",
      "Epoch 22/100\n",
      "375/375 [==============================] - 2s 7ms/step - loss: 1.7249 - accuracy: 0.4013 - val_loss: 2.8100 - val_accuracy: 0.1006\n",
      "Epoch 23/100\n",
      "375/375 [==============================] - 2s 7ms/step - loss: 1.6942 - accuracy: 0.4130 - val_loss: 2.8659 - val_accuracy: 0.0996\n",
      "Epoch 24/100\n",
      "375/375 [==============================] - 2s 7ms/step - loss: 1.6645 - accuracy: 0.4238 - val_loss: 2.8731 - val_accuracy: 0.0983\n",
      "Epoch 25/100\n",
      "375/375 [==============================] - 3s 7ms/step - loss: 1.6356 - accuracy: 0.4349 - val_loss: 2.9374 - val_accuracy: 0.0997\n",
      "Epoch 26/100\n",
      "375/375 [==============================] - 2s 7ms/step - loss: 1.6075 - accuracy: 0.4468 - val_loss: 2.9695 - val_accuracy: 0.1003\n",
      "Epoch 27/100\n",
      "375/375 [==============================] - 2s 7ms/step - loss: 1.5789 - accuracy: 0.4565 - val_loss: 3.0091 - val_accuracy: 0.0987\n",
      "Epoch 28/100\n",
      "375/375 [==============================] - 2s 7ms/step - loss: 1.5513 - accuracy: 0.4651 - val_loss: 3.0609 - val_accuracy: 0.0994\n",
      "Epoch 29/100\n",
      "375/375 [==============================] - 2s 7ms/step - loss: 1.5259 - accuracy: 0.4746 - val_loss: 3.0911 - val_accuracy: 0.0994\n",
      "Epoch 30/100\n",
      "375/375 [==============================] - 2s 7ms/step - loss: 1.4993 - accuracy: 0.4849 - val_loss: 3.1372 - val_accuracy: 0.0983\n",
      "Epoch 31/100\n",
      "375/375 [==============================] - 2s 7ms/step - loss: 1.4729 - accuracy: 0.4945 - val_loss: 3.1812 - val_accuracy: 0.1006\n",
      "Epoch 32/100\n",
      "375/375 [==============================] - 2s 7ms/step - loss: 1.4483 - accuracy: 0.5051 - val_loss: 3.2481 - val_accuracy: 0.0985\n",
      "Epoch 33/100\n",
      "375/375 [==============================] - 2s 7ms/step - loss: 1.4250 - accuracy: 0.5112 - val_loss: 3.2710 - val_accuracy: 0.0966\n",
      "Epoch 34/100\n",
      "375/375 [==============================] - 2s 7ms/step - loss: 1.4001 - accuracy: 0.5205 - val_loss: 3.3166 - val_accuracy: 0.0996\n",
      "Epoch 35/100\n",
      "375/375 [==============================] - 2s 7ms/step - loss: 1.3758 - accuracy: 0.5311 - val_loss: 3.3512 - val_accuracy: 0.0968\n",
      "Epoch 36/100\n",
      "375/375 [==============================] - 2s 7ms/step - loss: 1.3525 - accuracy: 0.5388 - val_loss: 3.3872 - val_accuracy: 0.1000\n",
      "Epoch 37/100\n",
      "375/375 [==============================] - 2s 7ms/step - loss: 1.3316 - accuracy: 0.5461 - val_loss: 3.4665 - val_accuracy: 0.1013\n",
      "Epoch 38/100\n",
      "375/375 [==============================] - 3s 7ms/step - loss: 1.3084 - accuracy: 0.5561 - val_loss: 3.5036 - val_accuracy: 0.1013\n",
      "Epoch 39/100\n",
      "375/375 [==============================] - 2s 7ms/step - loss: 1.2879 - accuracy: 0.5621 - val_loss: 3.5410 - val_accuracy: 0.0956\n",
      "Epoch 40/100\n",
      "375/375 [==============================] - 2s 7ms/step - loss: 1.2678 - accuracy: 0.5710 - val_loss: 3.5938 - val_accuracy: 0.1023\n",
      "Epoch 41/100\n",
      "375/375 [==============================] - 2s 7ms/step - loss: 1.2459 - accuracy: 0.5777 - val_loss: 3.6939 - val_accuracy: 0.1005\n",
      "Epoch 42/100\n",
      "375/375 [==============================] - 3s 7ms/step - loss: 1.2256 - accuracy: 0.5852 - val_loss: 3.7189 - val_accuracy: 0.1003\n",
      "Epoch 43/100\n",
      "375/375 [==============================] - 2s 7ms/step - loss: 1.2057 - accuracy: 0.5936 - val_loss: 3.7322 - val_accuracy: 0.0977\n",
      "Epoch 44/100\n",
      "375/375 [==============================] - 3s 7ms/step - loss: 1.1880 - accuracy: 0.5972 - val_loss: 3.8183 - val_accuracy: 0.0971\n",
      "Epoch 45/100\n",
      "375/375 [==============================] - 3s 7ms/step - loss: 1.1669 - accuracy: 0.6065 - val_loss: 3.8910 - val_accuracy: 0.1012\n",
      "Epoch 46/100\n",
      "375/375 [==============================] - 2s 7ms/step - loss: 1.1523 - accuracy: 0.6108 - val_loss: 3.9015 - val_accuracy: 0.0984\n",
      "Epoch 47/100\n",
      "375/375 [==============================] - 2s 7ms/step - loss: 1.1323 - accuracy: 0.6181 - val_loss: 3.9656 - val_accuracy: 0.0983\n",
      "Epoch 48/100\n",
      "375/375 [==============================] - 2s 7ms/step - loss: 1.1137 - accuracy: 0.6237 - val_loss: 4.0050 - val_accuracy: 0.1004\n",
      "Epoch 49/100\n",
      "375/375 [==============================] - 3s 7ms/step - loss: 1.0994 - accuracy: 0.6295 - val_loss: 4.1018 - val_accuracy: 0.0989\n",
      "Epoch 50/100\n",
      "375/375 [==============================] - 3s 7ms/step - loss: 1.0789 - accuracy: 0.6381 - val_loss: 4.1602 - val_accuracy: 0.0978\n",
      "Epoch 51/100\n",
      "375/375 [==============================] - 2s 7ms/step - loss: 1.0630 - accuracy: 0.6450 - val_loss: 4.1580 - val_accuracy: 0.0985\n",
      "Epoch 52/100\n",
      "375/375 [==============================] - 3s 7ms/step - loss: 1.0459 - accuracy: 0.6500 - val_loss: 4.2286 - val_accuracy: 0.0999\n",
      "Epoch 53/100\n",
      "375/375 [==============================] - 2s 7ms/step - loss: 1.0317 - accuracy: 0.6558 - val_loss: 4.2897 - val_accuracy: 0.0972\n",
      "Epoch 54/100\n",
      "375/375 [==============================] - 3s 7ms/step - loss: 1.0146 - accuracy: 0.6615 - val_loss: 4.3381 - val_accuracy: 0.0988\n",
      "Epoch 55/100\n",
      "375/375 [==============================] - 2s 7ms/step - loss: 0.9999 - accuracy: 0.6658 - val_loss: 4.4045 - val_accuracy: 0.0990\n",
      "Epoch 56/100\n",
      "375/375 [==============================] - 2s 7ms/step - loss: 0.9843 - accuracy: 0.6719 - val_loss: 4.4493 - val_accuracy: 0.0997\n",
      "Epoch 57/100\n",
      "375/375 [==============================] - 2s 7ms/step - loss: 0.9701 - accuracy: 0.6769 - val_loss: 4.5258 - val_accuracy: 0.0995\n",
      "Epoch 58/100\n"
     ]
    },
    {
     "name": "stdout",
     "output_type": "stream",
     "text": [
      "375/375 [==============================] - 3s 7ms/step - loss: 0.9534 - accuracy: 0.6821 - val_loss: 4.5703 - val_accuracy: 0.0978\n",
      "Epoch 59/100\n",
      "375/375 [==============================] - 3s 7ms/step - loss: 0.9406 - accuracy: 0.6843 - val_loss: 4.6406 - val_accuracy: 0.1016\n",
      "Epoch 60/100\n",
      "375/375 [==============================] - 2s 7ms/step - loss: 0.9265 - accuracy: 0.6926 - val_loss: 4.6779 - val_accuracy: 0.1007\n",
      "Epoch 61/100\n",
      "375/375 [==============================] - 2s 7ms/step - loss: 0.9114 - accuracy: 0.6971 - val_loss: 4.7727 - val_accuracy: 0.1005\n",
      "Epoch 62/100\n",
      "375/375 [==============================] - 2s 7ms/step - loss: 0.8978 - accuracy: 0.7021 - val_loss: 4.8044 - val_accuracy: 0.0986\n",
      "Epoch 63/100\n",
      "375/375 [==============================] - 2s 7ms/step - loss: 0.8840 - accuracy: 0.7070 - val_loss: 4.8732 - val_accuracy: 0.0994\n",
      "Epoch 64/100\n",
      "375/375 [==============================] - 2s 7ms/step - loss: 0.8719 - accuracy: 0.7125 - val_loss: 4.9286 - val_accuracy: 0.1010\n",
      "Epoch 65/100\n",
      "375/375 [==============================] - 2s 7ms/step - loss: 0.8583 - accuracy: 0.7144 - val_loss: 4.9800 - val_accuracy: 0.0987\n",
      "Epoch 66/100\n",
      "375/375 [==============================] - 2s 7ms/step - loss: 0.8464 - accuracy: 0.7183 - val_loss: 5.0494 - val_accuracy: 0.0982\n",
      "Epoch 67/100\n",
      "375/375 [==============================] - 2s 7ms/step - loss: 0.8344 - accuracy: 0.7239 - val_loss: 5.0798 - val_accuracy: 0.0972\n",
      "Epoch 68/100\n",
      "375/375 [==============================] - 3s 7ms/step - loss: 0.8229 - accuracy: 0.7274 - val_loss: 5.1796 - val_accuracy: 0.0987\n",
      "Epoch 69/100\n",
      "375/375 [==============================] - 3s 7ms/step - loss: 0.8085 - accuracy: 0.7355 - val_loss: 5.2736 - val_accuracy: 0.0990\n",
      "Epoch 70/100\n",
      "375/375 [==============================] - 3s 7ms/step - loss: 0.7973 - accuracy: 0.7371 - val_loss: 5.3336 - val_accuracy: 0.1013\n",
      "Epoch 71/100\n",
      "375/375 [==============================] - 3s 7ms/step - loss: 0.7855 - accuracy: 0.7395 - val_loss: 5.3387 - val_accuracy: 0.0999\n",
      "Epoch 72/100\n",
      "375/375 [==============================] - 3s 7ms/step - loss: 0.7722 - accuracy: 0.7460 - val_loss: 5.3999 - val_accuracy: 0.0973\n",
      "Epoch 73/100\n",
      "375/375 [==============================] - 3s 7ms/step - loss: 0.7639 - accuracy: 0.7471 - val_loss: 5.4806 - val_accuracy: 0.0999\n",
      "Epoch 74/100\n",
      "375/375 [==============================] - 3s 7ms/step - loss: 0.7512 - accuracy: 0.7527 - val_loss: 5.5591 - val_accuracy: 0.0972\n",
      "Epoch 75/100\n",
      "375/375 [==============================] - 3s 7ms/step - loss: 0.7424 - accuracy: 0.7544 - val_loss: 5.6101 - val_accuracy: 0.1004\n",
      "Epoch 76/100\n",
      "375/375 [==============================] - 3s 7ms/step - loss: 0.7291 - accuracy: 0.7632 - val_loss: 5.6830 - val_accuracy: 0.0994\n",
      "Epoch 77/100\n",
      "375/375 [==============================] - 2s 7ms/step - loss: 0.7178 - accuracy: 0.7645 - val_loss: 5.7675 - val_accuracy: 0.1007\n",
      "Epoch 78/100\n",
      "375/375 [==============================] - 2s 7ms/step - loss: 0.7064 - accuracy: 0.7683 - val_loss: 5.7829 - val_accuracy: 0.1033\n",
      "Epoch 79/100\n",
      "375/375 [==============================] - 2s 7ms/step - loss: 0.6966 - accuracy: 0.7717 - val_loss: 5.8791 - val_accuracy: 0.0972\n",
      "Epoch 80/100\n",
      "375/375 [==============================] - 2s 7ms/step - loss: 0.6866 - accuracy: 0.7762 - val_loss: 5.9429 - val_accuracy: 0.1003\n",
      "Epoch 81/100\n",
      "375/375 [==============================] - 2s 7ms/step - loss: 0.6786 - accuracy: 0.7772 - val_loss: 5.9616 - val_accuracy: 0.1023\n",
      "Epoch 82/100\n",
      "375/375 [==============================] - 2s 7ms/step - loss: 0.6693 - accuracy: 0.7808 - val_loss: 6.0564 - val_accuracy: 0.0987\n",
      "Epoch 83/100\n",
      "375/375 [==============================] - 3s 7ms/step - loss: 0.6610 - accuracy: 0.7843 - val_loss: 6.1433 - val_accuracy: 0.0960\n",
      "Epoch 84/100\n",
      "375/375 [==============================] - 3s 7ms/step - loss: 0.6519 - accuracy: 0.7880 - val_loss: 6.2199 - val_accuracy: 0.1006\n",
      "Epoch 85/100\n",
      "375/375 [==============================] - 3s 7ms/step - loss: 0.6394 - accuracy: 0.7913 - val_loss: 6.2687 - val_accuracy: 0.0994\n",
      "Epoch 86/100\n",
      "375/375 [==============================] - 3s 7ms/step - loss: 0.6311 - accuracy: 0.7972 - val_loss: 6.3268 - val_accuracy: 0.1002\n",
      "Epoch 87/100\n",
      "375/375 [==============================] - 3s 7ms/step - loss: 0.6210 - accuracy: 0.7976 - val_loss: 6.4205 - val_accuracy: 0.0996\n",
      "Epoch 88/100\n",
      "375/375 [==============================] - 3s 7ms/step - loss: 0.6132 - accuracy: 0.8025 - val_loss: 6.4953 - val_accuracy: 0.0996\n",
      "Epoch 89/100\n",
      "375/375 [==============================] - 3s 7ms/step - loss: 0.6052 - accuracy: 0.8038 - val_loss: 6.6186 - val_accuracy: 0.0980\n",
      "Epoch 90/100\n",
      "375/375 [==============================] - 3s 7ms/step - loss: 0.5940 - accuracy: 0.8083 - val_loss: 6.5926 - val_accuracy: 0.1008\n",
      "Epoch 91/100\n",
      "375/375 [==============================] - 3s 7ms/step - loss: 0.5885 - accuracy: 0.8091 - val_loss: 6.7126 - val_accuracy: 0.0997\n",
      "Epoch 92/100\n",
      "375/375 [==============================] - 2s 7ms/step - loss: 0.5793 - accuracy: 0.8129 - val_loss: 6.7427 - val_accuracy: 0.1014\n",
      "Epoch 93/100\n",
      "375/375 [==============================] - 3s 7ms/step - loss: 0.5699 - accuracy: 0.8141 - val_loss: 6.8179 - val_accuracy: 0.1003\n",
      "Epoch 94/100\n",
      "375/375 [==============================] - 3s 7ms/step - loss: 0.5615 - accuracy: 0.8206 - val_loss: 6.8637 - val_accuracy: 0.0986\n",
      "Epoch 95/100\n",
      "375/375 [==============================] - 3s 7ms/step - loss: 0.5549 - accuracy: 0.8216 - val_loss: 6.9679 - val_accuracy: 0.0983\n",
      "Epoch 96/100\n",
      "375/375 [==============================] - 3s 7ms/step - loss: 0.5469 - accuracy: 0.8237 - val_loss: 6.9714 - val_accuracy: 0.0983\n",
      "Epoch 97/100\n",
      "375/375 [==============================] - 3s 7ms/step - loss: 0.5389 - accuracy: 0.8268 - val_loss: 7.0542 - val_accuracy: 0.0995\n",
      "Epoch 98/100\n",
      "375/375 [==============================] - 3s 7ms/step - loss: 0.5328 - accuracy: 0.8291 - val_loss: 7.1182 - val_accuracy: 0.0992\n",
      "Epoch 99/100\n",
      "375/375 [==============================] - 3s 7ms/step - loss: 0.5243 - accuracy: 0.8311 - val_loss: 7.1880 - val_accuracy: 0.0987\n",
      "Epoch 100/100\n",
      "375/375 [==============================] - 3s 7ms/step - loss: 0.5155 - accuracy: 0.8344 - val_loss: 7.2788 - val_accuracy: 0.0993\n"
     ]
    },
    {
     "data": {
      "text/plain": [
       "<keras.callbacks.History at 0x361f22bb0>"
      ]
     },
     "execution_count": 4,
     "metadata": {},
     "output_type": "execute_result"
    }
   ],
   "source": [
    "(train_images, train_labels), _ = mnist.load_data()\n",
    "train_images = train_images.reshape((60000, 28 * 28))\n",
    "train_images = train_images.astype(\"float32\") / 255\n",
    "\n",
    "random_train_labels = train_labels[:]\n",
    "np.random.shuffle(random_train_labels)\n",
    "\n",
    "model = keras.Sequential([\n",
    "    layers.Dense(512, activation=\"relu\"),\n",
    "    layers.Dense(10, activation=\"softmax\")\n",
    "])\n",
    "model.compile(optimizer=\"rmsprop\",\n",
    "              loss=\"sparse_categorical_crossentropy\",\n",
    "              metrics=[\"accuracy\"])\n",
    "model.fit(train_images, random_train_labels,\n",
    "          epochs=100,\n",
    "          batch_size=128,\n",
    "          validation_split=0.2)"
   ]
  },
  {
   "cell_type": "markdown",
   "metadata": {
    "colab_type": "text"
   },
   "source": [
    "#### 매니폴드(manifold) 가설\n",
    "- 현실 세계에서 발생하는 많은 고차원 데이터 세트는 실제로 고차원 공간 내부의 저차원 다양체에 영향을 받는다. (WikiPedia)"
   ]
  },
  {
   "cell_type": "markdown",
   "metadata": {
    "colab_type": "text"
   },
   "source": [
    "#### 일반화 원천의 보간"
   ]
  },
  {
   "cell_type": "markdown",
   "metadata": {
    "colab_type": "text"
   },
   "source": [
    "#### 딥러닝이 작동하는 이유"
   ]
  },
  {
   "cell_type": "markdown",
   "metadata": {
    "colab_type": "text"
   },
   "source": [
    "#### 훈련 데이터가 중요"
   ]
  },
  {
   "cell_type": "markdown",
   "metadata": {
    "colab_type": "text"
   },
   "source": [
    "## 5.2 기계 학습 모델 평가"
   ]
  },
  {
   "cell_type": "markdown",
   "metadata": {
    "colab_type": "text"
   },
   "source": [
    "### 5.2.1 훈련, 검증, 그리고 테스트셋"
   ]
  },
  {
   "cell_type": "markdown",
   "metadata": {
    "colab_type": "text"
   },
   "source": [
    "#### 간단한 홀드아웃 검증\n",
    "- [데이터셋 셔플링 -> 훈련 훈 검증 세트 구성 -> 훈련 및 검증 -> 하이퍼파라미터 튜닝]:반복 -> 테스트 데이터셋 제외한 모든 데이터셋으로 모델 훈련\n",
    "- 옮긴이: Scikit-Learn 라이브러리의 `train_test_split` 함수: 배열 또는 행렬을 무작위 훈련 및 테스트 하위셋으로 분할."
   ]
  },
  {
   "cell_type": "markdown",
   "metadata": {
    "colab_type": "text"
   },
   "source": [
    "#### K-겹(K-fold) 검증\n",
    "- 옮긴이: Scikit-Learn 라이브러리의 cross_validation 함수 참고"
   ]
  },
  {
   "cell_type": "markdown",
   "metadata": {
    "colab_type": "text"
   },
   "source": [
    "#### 무작위로 K-겹 검증 순회\n",
    "- 옮긴이: Scikit-Learn 라이브러리의 RepeatedKFold 및 RepeatedStratifiedKFold 참조"
   ]
  },
  {
   "cell_type": "markdown",
   "metadata": {
    "colab_type": "text"
   },
   "source": [
    "### 5.2.2 상식적인 기준선 깨기"
   ]
  },
  {
   "cell_type": "markdown",
   "metadata": {
    "colab_type": "text"
   },
   "source": [
    "### 5.2.3 모델 평가에서 염두해 둘 것"
   ]
  },
  {
   "cell_type": "markdown",
   "metadata": {
    "colab_type": "text"
   },
   "source": [
    "## 5.3 모델 적응(fit) 향상"
   ]
  },
  {
   "cell_type": "markdown",
   "metadata": {
    "colab_type": "text"
   },
   "source": [
    "### 5.3.1 경사하강법의 주요 매개변수 조정"
   ]
  },
  {
   "cell_type": "markdown",
   "metadata": {
    "colab_type": "text"
   },
   "source": [
    "**잘못된 높은 학습률로 MNIST 모델 훈련** (learning_rate = 1.)"
   ]
  },
  {
   "cell_type": "code",
   "execution_count": 5,
   "metadata": {
    "colab_type": "code"
   },
   "outputs": [
    {
     "name": "stdout",
     "output_type": "stream",
     "text": [
      "Epoch 1/10\n",
      "  8/375 [..............................] - ETA: 2s - loss: 44351.7734 - accuracy: 0.1914"
     ]
    },
    {
     "name": "stderr",
     "output_type": "stream",
     "text": [
      "2022-12-09 17:14:20.987012: I tensorflow/core/grappler/optimizers/custom_graph_optimizer_registry.cc:114] Plugin optimizer for device_type GPU is enabled.\n"
     ]
    },
    {
     "name": "stdout",
     "output_type": "stream",
     "text": [
      "375/375 [==============================] - ETA: 0s - loss: 1008.1437 - accuracy: 0.3821"
     ]
    },
    {
     "name": "stderr",
     "output_type": "stream",
     "text": [
      "2022-12-09 17:14:23.381464: I tensorflow/core/grappler/optimizers/custom_graph_optimizer_registry.cc:114] Plugin optimizer for device_type GPU is enabled.\n"
     ]
    },
    {
     "name": "stdout",
     "output_type": "stream",
     "text": [
      "375/375 [==============================] - 3s 7ms/step - loss: 1008.1437 - accuracy: 0.3821 - val_loss: 2.8237 - val_accuracy: 0.3027\n",
      "Epoch 2/10\n",
      "375/375 [==============================] - 3s 7ms/step - loss: 4.8501 - accuracy: 0.2287 - val_loss: 2.2198 - val_accuracy: 0.2188\n",
      "Epoch 3/10\n",
      "375/375 [==============================] - 3s 7ms/step - loss: 5.2623 - accuracy: 0.2144 - val_loss: 2.2358 - val_accuracy: 0.1870\n",
      "Epoch 4/10\n",
      "375/375 [==============================] - 3s 7ms/step - loss: 2.6437 - accuracy: 0.2122 - val_loss: 2.3295 - val_accuracy: 0.2011\n",
      "Epoch 5/10\n",
      "375/375 [==============================] - 3s 7ms/step - loss: 3.1634 - accuracy: 0.2160 - val_loss: 2.0864 - val_accuracy: 0.2065\n",
      "Epoch 6/10\n",
      "375/375 [==============================] - 3s 7ms/step - loss: 2.6470 - accuracy: 0.2300 - val_loss: 2.6280 - val_accuracy: 0.2114\n",
      "Epoch 7/10\n",
      "375/375 [==============================] - 3s 7ms/step - loss: 2.7491 - accuracy: 0.2443 - val_loss: 1.9993 - val_accuracy: 0.2962\n",
      "Epoch 8/10\n",
      "375/375 [==============================] - 3s 7ms/step - loss: 2.7584 - accuracy: 0.2407 - val_loss: 2.3832 - val_accuracy: 0.2900\n",
      "Epoch 9/10\n",
      "375/375 [==============================] - 3s 7ms/step - loss: 2.5468 - accuracy: 0.2624 - val_loss: 2.1507 - val_accuracy: 0.2490\n",
      "Epoch 10/10\n",
      "375/375 [==============================] - 3s 7ms/step - loss: 2.4667 - accuracy: 0.2649 - val_loss: 2.5350 - val_accuracy: 0.2509\n"
     ]
    },
    {
     "data": {
      "text/plain": [
       "<keras.callbacks.History at 0x365201640>"
      ]
     },
     "execution_count": 5,
     "metadata": {},
     "output_type": "execute_result"
    }
   ],
   "source": [
    "(train_images, train_labels), _ = mnist.load_data()\n",
    "train_images = train_images.reshape((60000, 28 * 28))\n",
    "train_images = train_images.astype(\"float32\") / 255\n",
    "\n",
    "model = keras.Sequential([\n",
    "    layers.Dense(512, activation=\"relu\"),\n",
    "    layers.Dense(10, activation=\"softmax\")\n",
    "])\n",
    "model.compile(optimizer=keras.optimizers.RMSprop(1.),\n",
    "              loss=\"sparse_categorical_crossentropy\",\n",
    "              metrics=[\"accuracy\"])\n",
    "model.fit(train_images, train_labels,\n",
    "          epochs=10,\n",
    "          batch_size=128,\n",
    "          validation_split=0.2)"
   ]
  },
  {
   "cell_type": "markdown",
   "metadata": {
    "colab_type": "text"
   },
   "source": [
    "**동일한 모델에 적절한 학습률 적용** (learning_rate = 0.2)"
   ]
  },
  {
   "cell_type": "code",
   "execution_count": 6,
   "metadata": {
    "colab_type": "code"
   },
   "outputs": [
    {
     "name": "stdout",
     "output_type": "stream",
     "text": [
      "Epoch 1/10\n",
      "  8/375 [..............................] - ETA: 2s - loss: 5.2676 - accuracy: 0.3896  "
     ]
    },
    {
     "name": "stderr",
     "output_type": "stream",
     "text": [
      "2022-12-09 17:14:52.214428: I tensorflow/core/grappler/optimizers/custom_graph_optimizer_registry.cc:114] Plugin optimizer for device_type GPU is enabled.\n"
     ]
    },
    {
     "name": "stdout",
     "output_type": "stream",
     "text": [
      "371/375 [============================>.] - ETA: 0s - loss: 0.3723 - accuracy: 0.9074"
     ]
    },
    {
     "name": "stderr",
     "output_type": "stream",
     "text": [
      "2022-12-09 17:14:54.636155: I tensorflow/core/grappler/optimizers/custom_graph_optimizer_registry.cc:114] Plugin optimizer for device_type GPU is enabled.\n"
     ]
    },
    {
     "name": "stdout",
     "output_type": "stream",
     "text": [
      "375/375 [==============================] - 3s 7ms/step - loss: 0.3703 - accuracy: 0.9080 - val_loss: 0.1633 - val_accuracy: 0.9555\n",
      "Epoch 2/10\n",
      "375/375 [==============================] - 3s 7ms/step - loss: 0.1416 - accuracy: 0.9623 - val_loss: 0.1219 - val_accuracy: 0.9678\n",
      "Epoch 3/10\n",
      "375/375 [==============================] - 3s 7ms/step - loss: 0.1195 - accuracy: 0.9720 - val_loss: 0.1789 - val_accuracy: 0.9653\n",
      "Epoch 4/10\n",
      "375/375 [==============================] - 3s 7ms/step - loss: 0.1009 - accuracy: 0.9774 - val_loss: 0.1819 - val_accuracy: 0.9663\n",
      "Epoch 5/10\n",
      "375/375 [==============================] - 3s 7ms/step - loss: 0.0896 - accuracy: 0.9808 - val_loss: 0.2642 - val_accuracy: 0.9586\n",
      "Epoch 6/10\n",
      "375/375 [==============================] - 3s 7ms/step - loss: 0.0826 - accuracy: 0.9833 - val_loss: 0.2460 - val_accuracy: 0.9704\n",
      "Epoch 7/10\n",
      "375/375 [==============================] - 3s 7ms/step - loss: 0.0782 - accuracy: 0.9854 - val_loss: 0.2439 - val_accuracy: 0.9747\n",
      "Epoch 8/10\n",
      "375/375 [==============================] - 3s 7ms/step - loss: 0.0618 - accuracy: 0.9877 - val_loss: 0.2321 - val_accuracy: 0.9745\n",
      "Epoch 9/10\n",
      "375/375 [==============================] - 3s 7ms/step - loss: 0.0591 - accuracy: 0.9893 - val_loss: 0.3070 - val_accuracy: 0.9713\n",
      "Epoch 10/10\n",
      "375/375 [==============================] - 3s 7ms/step - loss: 0.0613 - accuracy: 0.9898 - val_loss: 0.2643 - val_accuracy: 0.9737\n"
     ]
    },
    {
     "data": {
      "text/plain": [
       "<keras.callbacks.History at 0x3ca7b3730>"
      ]
     },
     "execution_count": 6,
     "metadata": {},
     "output_type": "execute_result"
    }
   ],
   "source": [
    "model = keras.Sequential([\n",
    "    layers.Dense(512, activation=\"relu\"),\n",
    "    layers.Dense(10, activation=\"softmax\")\n",
    "])\n",
    "model.compile(optimizer=keras.optimizers.RMSprop(1e-2),\n",
    "              loss=\"sparse_categorical_crossentropy\",\n",
    "              metrics=[\"accuracy\"])\n",
    "model.fit(train_images, train_labels,\n",
    "          epochs=10,\n",
    "          batch_size=128,\n",
    "          validation_split=0.2)"
   ]
  },
  {
   "cell_type": "markdown",
   "metadata": {
    "colab_type": "text"
   },
   "source": [
    "### 5.3.2 더 나은 아키텍처로 향상"
   ]
  },
  {
   "cell_type": "markdown",
   "metadata": {
    "colab_type": "text"
   },
   "source": [
    "### 5.3.3 모델 용량 증가"
   ]
  },
  {
   "cell_type": "markdown",
   "metadata": {
    "colab_type": "text"
   },
   "source": [
    "**MNIST에 대한 단순 로지스틱 회귀 (logistic regression)**"
   ]
  },
  {
   "cell_type": "code",
   "execution_count": 7,
   "metadata": {
    "colab_type": "code",
    "scrolled": false
   },
   "outputs": [
    {
     "name": "stdout",
     "output_type": "stream",
     "text": [
      "Epoch 1/20\n",
      " 16/375 [>.............................] - ETA: 2s - loss: 1.9527 - accuracy: 0.3950"
     ]
    },
    {
     "name": "stderr",
     "output_type": "stream",
     "text": [
      "2022-12-09 17:15:24.132059: I tensorflow/core/grappler/optimizers/custom_graph_optimizer_registry.cc:114] Plugin optimizer for device_type GPU is enabled.\n"
     ]
    },
    {
     "name": "stdout",
     "output_type": "stream",
     "text": [
      "374/375 [============================>.] - ETA: 0s - loss: 0.6754 - accuracy: 0.8319"
     ]
    },
    {
     "name": "stderr",
     "output_type": "stream",
     "text": [
      "2022-12-09 17:15:26.229570: I tensorflow/core/grappler/optimizers/custom_graph_optimizer_registry.cc:114] Plugin optimizer for device_type GPU is enabled.\n"
     ]
    },
    {
     "name": "stdout",
     "output_type": "stream",
     "text": [
      "375/375 [==============================] - 3s 6ms/step - loss: 0.6745 - accuracy: 0.8321 - val_loss: 0.3584 - val_accuracy: 0.9053\n",
      "Epoch 2/20\n",
      "375/375 [==============================] - 2s 6ms/step - loss: 0.3513 - accuracy: 0.9030 - val_loss: 0.3061 - val_accuracy: 0.9148\n",
      "Epoch 3/20\n",
      "375/375 [==============================] - 2s 6ms/step - loss: 0.3157 - accuracy: 0.9122 - val_loss: 0.2920 - val_accuracy: 0.9175\n",
      "Epoch 4/20\n",
      "375/375 [==============================] - 2s 6ms/step - loss: 0.2993 - accuracy: 0.9164 - val_loss: 0.2811 - val_accuracy: 0.9218\n",
      "Epoch 5/20\n",
      "375/375 [==============================] - 2s 6ms/step - loss: 0.2896 - accuracy: 0.9192 - val_loss: 0.2751 - val_accuracy: 0.9247\n",
      "Epoch 6/20\n",
      "375/375 [==============================] - 2s 6ms/step - loss: 0.2828 - accuracy: 0.9211 - val_loss: 0.2716 - val_accuracy: 0.9252\n",
      "Epoch 7/20\n",
      "375/375 [==============================] - 2s 6ms/step - loss: 0.2783 - accuracy: 0.9223 - val_loss: 0.2701 - val_accuracy: 0.9243\n",
      "Epoch 8/20\n",
      "375/375 [==============================] - 2s 6ms/step - loss: 0.2744 - accuracy: 0.9231 - val_loss: 0.2696 - val_accuracy: 0.9265\n",
      "Epoch 9/20\n",
      "375/375 [==============================] - 2s 6ms/step - loss: 0.2713 - accuracy: 0.9244 - val_loss: 0.2655 - val_accuracy: 0.9276\n",
      "Epoch 10/20\n",
      "375/375 [==============================] - 2s 6ms/step - loss: 0.2687 - accuracy: 0.9254 - val_loss: 0.2660 - val_accuracy: 0.9265\n",
      "Epoch 11/20\n",
      "375/375 [==============================] - 2s 6ms/step - loss: 0.2665 - accuracy: 0.9259 - val_loss: 0.2640 - val_accuracy: 0.9273\n",
      "Epoch 12/20\n",
      "375/375 [==============================] - 2s 6ms/step - loss: 0.2646 - accuracy: 0.9270 - val_loss: 0.2620 - val_accuracy: 0.9299\n",
      "Epoch 13/20\n",
      "375/375 [==============================] - 2s 6ms/step - loss: 0.2629 - accuracy: 0.9275 - val_loss: 0.2620 - val_accuracy: 0.9293\n",
      "Epoch 14/20\n",
      "375/375 [==============================] - 2s 6ms/step - loss: 0.2615 - accuracy: 0.9280 - val_loss: 0.2618 - val_accuracy: 0.9312\n",
      "Epoch 15/20\n",
      "375/375 [==============================] - 2s 6ms/step - loss: 0.2605 - accuracy: 0.9285 - val_loss: 0.2626 - val_accuracy: 0.9296\n",
      "Epoch 16/20\n",
      "375/375 [==============================] - 2s 6ms/step - loss: 0.2594 - accuracy: 0.9293 - val_loss: 0.2621 - val_accuracy: 0.9304\n",
      "Epoch 17/20\n",
      "375/375 [==============================] - 2s 6ms/step - loss: 0.2580 - accuracy: 0.9296 - val_loss: 0.2602 - val_accuracy: 0.9306\n",
      "Epoch 18/20\n",
      "375/375 [==============================] - 2s 6ms/step - loss: 0.2573 - accuracy: 0.9297 - val_loss: 0.2617 - val_accuracy: 0.9308\n",
      "Epoch 19/20\n",
      "375/375 [==============================] - 2s 6ms/step - loss: 0.2563 - accuracy: 0.9296 - val_loss: 0.2612 - val_accuracy: 0.9304\n",
      "Epoch 20/20\n",
      "375/375 [==============================] - 2s 6ms/step - loss: 0.2558 - accuracy: 0.9301 - val_loss: 0.2605 - val_accuracy: 0.9312\n"
     ]
    }
   ],
   "source": [
    "model = keras.Sequential([layers.Dense(10, activation=\"softmax\")])\n",
    "model.compile(optimizer=\"rmsprop\",\n",
    "              loss=\"sparse_categorical_crossentropy\",\n",
    "              metrics=[\"accuracy\"])\n",
    "history_small_model = model.fit(\n",
    "    train_images, train_labels,\n",
    "    epochs=20,\n",
    "    batch_size=128,\n",
    "    validation_split=0.2)"
   ]
  },
  {
   "cell_type": "code",
   "execution_count": 8,
   "metadata": {
    "colab_type": "code"
   },
   "outputs": [
    {
     "data": {
      "text/plain": [
       "<matplotlib.legend.Legend at 0x3d24e8d30>"
      ]
     },
     "execution_count": 8,
     "metadata": {},
     "output_type": "execute_result"
    },
    {
     "data": {
      "image/png": "[encoded data removed]",
      "text/plain": [
       "<Figure size 640x480 with 1 Axes>"
      ]
     },
     "metadata": {},
     "output_type": "display_data"
    }
   ],
   "source": [
    "import matplotlib.pyplot as plt\n",
    "val_loss = history_small_model.history[\"val_loss\"]\n",
    "epochs = range(1, 21)\n",
    "plt.plot(epochs, val_loss, \"b--\",\n",
    "         label=\"Validation loss\")\n",
    "plt.title(\"Effect of sufficient model capacity on validation loss\")\n",
    "plt.xlabel(\"Epochs\")\n",
    "plt.ylabel(\"Loss\")\n",
    "plt.legend()"
   ]
  },
  {
   "cell_type": "code",
   "execution_count": 9,
   "metadata": {
    "colab_type": "code",
    "scrolled": false
   },
   "outputs": [
    {
     "name": "stdout",
     "output_type": "stream",
     "text": [
      "Epoch 1/20\n",
      "  1/375 [..............................] - ETA: 3:13 - loss: 2.3273 - accuracy: 0.1250"
     ]
    },
    {
     "name": "stderr",
     "output_type": "stream",
     "text": [
      "2022-12-09 17:16:20.039292: I tensorflow/core/grappler/optimizers/custom_graph_optimizer_registry.cc:114] Plugin optimizer for device_type GPU is enabled.\n"
     ]
    },
    {
     "name": "stdout",
     "output_type": "stream",
     "text": [
      "368/375 [============================>.] - ETA: 0s - loss: 0.3634 - accuracy: 0.8969"
     ]
    },
    {
     "name": "stderr",
     "output_type": "stream",
     "text": [
      "2022-12-09 17:16:22.702069: I tensorflow/core/grappler/optimizers/custom_graph_optimizer_registry.cc:114] Plugin optimizer for device_type GPU is enabled.\n"
     ]
    },
    {
     "name": "stdout",
     "output_type": "stream",
     "text": [
      "375/375 [==============================] - 3s 8ms/step - loss: 0.3600 - accuracy: 0.8979 - val_loss: 0.1818 - val_accuracy: 0.9466\n",
      "Epoch 2/20\n",
      "375/375 [==============================] - 3s 7ms/step - loss: 0.1577 - accuracy: 0.9533 - val_loss: 0.1347 - val_accuracy: 0.9592\n",
      "Epoch 3/20\n",
      "375/375 [==============================] - 3s 7ms/step - loss: 0.1097 - accuracy: 0.9672 - val_loss: 0.1220 - val_accuracy: 0.9637\n",
      "Epoch 4/20\n",
      "375/375 [==============================] - 3s 7ms/step - loss: 0.0859 - accuracy: 0.9749 - val_loss: 0.1053 - val_accuracy: 0.9692\n",
      "Epoch 5/20\n",
      "375/375 [==============================] - 3s 7ms/step - loss: 0.0686 - accuracy: 0.9792 - val_loss: 0.1004 - val_accuracy: 0.9694\n",
      "Epoch 6/20\n",
      "375/375 [==============================] - 3s 8ms/step - loss: 0.0559 - accuracy: 0.9829 - val_loss: 0.0997 - val_accuracy: 0.9707\n",
      "Epoch 7/20\n",
      "375/375 [==============================] - 3s 7ms/step - loss: 0.0468 - accuracy: 0.9853 - val_loss: 0.0964 - val_accuracy: 0.9732\n",
      "Epoch 8/20\n",
      "375/375 [==============================] - 3s 7ms/step - loss: 0.0395 - accuracy: 0.9884 - val_loss: 0.0923 - val_accuracy: 0.9734\n",
      "Epoch 9/20\n",
      "375/375 [==============================] - 3s 7ms/step - loss: 0.0330 - accuracy: 0.9896 - val_loss: 0.0961 - val_accuracy: 0.9735\n",
      "Epoch 10/20\n",
      "375/375 [==============================] - 3s 7ms/step - loss: 0.0281 - accuracy: 0.9912 - val_loss: 0.0993 - val_accuracy: 0.9733\n",
      "Epoch 11/20\n",
      "375/375 [==============================] - 3s 7ms/step - loss: 0.0234 - accuracy: 0.9929 - val_loss: 0.0932 - val_accuracy: 0.9760\n",
      "Epoch 12/20\n",
      "375/375 [==============================] - 3s 7ms/step - loss: 0.0203 - accuracy: 0.9937 - val_loss: 0.1013 - val_accuracy: 0.9747\n",
      "Epoch 13/20\n",
      "375/375 [==============================] - 3s 7ms/step - loss: 0.0164 - accuracy: 0.9951 - val_loss: 0.1080 - val_accuracy: 0.9753\n",
      "Epoch 14/20\n",
      "375/375 [==============================] - 3s 7ms/step - loss: 0.0139 - accuracy: 0.9958 - val_loss: 0.1175 - val_accuracy: 0.9743\n",
      "Epoch 15/20\n",
      "375/375 [==============================] - 3s 7ms/step - loss: 0.0114 - accuracy: 0.9964 - val_loss: 0.1305 - val_accuracy: 0.9703\n",
      "Epoch 16/20\n",
      "375/375 [==============================] - 3s 7ms/step - loss: 0.0101 - accuracy: 0.9970 - val_loss: 0.1144 - val_accuracy: 0.9761\n",
      "Epoch 17/20\n",
      "375/375 [==============================] - 3s 7ms/step - loss: 0.0093 - accuracy: 0.9969 - val_loss: 0.1205 - val_accuracy: 0.9766\n",
      "Epoch 18/20\n",
      "375/375 [==============================] - 3s 8ms/step - loss: 0.0078 - accuracy: 0.9977 - val_loss: 0.1380 - val_accuracy: 0.9747\n",
      "Epoch 19/20\n",
      "375/375 [==============================] - 3s 7ms/step - loss: 0.0063 - accuracy: 0.9981 - val_loss: 0.1276 - val_accuracy: 0.9767\n",
      "Epoch 20/20\n",
      "375/375 [==============================] - 3s 8ms/step - loss: 0.0060 - accuracy: 0.9982 - val_loss: 0.1461 - val_accuracy: 0.9730\n"
     ]
    }
   ],
   "source": [
    "model = keras.Sequential([\n",
    "    layers.Dense(96, activation=\"relu\"),\n",
    "    layers.Dense(96, activation=\"relu\"),\n",
    "    layers.Dense(10, activation=\"softmax\"),\n",
    "])\n",
    "model.compile(optimizer=\"rmsprop\",\n",
    "              loss=\"sparse_categorical_crossentropy\",\n",
    "              metrics=[\"accuracy\"])\n",
    "history_large_model = model.fit(\n",
    "    train_images, train_labels,\n",
    "    epochs=20,\n",
    "    batch_size=128,\n",
    "    validation_split=0.2)"
   ]
  },
  {
   "cell_type": "code",
   "execution_count": 10,
   "metadata": {
    "scrolled": false
   },
   "outputs": [
    {
     "data": {
      "text/plain": [
       "<matplotlib.legend.Legend at 0x3c09431c0>"
      ]
     },
     "execution_count": 10,
     "metadata": {},
     "output_type": "execute_result"
    },
    {
     "data": {
      "image/png": "[encoded data removed]",
      "text/plain": [
       "<Figure size 640x480 with 1 Axes>"
      ]
     },
     "metadata": {},
     "output_type": "display_data"
    }
   ],
   "source": [
    "import matplotlib.pyplot as plt\n",
    "val_loss = history_large_model.history[\"val_loss\"]\n",
    "epochs = range(1, 21)\n",
    "plt.plot(epochs, val_loss, \"b--\",\n",
    "         label=\"Validation loss\")\n",
    "plt.title(\"Effect of sufficient model capacity on validation loss\")\n",
    "plt.xlabel(\"Epochs\")\n",
    "plt.ylabel(\"Loss\")\n",
    "plt.legend()"
   ]
  },
  {
   "cell_type": "markdown",
   "metadata": {
    "colab_type": "text"
   },
   "source": [
    "## 5.4 일반화 향상"
   ]
  },
  {
   "cell_type": "markdown",
   "metadata": {
    "colab_type": "text"
   },
   "source": [
    "### 5.4.1 데이터셋 큐레이션 (curation)"
   ]
  },
  {
   "cell_type": "markdown",
   "metadata": {
    "colab_type": "text"
   },
   "source": [
    "### 5.4.2 특성 공학"
   ]
  },
  {
   "cell_type": "markdown",
   "metadata": {
    "colab_type": "text"
   },
   "source": [
    "### 5.4.3 조기 종료 사용\n",
    "- EarlyStopping 콜백"
   ]
  },
  {
   "cell_type": "markdown",
   "metadata": {
    "colab_type": "text"
   },
   "source": [
    "### 5.4.4 모델 규제"
   ]
  },
  {
   "cell_type": "markdown",
   "metadata": {
    "colab_type": "text"
   },
   "source": [
    "#### 네트워크 크기 축소"
   ]
  },
  {
   "cell_type": "markdown",
   "metadata": {
    "colab_type": "text"
   },
   "source": [
    "**원본 모델**"
   ]
  },
  {
   "cell_type": "code",
   "execution_count": 11,
   "metadata": {
    "colab_type": "code",
    "scrolled": false
   },
   "outputs": [
    {
     "name": "stdout",
     "output_type": "stream",
     "text": [
      "Epoch 1/20\n"
     ]
    },
    {
     "name": "stderr",
     "output_type": "stream",
     "text": [
      "2022-12-09 17:17:34.192872: I tensorflow/core/grappler/optimizers/custom_graph_optimizer_registry.cc:114] Plugin optimizer for device_type GPU is enabled.\n"
     ]
    },
    {
     "name": "stdout",
     "output_type": "stream",
     "text": [
      "30/30 [==============================] - ETA: 0s - loss: 0.5485 - accuracy: 0.7693"
     ]
    },
    {
     "name": "stderr",
     "output_type": "stream",
     "text": [
      "2022-12-09 17:17:35.485094: I tensorflow/core/grappler/optimizers/custom_graph_optimizer_registry.cc:114] Plugin optimizer for device_type GPU is enabled.\n"
     ]
    },
    {
     "name": "stdout",
     "output_type": "stream",
     "text": [
      "30/30 [==============================] - 2s 46ms/step - loss: 0.5485 - accuracy: 0.7693 - val_loss: 0.4315 - val_accuracy: 0.8724\n",
      "Epoch 2/20\n",
      "30/30 [==============================] - 0s 17ms/step - loss: 0.3487 - accuracy: 0.8971 - val_loss: 0.3455 - val_accuracy: 0.8766\n",
      "Epoch 3/20\n",
      "30/30 [==============================] - 0s 15ms/step - loss: 0.2506 - accuracy: 0.9279 - val_loss: 0.2913 - val_accuracy: 0.8880\n",
      "Epoch 4/20\n",
      "30/30 [==============================] - 0s 15ms/step - loss: 0.1960 - accuracy: 0.9395 - val_loss: 0.2822 - val_accuracy: 0.8879\n",
      "Epoch 5/20\n",
      "30/30 [==============================] - 0s 14ms/step - loss: 0.1565 - accuracy: 0.9530 - val_loss: 0.3018 - val_accuracy: 0.8799\n",
      "Epoch 6/20\n",
      "30/30 [==============================] - 0s 14ms/step - loss: 0.1305 - accuracy: 0.9595 - val_loss: 0.3022 - val_accuracy: 0.8826\n",
      "Epoch 7/20\n",
      "30/30 [==============================] - 0s 14ms/step - loss: 0.1064 - accuracy: 0.9687 - val_loss: 0.3536 - val_accuracy: 0.8712\n",
      "Epoch 8/20\n",
      "30/30 [==============================] - 0s 14ms/step - loss: 0.0892 - accuracy: 0.9758 - val_loss: 0.3201 - val_accuracy: 0.8851\n",
      "Epoch 9/20\n",
      "30/30 [==============================] - 0s 14ms/step - loss: 0.0741 - accuracy: 0.9801 - val_loss: 0.3619 - val_accuracy: 0.8790\n",
      "Epoch 10/20\n",
      "30/30 [==============================] - 0s 14ms/step - loss: 0.0609 - accuracy: 0.9841 - val_loss: 0.3660 - val_accuracy: 0.8798\n",
      "Epoch 11/20\n",
      "30/30 [==============================] - 0s 14ms/step - loss: 0.0510 - accuracy: 0.9875 - val_loss: 0.3931 - val_accuracy: 0.8796\n",
      "Epoch 12/20\n",
      "30/30 [==============================] - 0s 14ms/step - loss: 0.0411 - accuracy: 0.9907 - val_loss: 0.4276 - val_accuracy: 0.8762\n",
      "Epoch 13/20\n",
      "30/30 [==============================] - 0s 14ms/step - loss: 0.0331 - accuracy: 0.9934 - val_loss: 0.4581 - val_accuracy: 0.8751\n",
      "Epoch 14/20\n",
      "30/30 [==============================] - 0s 14ms/step - loss: 0.0286 - accuracy: 0.9940 - val_loss: 0.4789 - val_accuracy: 0.8736\n",
      "Epoch 15/20\n",
      "30/30 [==============================] - 0s 14ms/step - loss: 0.0212 - accuracy: 0.9967 - val_loss: 0.5204 - val_accuracy: 0.8727\n",
      "Epoch 16/20\n",
      "30/30 [==============================] - 0s 14ms/step - loss: 0.0182 - accuracy: 0.9966 - val_loss: 0.5438 - val_accuracy: 0.8720\n",
      "Epoch 17/20\n",
      "30/30 [==============================] - 0s 14ms/step - loss: 0.0119 - accuracy: 0.9983 - val_loss: 0.6743 - val_accuracy: 0.8612\n",
      "Epoch 18/20\n",
      "30/30 [==============================] - 0s 14ms/step - loss: 0.0093 - accuracy: 0.9989 - val_loss: 0.7247 - val_accuracy: 0.8601\n",
      "Epoch 19/20\n",
      "30/30 [==============================] - 0s 14ms/step - loss: 0.0101 - accuracy: 0.9983 - val_loss: 0.6499 - val_accuracy: 0.8698\n",
      "Epoch 20/20\n",
      "30/30 [==============================] - 0s 14ms/step - loss: 0.0052 - accuracy: 0.9993 - val_loss: 0.6822 - val_accuracy: 0.8675\n"
     ]
    }
   ],
   "source": [
    "from tensorflow.keras.datasets import imdb\n",
    "(train_data, train_labels), _ = imdb.load_data(num_words=10000)\n",
    "\n",
    "def vectorize_sequences(sequences, dimension=10000):\n",
    "    results = np.zeros((len(sequences), dimension))\n",
    "    for i, sequence in enumerate(sequences):\n",
    "        results[i, sequence] = 1.\n",
    "    return results\n",
    "train_data = vectorize_sequences(train_data)\n",
    "\n",
    "model = keras.Sequential([\n",
    "    layers.Dense(16, activation=\"relu\"),\n",
    "    layers.Dense(16, activation=\"relu\"),\n",
    "    layers.Dense(1, activation=\"sigmoid\")\n",
    "])\n",
    "model.compile(optimizer=\"rmsprop\",\n",
    "              loss=\"binary_crossentropy\",\n",
    "              metrics=[\"accuracy\"])\n",
    "history_original = model.fit(train_data, train_labels,\n",
    "                             epochs=20, batch_size=512, validation_split=0.4)"
   ]
  },
  {
   "cell_type": "markdown",
   "metadata": {
    "colab_type": "text"
   },
   "source": [
    "**작은 용량의 모델**"
   ]
  },
  {
   "cell_type": "code",
   "execution_count": 12,
   "metadata": {
    "colab_type": "code",
    "scrolled": false
   },
   "outputs": [
    {
     "name": "stdout",
     "output_type": "stream",
     "text": [
      "Epoch 1/20\n"
     ]
    },
    {
     "name": "stderr",
     "output_type": "stream",
     "text": [
      "2022-12-09 17:18:00.310797: I tensorflow/core/grappler/optimizers/custom_graph_optimizer_registry.cc:114] Plugin optimizer for device_type GPU is enabled.\n"
     ]
    },
    {
     "name": "stdout",
     "output_type": "stream",
     "text": [
      "30/30 [==============================] - ETA: 0s - loss: 0.6489 - accuracy: 0.6171"
     ]
    },
    {
     "name": "stderr",
     "output_type": "stream",
     "text": [
      "2022-12-09 17:18:01.513592: I tensorflow/core/grappler/optimizers/custom_graph_optimizer_registry.cc:114] Plugin optimizer for device_type GPU is enabled.\n"
     ]
    },
    {
     "name": "stdout",
     "output_type": "stream",
     "text": [
      "30/30 [==============================] - 2s 40ms/step - loss: 0.6489 - accuracy: 0.6171 - val_loss: 0.6146 - val_accuracy: 0.7605\n",
      "Epoch 2/20\n",
      "30/30 [==============================] - 0s 15ms/step - loss: 0.5782 - accuracy: 0.7394 - val_loss: 0.5659 - val_accuracy: 0.7048\n",
      "Epoch 3/20\n",
      "30/30 [==============================] - 0s 15ms/step - loss: 0.5215 - accuracy: 0.7961 - val_loss: 0.5192 - val_accuracy: 0.7961\n",
      "Epoch 4/20\n",
      "30/30 [==============================] - 0s 15ms/step - loss: 0.4739 - accuracy: 0.8543 - val_loss: 0.4948 - val_accuracy: 0.8241\n",
      "Epoch 5/20\n",
      "30/30 [==============================] - 0s 14ms/step - loss: 0.4408 - accuracy: 0.8875 - val_loss: 0.4768 - val_accuracy: 0.8577\n",
      "Epoch 6/20\n",
      "30/30 [==============================] - 0s 14ms/step - loss: 0.4162 - accuracy: 0.9088 - val_loss: 0.4668 - val_accuracy: 0.8611\n",
      "Epoch 7/20\n",
      "30/30 [==============================] - 0s 14ms/step - loss: 0.3949 - accuracy: 0.9255 - val_loss: 0.4658 - val_accuracy: 0.8533\n",
      "Epoch 8/20\n",
      "30/30 [==============================] - 0s 14ms/step - loss: 0.3762 - accuracy: 0.9369 - val_loss: 0.4631 - val_accuracy: 0.8610\n",
      "Epoch 9/20\n",
      "30/30 [==============================] - 0s 15ms/step - loss: 0.3601 - accuracy: 0.9467 - val_loss: 0.4600 - val_accuracy: 0.8665\n",
      "Epoch 10/20\n",
      "30/30 [==============================] - 0s 14ms/step - loss: 0.3458 - accuracy: 0.9536 - val_loss: 0.4593 - val_accuracy: 0.8672\n",
      "Epoch 11/20\n",
      "30/30 [==============================] - 0s 14ms/step - loss: 0.3320 - accuracy: 0.9615 - val_loss: 0.4626 - val_accuracy: 0.8676\n",
      "Epoch 12/20\n",
      "30/30 [==============================] - 0s 14ms/step - loss: 0.3196 - accuracy: 0.9673 - val_loss: 0.4657 - val_accuracy: 0.8674\n",
      "Epoch 13/20\n",
      "30/30 [==============================] - 0s 14ms/step - loss: 0.3077 - accuracy: 0.9726 - val_loss: 0.5090 - val_accuracy: 0.8479\n",
      "Epoch 14/20\n",
      "30/30 [==============================] - 0s 15ms/step - loss: 0.2973 - accuracy: 0.9755 - val_loss: 0.4980 - val_accuracy: 0.8550\n",
      "Epoch 15/20\n",
      "30/30 [==============================] - 0s 14ms/step - loss: 0.2870 - accuracy: 0.9788 - val_loss: 0.4798 - val_accuracy: 0.8670\n",
      "Epoch 16/20\n",
      "30/30 [==============================] - 0s 14ms/step - loss: 0.2780 - accuracy: 0.9813 - val_loss: 0.5351 - val_accuracy: 0.8476\n",
      "Epoch 17/20\n",
      "30/30 [==============================] - 0s 14ms/step - loss: 0.2691 - accuracy: 0.9837 - val_loss: 0.4712 - val_accuracy: 0.8736\n",
      "Epoch 18/20\n",
      "30/30 [==============================] - 0s 14ms/step - loss: 0.2608 - accuracy: 0.9857 - val_loss: 0.5172 - val_accuracy: 0.8602\n",
      "Epoch 19/20\n",
      "30/30 [==============================] - 0s 15ms/step - loss: 0.2527 - accuracy: 0.9867 - val_loss: 0.4815 - val_accuracy: 0.8732\n",
      "Epoch 20/20\n",
      "30/30 [==============================] - 0s 14ms/step - loss: 0.2449 - accuracy: 0.9885 - val_loss: 0.5172 - val_accuracy: 0.8658\n"
     ]
    }
   ],
   "source": [
    "model = keras.Sequential([\n",
    "    layers.Dense(4, activation=\"relu\"),\n",
    "    layers.Dense(4, activation=\"relu\"),\n",
    "    layers.Dense(1, activation=\"sigmoid\")\n",
    "])\n",
    "model.compile(optimizer=\"rmsprop\",\n",
    "              loss=\"binary_crossentropy\",\n",
    "              metrics=[\"accuracy\"])\n",
    "history_smaller_model = model.fit(\n",
    "    train_data, train_labels,\n",
    "    epochs=20, batch_size=512, validation_split=0.4)"
   ]
  },
  {
   "cell_type": "markdown",
   "metadata": {
    "colab_type": "text"
   },
   "source": [
    "**큰 용량의 모델**"
   ]
  },
  {
   "cell_type": "code",
   "execution_count": 13,
   "metadata": {
    "colab_type": "code",
    "scrolled": true
   },
   "outputs": [
    {
     "name": "stdout",
     "output_type": "stream",
     "text": [
      "Epoch 1/20\n"
     ]
    },
    {
     "name": "stderr",
     "output_type": "stream",
     "text": [
      "2022-12-09 17:18:13.418192: I tensorflow/core/grappler/optimizers/custom_graph_optimizer_registry.cc:114] Plugin optimizer for device_type GPU is enabled.\n"
     ]
    },
    {
     "name": "stdout",
     "output_type": "stream",
     "text": [
      "30/30 [==============================] - ETA: 0s - loss: 0.5502 - accuracy: 0.7552"
     ]
    },
    {
     "name": "stderr",
     "output_type": "stream",
     "text": [
      "2022-12-09 17:18:14.758945: I tensorflow/core/grappler/optimizers/custom_graph_optimizer_registry.cc:114] Plugin optimizer for device_type GPU is enabled.\n"
     ]
    },
    {
     "name": "stdout",
     "output_type": "stream",
     "text": [
      "30/30 [==============================] - 2s 46ms/step - loss: 0.5502 - accuracy: 0.7552 - val_loss: 0.3136 - val_accuracy: 0.8716\n",
      "Epoch 2/20\n",
      "30/30 [==============================] - 1s 23ms/step - loss: 0.2439 - accuracy: 0.9027 - val_loss: 0.2707 - val_accuracy: 0.8915\n",
      "Epoch 3/20\n",
      "30/30 [==============================] - 1s 23ms/step - loss: 0.1504 - accuracy: 0.9426 - val_loss: 0.7215 - val_accuracy: 0.7530\n",
      "Epoch 4/20\n",
      "30/30 [==============================] - 1s 22ms/step - loss: 0.1047 - accuracy: 0.9657 - val_loss: 0.3044 - val_accuracy: 0.8884\n",
      "Epoch 5/20\n",
      "30/30 [==============================] - 1s 22ms/step - loss: 0.0222 - accuracy: 0.9946 - val_loss: 1.3980 - val_accuracy: 0.7138\n",
      "Epoch 6/20\n",
      "30/30 [==============================] - 1s 25ms/step - loss: 0.0290 - accuracy: 0.9907 - val_loss: 0.5462 - val_accuracy: 0.8859\n",
      "Epoch 7/20\n",
      "30/30 [==============================] - 1s 24ms/step - loss: 9.9649e-04 - accuracy: 0.9999 - val_loss: 0.6360 - val_accuracy: 0.8882\n",
      "Epoch 8/20\n",
      "30/30 [==============================] - 1s 23ms/step - loss: 0.2340 - accuracy: 0.9783 - val_loss: 0.4974 - val_accuracy: 0.8846\n",
      "Epoch 9/20\n",
      "30/30 [==============================] - 1s 23ms/step - loss: 0.0014 - accuracy: 0.9999 - val_loss: 0.5749 - val_accuracy: 0.8843\n",
      "Epoch 10/20\n",
      "30/30 [==============================] - 1s 21ms/step - loss: 3.5572e-04 - accuracy: 0.9999 - val_loss: 0.6625 - val_accuracy: 0.8845\n",
      "Epoch 11/20\n",
      "30/30 [==============================] - 1s 22ms/step - loss: 7.2709e-05 - accuracy: 1.0000 - val_loss: 0.7809 - val_accuracy: 0.8859\n",
      "Epoch 12/20\n",
      "30/30 [==============================] - 1s 22ms/step - loss: 1.7411e-05 - accuracy: 1.0000 - val_loss: 0.8944 - val_accuracy: 0.8850\n",
      "Epoch 13/20\n",
      "30/30 [==============================] - 1s 22ms/step - loss: 4.4976e-06 - accuracy: 1.0000 - val_loss: 0.9966 - val_accuracy: 0.8858\n",
      "Epoch 14/20\n",
      "30/30 [==============================] - 1s 22ms/step - loss: 1.2067e-06 - accuracy: 1.0000 - val_loss: 1.0955 - val_accuracy: 0.8850\n",
      "Epoch 15/20\n",
      "30/30 [==============================] - 1s 23ms/step - loss: 4.0068e-07 - accuracy: 1.0000 - val_loss: 1.1630 - val_accuracy: 0.8855\n",
      "Epoch 16/20\n",
      "30/30 [==============================] - 1s 22ms/step - loss: 1.4939e-07 - accuracy: 1.0000 - val_loss: 1.2490 - val_accuracy: 0.8844\n",
      "Epoch 17/20\n",
      "30/30 [==============================] - 1s 22ms/step - loss: 6.2611e-08 - accuracy: 1.0000 - val_loss: 1.2979 - val_accuracy: 0.8848\n",
      "Epoch 18/20\n",
      "30/30 [==============================] - 1s 22ms/step - loss: 3.2655e-08 - accuracy: 1.0000 - val_loss: 1.3414 - val_accuracy: 0.8843\n",
      "Epoch 19/20\n",
      "30/30 [==============================] - 1s 23ms/step - loss: 2.1060e-08 - accuracy: 1.0000 - val_loss: 1.3672 - val_accuracy: 0.8848\n",
      "Epoch 20/20\n",
      "30/30 [==============================] - 1s 21ms/step - loss: 1.5209e-08 - accuracy: 1.0000 - val_loss: 1.3876 - val_accuracy: 0.8843\n"
     ]
    }
   ],
   "source": [
    "model = keras.Sequential([\n",
    "    layers.Dense(512, activation=\"relu\"),\n",
    "    layers.Dense(512, activation=\"relu\"),\n",
    "    layers.Dense(1, activation=\"sigmoid\")\n",
    "])\n",
    "model.compile(optimizer=\"rmsprop\",\n",
    "              loss=\"binary_crossentropy\",\n",
    "              metrics=[\"accuracy\"])\n",
    "history_larger_model = model.fit(\n",
    "    train_data, train_labels,\n",
    "    epochs=20, batch_size=512, validation_split=0.4)"
   ]
  },
  {
   "cell_type": "code",
   "execution_count": 27,
   "metadata": {},
   "outputs": [
    {
     "data": {
      "image/png": "[encoded data removed]",
      "text/plain": [
       "<Figure size 640x480 with 1 Axes>"
      ]
     },
     "metadata": {},
     "output_type": "display_data"
    }
   ],
   "source": [
    "import matplotlib.pyplot as plt\n",
    "val_loss_original = history_original.history[\"val_loss\"]\n",
    "val_loss_smaller = history_smaller_model.history[\"val_loss\"]\n",
    "val_loss_larger = history_larger_model.history[\"val_loss\"]\n",
    "epochs = range(1, len(val_loss_original)+1)\n",
    "plt.plot(epochs, val_loss_original, \"g--\",\n",
    "         label=\"Validation accuracy of original model\")\n",
    "plt.plot(epochs, val_loss_smaller, \"r-\",\n",
    "         label=\"Validation accuracy of smaller model\")\n",
    "plt.plot(epochs, val_loss_larger, \"b-\",\n",
    "         label=\"Validation accuracy of larger model\")\n",
    "plt.title(\"Validation loss of various capacity model\")\n",
    "plt.xlabel(\"Epochs\")\n",
    "plt.ylabel(\"Loss\")\n",
    "plt.legend()\n",
    "plt.show()"
   ]
  },
  {
   "cell_type": "markdown",
   "metadata": {
    "colab_type": "text"
   },
   "source": [
    "#### 가중치 규제 추가\n",
    "- 일반적으로 작은 딥러닝 모델에서 사용"
   ]
  },
  {
   "cell_type": "markdown",
   "metadata": {
    "colab_type": "text"
   },
   "source": [
    "**모델에 L2 가중치 규제 추가**"
   ]
  },
  {
   "cell_type": "code",
   "execution_count": 28,
   "metadata": {
    "colab_type": "code",
    "scrolled": false
   },
   "outputs": [
    {
     "name": "stdout",
     "output_type": "stream",
     "text": [
      "Epoch 1/20\n"
     ]
    },
    {
     "name": "stderr",
     "output_type": "stream",
     "text": [
      "2022-12-09 22:33:25.076118: I tensorflow/core/grappler/optimizers/custom_graph_optimizer_registry.cc:114] Plugin optimizer for device_type GPU is enabled.\n"
     ]
    },
    {
     "name": "stdout",
     "output_type": "stream",
     "text": [
      "30/30 [==============================] - ETA: 0s - loss: 0.5829 - accuracy: 0.7921"
     ]
    },
    {
     "name": "stderr",
     "output_type": "stream",
     "text": [
      "2022-12-09 22:33:26.697313: I tensorflow/core/grappler/optimizers/custom_graph_optimizer_registry.cc:114] Plugin optimizer for device_type GPU is enabled.\n"
     ]
    },
    {
     "name": "stdout",
     "output_type": "stream",
     "text": [
      "30/30 [==============================] - 2s 54ms/step - loss: 0.5829 - accuracy: 0.7921 - val_loss: 0.4516 - val_accuracy: 0.8742\n",
      "Epoch 2/20\n",
      "30/30 [==============================] - 1s 23ms/step - loss: 0.3935 - accuracy: 0.8943 - val_loss: 0.3891 - val_accuracy: 0.8812\n",
      "Epoch 3/20\n",
      "30/30 [==============================] - 1s 21ms/step - loss: 0.3246 - accuracy: 0.9172 - val_loss: 0.3867 - val_accuracy: 0.8740\n",
      "Epoch 4/20\n",
      "30/30 [==============================] - 1s 21ms/step - loss: 0.2940 - accuracy: 0.9270 - val_loss: 0.3550 - val_accuracy: 0.8897\n",
      "Epoch 5/20\n",
      "30/30 [==============================] - 1s 22ms/step - loss: 0.2774 - accuracy: 0.9327 - val_loss: 0.3554 - val_accuracy: 0.8875\n",
      "Epoch 6/20\n",
      "30/30 [==============================] - 1s 24ms/step - loss: 0.2610 - accuracy: 0.9389 - val_loss: 0.3646 - val_accuracy: 0.8848\n",
      "Epoch 7/20\n",
      "30/30 [==============================] - 1s 24ms/step - loss: 0.2510 - accuracy: 0.9430 - val_loss: 0.3623 - val_accuracy: 0.8851\n",
      "Epoch 8/20\n",
      "30/30 [==============================] - 1s 24ms/step - loss: 0.2412 - accuracy: 0.9471 - val_loss: 0.3663 - val_accuracy: 0.8815\n",
      "Epoch 9/20\n",
      "30/30 [==============================] - 1s 21ms/step - loss: 0.2385 - accuracy: 0.9467 - val_loss: 0.3750 - val_accuracy: 0.8819\n",
      "Epoch 10/20\n",
      "30/30 [==============================] - 1s 23ms/step - loss: 0.2305 - accuracy: 0.9502 - val_loss: 0.3861 - val_accuracy: 0.8782\n",
      "Epoch 11/20\n",
      "30/30 [==============================] - 1s 21ms/step - loss: 0.2308 - accuracy: 0.9492 - val_loss: 0.4224 - val_accuracy: 0.8711\n",
      "Epoch 12/20\n",
      "30/30 [==============================] - 1s 23ms/step - loss: 0.2212 - accuracy: 0.9530 - val_loss: 0.3869 - val_accuracy: 0.8796\n",
      "Epoch 13/20\n",
      "30/30 [==============================] - 1s 24ms/step - loss: 0.2132 - accuracy: 0.9573 - val_loss: 0.3877 - val_accuracy: 0.8780\n",
      "Epoch 14/20\n",
      "30/30 [==============================] - 1s 21ms/step - loss: 0.2198 - accuracy: 0.9525 - val_loss: 0.3920 - val_accuracy: 0.8772\n",
      "Epoch 15/20\n",
      "30/30 [==============================] - 1s 22ms/step - loss: 0.2170 - accuracy: 0.9515 - val_loss: 0.4108 - val_accuracy: 0.8746\n",
      "Epoch 16/20\n",
      "30/30 [==============================] - 1s 21ms/step - loss: 0.2060 - accuracy: 0.9597 - val_loss: 0.4016 - val_accuracy: 0.8771\n",
      "Epoch 17/20\n",
      "30/30 [==============================] - 1s 22ms/step - loss: 0.2106 - accuracy: 0.9552 - val_loss: 0.4076 - val_accuracy: 0.8762\n",
      "Epoch 18/20\n",
      "30/30 [==============================] - 1s 23ms/step - loss: 0.2097 - accuracy: 0.9565 - val_loss: 0.4475 - val_accuracy: 0.8689\n",
      "Epoch 19/20\n",
      "30/30 [==============================] - 1s 23ms/step - loss: 0.2037 - accuracy: 0.9602 - val_loss: 0.4453 - val_accuracy: 0.8668\n",
      "Epoch 20/20\n",
      "30/30 [==============================] - 1s 24ms/step - loss: 0.2023 - accuracy: 0.9607 - val_loss: 0.4193 - val_accuracy: 0.8759\n"
     ]
    }
   ],
   "source": [
    "from tensorflow.keras import regularizers\n",
    "model = keras.Sequential([\n",
    "    layers.Dense(16,\n",
    "                 kernel_regularizer=regularizers.l2(0.002),\n",
    "                 activation=\"relu\"),\n",
    "    layers.Dense(16,\n",
    "                 kernel_regularizer=regularizers.l2(0.002),\n",
    "                 activation=\"relu\"),\n",
    "    layers.Dense(1, activation=\"sigmoid\")\n",
    "])\n",
    "model.compile(optimizer=\"rmsprop\",\n",
    "              loss=\"binary_crossentropy\",\n",
    "              metrics=[\"accuracy\"])\n",
    "history_l2_reg = model.fit(\n",
    "    train_data, train_labels,\n",
    "    epochs=20, batch_size=512, validation_split=0.4)"
   ]
  },
  {
   "cell_type": "code",
   "execution_count": 35,
   "metadata": {},
   "outputs": [
    {
     "data": {
      "image/png": "[encoded data removed]",
      "text/plain": [
       "<Figure size 640x480 with 1 Axes>"
      ]
     },
     "metadata": {},
     "output_type": "display_data"
    }
   ],
   "source": [
    "import matplotlib.pyplot as plt\n",
    "val_loss_original = history_original.history[\"val_loss\"]\n",
    "val_loss_12_reg = history_l2_reg.history[\"val_loss\"]\n",
    "epochs = range(1, len(val_loss_original)+1)\n",
    "plt.plot(epochs, val_loss_original, \"b--\", label=\"validation loss of original model\")\n",
    "plt.plot(epochs, val_loss_12_reg, \"b-\", label=\"validation loss of L2-regularization model\")\n",
    "plt.title(\"Validation loss for L2 regularization\")\n",
    "plt.xlabel(\"Epochs\")\n",
    "plt.ylabel(\"Loss\")\n",
    "plt.legend()\n",
    "plt.show()\n"
   ]
  },
  {
   "cell_type": "markdown",
   "metadata": {
    "colab_type": "text"
   },
   "source": [
    "**케라스에서 사용 가능한 다른 가중치 규제**"
   ]
  },
  {
   "cell_type": "code",
   "execution_count": 38,
   "metadata": {
    "colab_type": "code"
   },
   "outputs": [
    {
     "data": {
      "text/plain": [
       "<keras.regularizers.L1L2 at 0x4ff9aad30>"
      ]
     },
     "execution_count": 38,
     "metadata": {},
     "output_type": "execute_result"
    }
   ],
   "source": [
    "from tensorflow.keras import regularizers\n",
    "regularizers.l1(0.001)\n",
    "regularizers.l1_l2(l1=0.001, l2=0.001)"
   ]
  },
  {
   "cell_type": "markdown",
   "metadata": {
    "colab_type": "text"
   },
   "source": [
    "#### 드롭아웃 추가\n",
    "- 가장 효과적이고 널리 사용"
   ]
  },
  {
   "cell_type": "markdown",
   "metadata": {
    "colab_type": "text"
   },
   "source": [
    "**IMDB 모델에 드롭아웃 추가**"
   ]
  },
  {
   "cell_type": "code",
   "execution_count": 39,
   "metadata": {
    "colab_type": "code"
   },
   "outputs": [
    {
     "name": "stdout",
     "output_type": "stream",
     "text": [
      "Epoch 1/20\n"
     ]
    },
    {
     "name": "stderr",
     "output_type": "stream",
     "text": [
      "2022-12-09 23:01:07.742924: I tensorflow/core/grappler/optimizers/custom_graph_optimizer_registry.cc:114] Plugin optimizer for device_type GPU is enabled.\n"
     ]
    },
    {
     "name": "stdout",
     "output_type": "stream",
     "text": [
      "30/30 [==============================] - ETA: 0s - loss: 0.5956 - accuracy: 0.6806"
     ]
    },
    {
     "name": "stderr",
     "output_type": "stream",
     "text": [
      "2022-12-09 23:01:09.028331: I tensorflow/core/grappler/optimizers/custom_graph_optimizer_registry.cc:114] Plugin optimizer for device_type GPU is enabled.\n"
     ]
    },
    {
     "name": "stdout",
     "output_type": "stream",
     "text": [
      "30/30 [==============================] - 2s 46ms/step - loss: 0.5956 - accuracy: 0.6806 - val_loss: 0.4808 - val_accuracy: 0.8569\n",
      "Epoch 2/20\n",
      "30/30 [==============================] - 0s 16ms/step - loss: 0.4518 - accuracy: 0.8175 - val_loss: 0.3727 - val_accuracy: 0.8796\n",
      "Epoch 3/20\n",
      "30/30 [==============================] - 0s 17ms/step - loss: 0.3668 - accuracy: 0.8608 - val_loss: 0.3222 - val_accuracy: 0.8829\n",
      "Epoch 4/20\n",
      "30/30 [==============================] - 0s 16ms/step - loss: 0.3156 - accuracy: 0.8853 - val_loss: 0.2922 - val_accuracy: 0.8888\n",
      "Epoch 5/20\n",
      "30/30 [==============================] - 0s 15ms/step - loss: 0.2712 - accuracy: 0.9015 - val_loss: 0.2782 - val_accuracy: 0.8916\n",
      "Epoch 6/20\n",
      "30/30 [==============================] - 0s 15ms/step - loss: 0.2365 - accuracy: 0.9189 - val_loss: 0.2761 - val_accuracy: 0.8891\n",
      "Epoch 7/20\n",
      "30/30 [==============================] - 0s 16ms/step - loss: 0.2091 - accuracy: 0.9310 - val_loss: 0.2774 - val_accuracy: 0.8919\n",
      "Epoch 8/20\n",
      "30/30 [==============================] - 0s 16ms/step - loss: 0.1846 - accuracy: 0.9383 - val_loss: 0.2885 - val_accuracy: 0.8888\n",
      "Epoch 9/20\n",
      "30/30 [==============================] - 0s 16ms/step - loss: 0.1572 - accuracy: 0.9496 - val_loss: 0.2980 - val_accuracy: 0.8902\n",
      "Epoch 10/20\n",
      "30/30 [==============================] - 0s 15ms/step - loss: 0.1444 - accuracy: 0.9534 - val_loss: 0.3161 - val_accuracy: 0.8892\n",
      "Epoch 11/20\n",
      "30/30 [==============================] - 0s 16ms/step - loss: 0.1302 - accuracy: 0.9590 - val_loss: 0.3293 - val_accuracy: 0.8882\n",
      "Epoch 12/20\n",
      "30/30 [==============================] - 0s 15ms/step - loss: 0.1152 - accuracy: 0.9635 - val_loss: 0.3713 - val_accuracy: 0.8856\n",
      "Epoch 13/20\n",
      "30/30 [==============================] - 0s 15ms/step - loss: 0.1026 - accuracy: 0.9667 - val_loss: 0.3795 - val_accuracy: 0.8881\n",
      "Epoch 14/20\n",
      "30/30 [==============================] - 0s 15ms/step - loss: 0.0930 - accuracy: 0.9717 - val_loss: 0.4224 - val_accuracy: 0.8867\n",
      "Epoch 15/20\n",
      "30/30 [==============================] - 0s 15ms/step - loss: 0.0850 - accuracy: 0.9732 - val_loss: 0.4684 - val_accuracy: 0.8767\n",
      "Epoch 16/20\n",
      "30/30 [==============================] - 0s 16ms/step - loss: 0.0765 - accuracy: 0.9767 - val_loss: 0.4546 - val_accuracy: 0.8862\n",
      "Epoch 17/20\n",
      "30/30 [==============================] - 0s 15ms/step - loss: 0.0682 - accuracy: 0.9781 - val_loss: 0.4740 - val_accuracy: 0.8867\n",
      "Epoch 18/20\n",
      "30/30 [==============================] - 0s 15ms/step - loss: 0.0698 - accuracy: 0.9779 - val_loss: 0.4975 - val_accuracy: 0.8838\n",
      "Epoch 19/20\n",
      "30/30 [==============================] - 0s 15ms/step - loss: 0.0615 - accuracy: 0.9808 - val_loss: 0.5665 - val_accuracy: 0.8806\n",
      "Epoch 20/20\n",
      "30/30 [==============================] - 0s 15ms/step - loss: 0.0593 - accuracy: 0.9802 - val_loss: 0.5365 - val_accuracy: 0.8831\n"
     ]
    }
   ],
   "source": [
    "model = keras.Sequential([\n",
    "    layers.Dense(16, activation=\"relu\"),\n",
    "    layers.Dropout(0.5),\n",
    "    layers.Dense(16, activation=\"relu\"),\n",
    "    layers.Dropout(0.5),\n",
    "    layers.Dense(1, activation=\"sigmoid\")\n",
    "])\n",
    "model.compile(optimizer=\"rmsprop\",\n",
    "              loss=\"binary_crossentropy\",\n",
    "              metrics=[\"accuracy\"])\n",
    "history_dropout = model.fit(\n",
    "    train_data, train_labels,\n",
    "    epochs=20, batch_size=512, validation_split=0.4)"
   ]
  },
  {
   "cell_type": "code",
   "execution_count": 40,
   "metadata": {},
   "outputs": [
    {
     "data": {
      "text/plain": [
       "<matplotlib.legend.Legend at 0x4ff96ea30>"
      ]
     },
     "execution_count": 40,
     "metadata": {},
     "output_type": "execute_result"
    },
    {
     "data": {
      "image/png": "[encoded data removed]",
      "text/plain": [
       "<Figure size 640x480 with 1 Axes>"
      ]
     },
     "metadata": {},
     "output_type": "display_data"
    }
   ],
   "source": [
    "import matplotlib.pyplot as plt\n",
    "val_loss_original = history_original.history[\"val_loss\"]\n",
    "val_loss_dropout = history_dropout.history[\"val_loss\"]\n",
    "epochs = range(1, len(val_loss_original)+1)\n",
    "plt.plot(epochs, val_loss_original, \"b--\", label=\"validation loss of original model\")\n",
    "plt.plot(epochs, val_loss_dropout, \"b-\", label=\"validation loss of dropout-regularization model\")\n",
    "plt.title(\"Validation loss for dropout regularization\")\n",
    "plt.xlabel(\"Epochs\")\n",
    "plt.ylabel(\"Loss\")\n",
    "plt.legend()"
   ]
  },
  {
   "cell_type": "markdown",
   "metadata": {
    "colab_type": "text"
   },
   "source": [
    "## 5.5 요약"
   ]
  }
 ],
 "metadata": {
  "colab": {
   "collapsed_sections": [],
   "name": "chapter05_fundamentals-of-ml.i",
   "private_outputs": false,
   "provenance": [],
   "toc_visible": true
  },
  "kernelspec": {
   "display_name": "Python 3 (ipykernel)",
   "language": "python",
   "name": "python3"
  },
  "language_info": {
   "codemirror_mode": {
    "name": "ipython",
    "version": 3
   },
   "file_extension": ".py",
   "mimetype": "text/x-python",
   "name": "python",
   "nbconvert_exporter": "python",
   "pygments_lexer": "ipython3",
   "version": "3.9.13"
  }
 },
 "nbformat": 4,
 "nbformat_minor": 1
}

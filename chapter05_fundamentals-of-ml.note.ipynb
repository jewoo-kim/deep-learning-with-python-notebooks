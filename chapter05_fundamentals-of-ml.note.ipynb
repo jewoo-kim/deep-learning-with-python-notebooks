{
 "cells": [
  {
   "cell_type": "markdown",
   "metadata": {
    "colab_type": "text"
   },
   "source": [
    "# 옮긴이:"
   ]
  },
  {
   "cell_type": "markdown",
   "metadata": {
    "colab_type": "text"
   },
   "source": [
    "# 1 가중치 규제"
   ]
  },
  {
   "cell_type": "markdown",
   "metadata": {},
   "source": [
    "## 1.1 `tf.keras.regularizers.l2`\n",
    "\n",
    "- L2 규제 벌칙을 적용하는 규제\n",
    "\n",
    "\n",
    "- L2 규제 벌칙은 다음과 같이 계산:\n",
    "```python\n",
    "loss = l2 * reduce_sum(square(x))\n",
    "```    \n",
    "    \n",
    "- L2 는 문자열 식별자로 층에 전달될 것이다. 이 경우, 기본값 `l2=0.01` 사용\n",
    "```python\n",
    "dense = tf.keras.layers.Dense(3, kernel_reqularizer='12')\n",
    "```"
   ]
  },
  {
   "cell_type": "markdown",
   "metadata": {},
   "source": [
    "**서명:**\n",
    "\n",
    "```python\n",
    "regularizers.l2(l2=0.01, **kwargs)\n",
    "```\n",
    "\n",
    "- 인자:\n",
    "  - `l2`: 부동소수점; L2 규제 인자."
   ]
  },
  {
   "cell_type": "markdown",
   "metadata": {},
   "source": [
    "**소스:**\n",
    "\n",
    "```python\n",
    "@keras_export(\"keras.regularizers.L2\", \"keras.regularizers.l2\")\n",
    "class L2(Regularizer):\n",
    "    def __init__(self, l2=0.01, **kwargs):\n",
    "        l2 = kwargs.pop(\"l\", l2)  # Backwards compatibility\n",
    "        if kwargs:\n",
    "            raise TypeError(f\"Argument(s) not recognized: {kwargs}\")\n",
    "\n",
    "        l2 = 0.01 if l2 is None else l2\n",
    "        _check_penalty_number(l2)\n",
    "\n",
    "        self.l2 = backend.cast_to_floatx(l2)\n",
    "\n",
    "    def __call__(self, x):\n",
    "        # equivalent to \"self.l2 * tf.reduce_sum(tf.square(x))\"\n",
    "        return 2.0 * self.l2 * tf.nn.l2_loss(x)\n",
    "\n",
    "    def get_config(self):\n",
    "        return {\"l2\": float(self.l2)}\n",
    "```"
   ]
  },
  {
   "cell_type": "markdown",
   "metadata": {},
   "source": [
    "## 1.2 `tf.keras.regularizers.l1`\n",
    "\n",
    "- L1 규제 벌칙을 적용하는 규제\n",
    "\n",
    "\n",
    "- L1 규제 벌칙은 다음과 같이 계산:\n",
    "```python\n",
    "loss = l2 * reduce_sum(abs(x))\n",
    "```    \n",
    "    \n",
    "- L2 는 문자열 식별자로 층에 전달될 것이다. 이 경우, 기본값 `l1=0.01` 사용\n",
    "```python\n",
    "dense = tf.keras.layers.Dense(3, kernel_reqularizer='11')\n",
    "```"
   ]
  },
  {
   "cell_type": "markdown",
   "metadata": {},
   "source": [
    "**서명:**\n",
    "\n",
    "\n",
    "```python\n",
    "regularizers.l1(l1=0.01, **kwargs)\n",
    "```\n",
    "\n",
    "- 인자:\n",
    "  - `l1`: 부동소수점; L1 규제 인자."
   ]
  },
  {
   "cell_type": "markdown",
   "metadata": {},
   "source": [
    "**소스:**\n",
    "\n",
    "```python\n",
    "@keras_export(\"keras.regularizers.L1\", \"keras.regularizers.l1\")\n",
    "class L1(Regularizer):\n",
    "    def __init__(self, l1=0.01, **kwargs):\n",
    "        l1 = kwargs.pop(\"l\", l1)  # Backwards compatibility\n",
    "        if kwargs:\n",
    "            raise TypeError(f\"Argument(s) not recognized: {kwargs}\")\n",
    "\n",
    "        l1 = 0.01 if l1 is None else l1\n",
    "        _check_penalty_number(l1)\n",
    "\n",
    "        self.l1 = backend.cast_to_floatx(l1)\n",
    "\n",
    "    def __call__(self, x):\n",
    "        return self.l1 * tf.reduce_sum(tf.abs(x))\n",
    "\n",
    "    def get_config(self):\n",
    "        return {\"l1\": float(self.l1)}\n",
    "```"
   ]
  },
  {
   "cell_type": "markdown",
   "metadata": {
    "colab_type": "text"
   },
   "source": [
    "## 1.3 `tf.keras.regularizers.l1_l2`\n",
    "\n",
    "- L1 및 L2 규제 벌칙을 적용하는 규제\n",
    "\n",
    "\n",
    "- L1 규제 벌칙은 다음과 같이 계산:\n",
    "```python\n",
    "loss = l2 * reduce_sum(abs(x))\n",
    "```    \n",
    "\n",
    "- L2 규제 벌칙은 다음과 같이 계산:\n",
    "```python\n",
    "loss = l2 * reduce_sum(square(x))\n",
    "```"
   ]
  },
  {
   "cell_type": "markdown",
   "metadata": {},
   "source": [
    "**서명:**\n",
    "\n",
    "\n",
    "```python\n",
    "regularizers.l1_l2(l1=0.01, l2=0.01)\n",
    "```\n",
    "\n",
    "- 인자:\n",
    "  - `l1`: 부동소수점; L1 규제 인자.\n",
    "  - `l2`: 부동소수점; L2 규제 인자.\n",
    "  \n",
    "- 반환:\n",
    "  - 주어진 규제 인자로 L1L2 규제 반환"
   ]
  },
  {
   "cell_type": "markdown",
   "metadata": {},
   "source": [
    "**소스:**\n",
    "\n",
    "```python\n",
    "keras_export(\"keras.regularizers.l1_l2\")\n",
    "def l1_l2(l1=0.01, l2=0.01):\n",
    "    return L1L2(l1=l1, l2=l2)\n",
    "```"
   ]
  },
  {
   "cell_type": "markdown",
   "metadata": {
    "colab_type": "text"
   },
   "source": [
    "# 2 드롭아웃 규제"
   ]
  },
  {
   "cell_type": "markdown",
   "metadata": {},
   "source": [
    "## 2.1 `tf.keras.layers.Dropout`\n",
    "\n",
    "- 입력에 드롭아웃 적용.\n",
    "\n",
    "\n",
    "- 드롭아웃 층은 훈련 시간동안 각 단계에서 `rate` 빈도를 가지고 무작위로 입력 유닛을 0으로 설정하는데, 이는 과적합을 방지하는 데 도움을 준다.\n",
    "0으로 설정되지 않은 입력은 모든 입력에 대한 합계가 변경되지 않도록 1/(1 - rate)만큼 확장된다.\n",
    "\n",
    "\n",
    "- 드롭아웃 층은 오직 `training`이 참으로 설정될 때에만 적용되는데 이것은 추론 동안에 어떤 값도 제외되지 않는다.\n",
    "`model.fit`을 사용할 때, `training`은 자동적을 적절하게 참으로 설정될 것이고, 다른 문맥에서는, 층을 호출할 때 명시적으로 kwarg을 참으로 설정 할 수 있다.\n",
    "\n",
    "\n",
    "- (이것은 드롭아웃 층에 대하여 `trainable=False`와 대조된다. 드롭아웃에는 훈련 중에 동결될 수 있는 변수/가중치가 없기 때문에 `trainable`은 층의 동작에 영향을 미치지 않는다.)"
   ]
  },
  {
   "cell_type": "markdown",
   "metadata": {},
   "source": [
    "**서명:**\n",
    "\n",
    "\n",
    "```python\n",
    "layers.Dropout(rate, noise_shape=None, seed=None, **kwargs)\n",
    "```\n",
    "\n",
    "- 인자:\n",
    "  - `rate`: 0 과 1 사이의 부동소수점. 제외시킬 입력 유닛의 비율.\n",
    "  - `noise_shape`: 입력과 곱해질 이진 드롭아웃 마스크의 형태를 표현하는 1D 정수 텐서. \n",
    "     예를 들어, 입력이 `(batch_size, timesteps, features)` 형태를 가지고 있고 드롭아웃 마스크가 모든 timesteps에 대하여 동일하기를 원하면, `noise_shape=(batch_size, 1, features)`를 사용할 수 있다.\n",
    "  - `seed`: 무작위 시드로 사용될 파이썬 정수.\n",
    "  \n",
    "\n",
    "- 호출 인자:\n",
    "  - `inputs`: (모든 순위의) 입력 텐서.\n",
    "  - `training`: 층이 훈련 모드(드롭아웃 추가) 또는 추론 모드(아무것도 하지 않음) 작동 여부를 지시하는 Python 참/거짓."
   ]
  },
  {
   "cell_type": "markdown",
   "metadata": {},
   "source": [
    "**소스:**\n",
    "\n",
    "```python\n",
    "@keras_export(\"keras.layers.Dropout\")\n",
    "class Dropout(base_layer.BaseRandomLayer):\n",
    "    def __init__(self, rate, noise_shape=None, seed=None, **kwargs):\n",
    "        super().__init__(seed=seed, **kwargs)\n",
    "        if isinstance(rate, (int, float)) and not 0 <= rate <= 1:\n",
    "            raise ValueError(\n",
    "                f\"Invalid value {rate} received for \"\n",
    "                f\"`rate`, expected a value between 0 and 1.\"\n",
    "            )\n",
    "        self.rate = rate\n",
    "        self.noise_shape = noise_shape\n",
    "        self.seed = seed\n",
    "        self.supports_masking = True\n",
    "\n",
    "    def _get_noise_shape(self, inputs):\n",
    "        # 드롭아웃의 하위 클래스는 `_get_noise_shape(self, inputs)`를 구현할 수 있으며, \n",
    "        # 이는 `self.noise_shape`를 재정의하고 동적으로 크기가 조정된 입력으로 \n",
    "        # 사용자 정의 잡음 형태를 허용한다.\n",
    "        if self.noise_shape is None:\n",
    "            return None\n",
    "\n",
    "        concrete_inputs_shape = tf.shape(inputs)\n",
    "        noise_shape = []\n",
    "        for i, value in enumerate(self.noise_shape):\n",
    "            noise_shape.append(\n",
    "                concrete_inputs_shape[i] if value is None else value\n",
    "            )\n",
    "        return tf.convert_to_tensor(noise_shape)\n",
    "\n",
    "    def call(self, inputs, training=None):\n",
    "        if training is None:\n",
    "            training = backend.learning_phase()\n",
    "\n",
    "        def dropped_inputs():\n",
    "            return self._random_generator.dropout(\n",
    "                inputs, self.rate, noise_shape=self._get_noise_shape(inputs)\n",
    "            )\n",
    "\n",
    "        output = control_flow_util.smart_cond(\n",
    "            training, dropped_inputs, lambda: tf.identity(inputs)\n",
    "        )\n",
    "        return output\n",
    "\n",
    "    def compute_output_shape(self, input_shape):\n",
    "        return input_shape\n",
    "\n",
    "    def get_config(self):\n",
    "        config = {\n",
    "            \"rate\": self.rate,\n",
    "            \"noise_shape\": self.noise_shape,\n",
    "            \"seed\": self.seed,\n",
    "        }\n",
    "        base_config = super().get_config()\n",
    "        return dict(list(base_config.items()) + list(config.items()))\n",
    "```"
   ]
  },
  {
   "cell_type": "markdown",
   "metadata": {},
   "source": [
    "**사용례:**"
   ]
  },
  {
   "cell_type": "code",
   "execution_count": 15,
   "metadata": {
    "scrolled": true
   },
   "outputs": [
    {
     "name": "stdout",
     "output_type": "stream",
     "text": [
      "[[0. 1.]\n",
      " [2. 3.]\n",
      " [4. 5.]\n",
      " [6. 7.]\n",
      " [8. 9.]]\n"
     ]
    }
   ],
   "source": [
    "import tensorflow as tf\n",
    "import numpy as np\n",
    "tf.random.set_seed(0)\n",
    "layer = tf.keras.layers.Dropout(.2, input_shape=(2,))\n",
    "data = np.arange(10).reshape(5, 2).astype(np.float32)\n",
    "print(data)"
   ]
  },
  {
   "cell_type": "code",
   "execution_count": 16,
   "metadata": {
    "scrolled": true
   },
   "outputs": [
    {
     "name": "stdout",
     "output_type": "stream",
     "text": [
      "tf.Tensor(\n",
      "[[ 0.    1.25]\n",
      " [ 2.5   3.75]\n",
      " [ 5.    6.25]\n",
      " [ 7.5   8.75]\n",
      " [10.    0.  ]], shape=(5, 2), dtype=float32)\n"
     ]
    }
   ],
   "source": [
    "outputs = layer(data, training=True)\n",
    "print(outputs)"
   ]
  },
  {
   "cell_type": "code",
   "execution_count": 17,
   "metadata": {},
   "outputs": [
    {
     "name": "stdout",
     "output_type": "stream",
     "text": [
      "tf.Tensor(\n",
      "[[0. 1.]\n",
      " [2. 3.]\n",
      " [4. 5.]\n",
      " [6. 7.]\n",
      " [8. 9.]], shape=(5, 2), dtype=float32)\n"
     ]
    }
   ],
   "source": [
    "outputs = layer(data) # training=None\n",
    "print(outputs)"
   ]
  }
 ],
 "metadata": {
  "colab": {
   "collapsed_sections": [],
   "name": "chapter05_fundamentals-of-ml.i",
   "private_outputs": false,
   "provenance": [],
   "toc_visible": true
  },
  "kernelspec": {
   "display_name": "Python 3 (ipykernel)",
   "language": "python",
   "name": "python3"
  },
  "language_info": {
   "codemirror_mode": {
    "name": "ipython",
    "version": 3
   },
   "file_extension": ".py",
   "mimetype": "text/x-python",
   "name": "python",
   "nbconvert_exporter": "python",
   "pygments_lexer": "ipython3",
   "version": "3.9.13"
  }
 },
 "nbformat": 4,
 "nbformat_minor": 1
}

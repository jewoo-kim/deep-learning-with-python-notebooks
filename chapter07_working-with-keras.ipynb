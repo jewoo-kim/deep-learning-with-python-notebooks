{
 "cells": [
  {
   "cell_type": "markdown",
   "metadata": {
    "colab_type": "text"
   },
   "source": [
    "이것은 [Deep Learning with Python, Second Edition](https://www.manning.com/books/deep-learning-with-python-second-edition?a_aid=keras&a_bid=76564dff) 책의 노트북이다. 가독성을 위해 실행 가능한 코드 블록과 섹션 제목만 포함하고 책의 다른 모든 텍스트 단락, 그림 및 의사 코드는 생략한다.\n",
    "\n",
    "**무슨 일이 일어나고 있는지 확인하고 싶다면 책과 함께 노트북을 사용하는 것을 권장한다.**\n",
    "\n",
    "이 노트북은 TensorFlow 2.6 기반이다. (옮긴이: 버전 2.10.0, 애플 실리콘 M1 으로 테스트)"
   ]
  },
  {
   "cell_type": "markdown",
   "metadata": {
    "colab_type": "text"
   },
   "source": [
    "# 7 케라스(Keras)와 작업하기: 심층 분석"
   ]
  },
  {
   "cell_type": "markdown",
   "metadata": {
    "colab_type": "text"
   },
   "source": [
    "## 7.1 다양한 작업 흐름"
   ]
  },
  {
   "cell_type": "markdown",
   "metadata": {
    "colab_type": "text"
   },
   "source": [
    "## 7.2 케라스 모델을 구축하는 다양한 방법"
   ]
  },
  {
   "cell_type": "markdown",
   "metadata": {
    "colab_type": "text"
   },
   "source": [
    "### 7.2.1 순차형 (Sequential) 모델"
   ]
  },
  {
   "cell_type": "markdown",
   "metadata": {
    "colab_type": "text"
   },
   "source": [
    "**`Sequential` 클래스**"
   ]
  },
  {
   "cell_type": "code",
   "execution_count": 42,
   "metadata": {
    "colab_type": "code"
   },
   "outputs": [],
   "source": [
    "from tensorflow import keras\n",
    "from tensorflow.keras import layers\n",
    "\n",
    "model = keras.Sequential([\n",
    "    layers.Dense(64, activation=\"relu\"),\n",
    "    layers.Dense(10, activation=\"softmax\")\n",
    "])"
   ]
  },
  {
   "cell_type": "markdown",
   "metadata": {
    "colab_type": "text"
   },
   "source": [
    "**순차형 모델을 점진적으로 구축**"
   ]
  },
  {
   "cell_type": "code",
   "execution_count": 43,
   "metadata": {
    "colab_type": "code"
   },
   "outputs": [],
   "source": [
    "model = keras.Sequential()\n",
    "model.add(layers.Dense(64, activation=\"relu\"))\n",
    "model.add(layers.Dense(10, activation=\"softmax\"))"
   ]
  },
  {
   "cell_type": "markdown",
   "metadata": {
    "colab_type": "text"
   },
   "source": [
    "**처음 구축할 때 모델 호출**"
   ]
  },
  {
   "cell_type": "code",
   "execution_count": 44,
   "metadata": {
    "colab_type": "code"
   },
   "outputs": [
    {
     "data": {
      "text/plain": [
       "[<tf.Variable 'dense_26/kernel:0' shape=(3, 64) dtype=float32, numpy=\n",
       " array([[ 0.01679006,  0.16061118,  0.26701003, -0.2280428 , -0.12471224,\n",
       "         -0.23237887, -0.17822288,  0.17603251, -0.09629413, -0.13958332,\n",
       "          0.17197007,  0.23538613,  0.15078032, -0.25730836,  0.07932356,\n",
       "          0.16397852, -0.00407615,  0.21043682, -0.05930406, -0.2230103 ,\n",
       "         -0.12524442, -0.03715247, -0.23190947,  0.21561086, -0.00255147,\n",
       "         -0.19460583,  0.0710004 , -0.01567423,  0.26552176, -0.11137612,\n",
       "          0.23426294,  0.22319347,  0.16318947, -0.05617675, -0.08478643,\n",
       "         -0.16660695,  0.088301  , -0.13456589, -0.28302747,  0.23170179,\n",
       "         -0.12130019,  0.22154635,  0.2500038 , -0.12839462,  0.16036177,\n",
       "          0.0441528 , -0.11672574,  0.20370513,  0.23142129,  0.16079363,\n",
       "          0.1879409 , -0.24569215, -0.23669937,  0.10573339,  0.04925492,\n",
       "          0.15121517,  0.02695763, -0.19555831,  0.15381786,  0.03562963,\n",
       "         -0.09797272,  0.13451302, -0.02311158, -0.28738803],\n",
       "        [ 0.22362947,  0.14310461,  0.19742888,  0.02912065,  0.12246916,\n",
       "          0.07305476,  0.15932637,  0.1128177 , -0.08551046, -0.19526535,\n",
       "          0.16050538, -0.17249148,  0.10054743, -0.02968782,  0.09918821,\n",
       "         -0.17849864,  0.12790996,  0.14106536,  0.24882603, -0.24987176,\n",
       "          0.00502101, -0.2096642 , -0.1360734 , -0.28322783, -0.15265453,\n",
       "          0.21424443, -0.25928625, -0.1481017 ,  0.01327762,  0.27999818,\n",
       "          0.07797617,  0.02205706, -0.0468787 ,  0.2600798 ,  0.03605464,\n",
       "          0.03710893,  0.0358406 , -0.08857812,  0.25854045,  0.1251494 ,\n",
       "         -0.1835855 ,  0.09454575,  0.2278009 , -0.28990886,  0.16012761,\n",
       "          0.24885678,  0.11013696,  0.04032114,  0.05914494, -0.2371916 ,\n",
       "         -0.21524006,  0.05084911,  0.00408214, -0.29037368,  0.2181505 ,\n",
       "         -0.16034885,  0.25245726,  0.03841531, -0.03851661,  0.1174801 ,\n",
       "         -0.07013403, -0.2848406 , -0.24161965, -0.17114957],\n",
       "        [-0.01605925, -0.04713348, -0.28451106,  0.1872696 ,  0.04314649,\n",
       "         -0.26649457,  0.16069347, -0.20455194,  0.02519748, -0.0588062 ,\n",
       "          0.26863348, -0.09938283,  0.06374186, -0.15185644,  0.17272192,\n",
       "         -0.1746389 ,  0.2762164 ,  0.09992942, -0.02022606,  0.20044276,\n",
       "         -0.09638745,  0.08542457, -0.10232298,  0.28241122,  0.08248162,\n",
       "          0.06443715,  0.0839299 ,  0.24729049,  0.19465283, -0.24407913,\n",
       "         -0.1081485 , -0.12428816,  0.13877717,  0.15180671,  0.10679954,\n",
       "          0.00364655,  0.0689958 ,  0.1900776 ,  0.26676083,  0.09444237,\n",
       "          0.21154827, -0.27122247,  0.01624459, -0.19480224,  0.27625698,\n",
       "         -0.16791068,  0.2908889 ,  0.01120055, -0.21172728, -0.08882041,\n",
       "          0.03218383,  0.28678465, -0.27670524, -0.21957293,  0.00088006,\n",
       "          0.13879985,  0.27353305, -0.10267095,  0.24642092,  0.26362962,\n",
       "         -0.00832304,  0.1149061 ,  0.16938242, -0.13973773]],\n",
       "       dtype=float32)>,\n",
       " <tf.Variable 'dense_26/bias:0' shape=(64,) dtype=float32, numpy=\n",
       " array([0., 0., 0., 0., 0., 0., 0., 0., 0., 0., 0., 0., 0., 0., 0., 0., 0.,\n",
       "        0., 0., 0., 0., 0., 0., 0., 0., 0., 0., 0., 0., 0., 0., 0., 0., 0.,\n",
       "        0., 0., 0., 0., 0., 0., 0., 0., 0., 0., 0., 0., 0., 0., 0., 0., 0.,\n",
       "        0., 0., 0., 0., 0., 0., 0., 0., 0., 0., 0., 0., 0.], dtype=float32)>,\n",
       " <tf.Variable 'dense_27/kernel:0' shape=(64, 10) dtype=float32, numpy=\n",
       " array([[ 0.06851271,  0.10404748,  0.00981241,  0.05962282,  0.10437191,\n",
       "          0.25276783, -0.216578  ,  0.18531257,  0.20643681, -0.06519197],\n",
       "        [-0.09232357,  0.2489588 , -0.00438666,  0.02690899,  0.17012328,\n",
       "         -0.15367974, -0.1671777 , -0.19912733,  0.23987034,  0.23883596],\n",
       "        [-0.08418876, -0.2123877 , -0.04134709,  0.05097622,  0.00778246,\n",
       "         -0.18221346, -0.15361749,  0.25529703,  0.26306906, -0.06377703],\n",
       "        [ 0.08179545, -0.04298471,  0.01452738,  0.07803366, -0.17342949,\n",
       "         -0.06349549, -0.15121427, -0.14013138, -0.09173463,  0.12424079],\n",
       "        [ 0.06569943,  0.03589493, -0.268075  , -0.20401928,  0.03490719,\n",
       "          0.20999059, -0.23629293,  0.0296587 ,  0.13590541, -0.01092601],\n",
       "        [ 0.18607396,  0.11364955,  0.17002144,  0.16985565, -0.17181678,\n",
       "          0.03726283, -0.02727735, -0.22882445, -0.04540469,  0.20199305],\n",
       "        [ 0.0487757 ,  0.11013523, -0.1114302 ,  0.25220117,  0.2775202 ,\n",
       "          0.21546224, -0.10573743, -0.12222449, -0.03601141, -0.22247927],\n",
       "        [-0.1346139 , -0.09567349,  0.07337096, -0.1926983 , -0.12995875,\n",
       "          0.23092142, -0.03908129, -0.21540251, -0.07656386,  0.21274608],\n",
       "        [ 0.27130708,  0.16804901, -0.0058094 , -0.16619802, -0.24969232,\n",
       "         -0.0989511 , -0.22778568,  0.19300169,  0.01061291,  0.08870542],\n",
       "        [ 0.05941319, -0.01583776, -0.14471716, -0.03382897, -0.21542382,\n",
       "          0.1381588 ,  0.01848397,  0.00208291, -0.11665453,  0.21098042],\n",
       "        [-0.22271545, -0.13356707, -0.27901775,  0.03772601,  0.26817253,\n",
       "         -0.25389194, -0.24762721,  0.15925464,  0.25153747, -0.18806535],\n",
       "        [ 0.25480768, -0.22424133, -0.200097  ,  0.08057353,  0.25952116,\n",
       "          0.232245  ,  0.13961753, -0.02218819,  0.15303132,  0.07929838],\n",
       "        [ 0.28044704, -0.10581733, -0.15170498, -0.04682539, -0.13721651,\n",
       "         -0.0942003 , -0.09708069, -0.02648631,  0.25406203, -0.25624925],\n",
       "        [ 0.05614072, -0.06966124, -0.22054796,  0.21107268, -0.24063694,\n",
       "         -0.21728963,  0.0996359 , -0.18039504,  0.06417152,  0.04439184],\n",
       "        [ 0.10871762, -0.05232584, -0.13662396, -0.17074901,  0.23412332,\n",
       "         -0.20449525,  0.08838478, -0.02800161, -0.10164052, -0.218281  ],\n",
       "        [-0.09168547,  0.26287863, -0.24710909,  0.11398974,  0.11709562,\n",
       "         -0.17620018,  0.21850166,  0.03742671, -0.04680645, -0.01176226],\n",
       "        [ 0.03063861, -0.10554524,  0.04506803, -0.2665276 , -0.1756709 ,\n",
       "         -0.1654295 , -0.25621843,  0.16195846, -0.21499443, -0.13739301],\n",
       "        [-0.22476944,  0.19457993, -0.25561395,  0.206503  , -0.18122505,\n",
       "          0.18091038,  0.13369015, -0.06779823,  0.26815012, -0.16031678],\n",
       "        [ 0.2088933 , -0.23610386,  0.27874056,  0.28378358,  0.19711477,\n",
       "         -0.18141209, -0.07350743, -0.24207579,  0.07106364,  0.28090134],\n",
       "        [ 0.22578451,  0.01483512,  0.21930167, -0.21036637,  0.24893042,\n",
       "          0.1580613 ,  0.05417085,  0.04732242, -0.06858629,  0.13418084],\n",
       "        [-0.07522312,  0.26528862,  0.2131845 , -0.21503714,  0.09855211,\n",
       "          0.04175013, -0.27220035,  0.20351297,  0.24141547, -0.15465672],\n",
       "        [-0.16606745,  0.02616554, -0.24199575, -0.12313984,  0.21834192,\n",
       "         -0.18779278, -0.23149589, -0.09348249, -0.19002686, -0.08524932],\n",
       "        [ 0.17854661, -0.03644699, -0.17372257,  0.01147494,  0.1709922 ,\n",
       "         -0.10946549,  0.26703522, -0.05624948,  0.04364339, -0.26775694],\n",
       "        [-0.10471088,  0.20624739, -0.06477411,  0.18204129, -0.00597608,\n",
       "         -0.13103017, -0.27980304,  0.04857334, -0.05821073,  0.08293891],\n",
       "        [ 0.28397128, -0.24091624,  0.25505617, -0.13406081, -0.23419976,\n",
       "         -0.10155858,  0.16451064,  0.1764991 , -0.07643414, -0.03560178],\n",
       "        [-0.04724258,  0.22439036, -0.11806962,  0.16565889,  0.23453632,\n",
       "         -0.27672243, -0.12194812, -0.23137511,  0.19647816,  0.04898399],\n",
       "        [-0.1286563 ,  0.25450918, -0.03106612,  0.1422781 , -0.16807711,\n",
       "         -0.04993771, -0.1664274 ,  0.06927088,  0.19006333,  0.18836996],\n",
       "        [ 0.27214697, -0.07331504,  0.06676617,  0.09919509,  0.08056837,\n",
       "          0.06009996, -0.23456027, -0.16279283,  0.02415466,  0.11389309],\n",
       "        [ 0.00088269,  0.26566622, -0.20626423,  0.00145873,  0.27376023,\n",
       "          0.28026572, -0.22899601, -0.23976715, -0.01258492,  0.12753981],\n",
       "        [ 0.04765752, -0.17991301,  0.04276997, -0.12816486,  0.21194118,\n",
       "          0.28085384,  0.25673923, -0.19624028, -0.14918712,  0.0104146 ],\n",
       "        [-0.26088363, -0.12795745, -0.27966312,  0.23449948, -0.17625576,\n",
       "         -0.08486888, -0.19227861, -0.02977994,  0.05830145, -0.19056645],\n",
       "        [-0.05981244, -0.2056548 ,  0.278757  , -0.11668685, -0.09078234,\n",
       "          0.02335331, -0.12576823, -0.20857057, -0.0521885 , -0.01870671],\n",
       "        [-0.24404205, -0.2714858 ,  0.23622999, -0.19904071, -0.08665891,\n",
       "         -0.08191922,  0.26319143, -0.02869597,  0.28354082, -0.24206574],\n",
       "        [-0.2127139 ,  0.09589344,  0.09247932, -0.09024841, -0.09631109,\n",
       "         -0.10219756, -0.13546197,  0.25188366,  0.23698619,  0.10283247],\n",
       "        [-0.01146036,  0.19759834, -0.01898268,  0.008986  , -0.26337144,\n",
       "         -0.12166679, -0.11470225,  0.09746826, -0.1802909 ,  0.25332645],\n",
       "        [ 0.02976432,  0.03818536,  0.04016283, -0.22225109,  0.25990102,\n",
       "          0.02800405,  0.01484904, -0.11649641, -0.1011097 ,  0.17217895],\n",
       "        [-0.17506114,  0.10298234,  0.10901898,  0.16277131, -0.04003961,\n",
       "          0.04712805,  0.02451622,  0.06289691,  0.16479093, -0.08486012],\n",
       "        [-0.2637593 , -0.10265832,  0.12331975, -0.14690189,  0.18304509,\n",
       "          0.2678174 , -0.23928976, -0.21368939, -0.24466854,  0.04346618],\n",
       "        [-0.22988929,  0.09880635,  0.15574574,  0.20824999,  0.0742335 ,\n",
       "         -0.05031462,  0.05983096, -0.00725612, -0.130454  , -0.01502588],\n",
       "        [ 0.17249274,  0.15323547, -0.1789873 ,  0.07761785,  0.18501475,\n",
       "          0.12554371, -0.2391586 ,  0.23031345, -0.14375503, -0.1438124 ],\n",
       "        [ 0.18089083, -0.19273931, -0.12657388, -0.17070958, -0.01652631,\n",
       "          0.095366  ,  0.05646434, -0.10842733,  0.25670043, -0.0073126 ],\n",
       "        [-0.19245729,  0.26896903, -0.09988587,  0.19826785,  0.16731226,\n",
       "         -0.23022833,  0.02266768, -0.2463653 ,  0.04750511, -0.08966333],\n",
       "        [ 0.06814787, -0.13791645,  0.03477564,  0.18356755, -0.15189534,\n",
       "          0.14459598, -0.02539772,  0.12956223, -0.25091434,  0.05593449],\n",
       "        [-0.2754833 , -0.11925313, -0.22109535, -0.05293433, -0.20345554,\n",
       "          0.04506776, -0.05923729,  0.2319949 ,  0.10692331,  0.2288597 ],\n",
       "        [-0.10963812,  0.1961489 , -0.16072805, -0.04611032, -0.20492762,\n",
       "         -0.26495576, -0.2516104 ,  0.13604447,  0.22115043,  0.19870287],\n",
       "        [-0.09881546,  0.07352197, -0.28254643, -0.22579667,  0.16958281,\n",
       "          0.14817446, -0.27196944, -0.18392989,  0.10246646,  0.02806738],\n",
       "        [-0.09103096, -0.21413624,  0.25346646, -0.19602785,  0.16777268,\n",
       "          0.0683144 ,  0.16160151,  0.15565273,  0.20141736,  0.17939788],\n",
       "        [ 0.16012982, -0.04183345,  0.2691001 , -0.18324494,  0.13538262,\n",
       "         -0.05124606,  0.18736854,  0.02506599, -0.2129232 ,  0.10393503],\n",
       "        [-0.19102076,  0.21288383,  0.21106583, -0.14393976, -0.04471771,\n",
       "          0.00851661, -0.11856453, -0.01548406, -0.26611355,  0.06365624],\n",
       "        [ 0.02715394, -0.27171275,  0.20803866,  0.16909537, -0.05291219,\n",
       "          0.1456962 , -0.05244248,  0.03035191, -0.17342833,  0.10960105],\n",
       "        [-0.0798184 ,  0.0586451 , -0.16528653, -0.13011694, -0.10735278,\n",
       "          0.19502595, -0.17958471, -0.1653646 , -0.08798017,  0.26766595],\n",
       "        [ 0.1431593 ,  0.19219932,  0.06253555, -0.27733648, -0.27319443,\n",
       "         -0.04127967, -0.21808577,  0.07702973,  0.04121459,  0.14820081],\n",
       "        [-0.080311  ,  0.19820186,  0.00344163, -0.21988115,  0.2532024 ,\n",
       "          0.26447323, -0.07028379, -0.24352047, -0.00638613,  0.05958855],\n",
       "        [ 0.09197733,  0.24768391,  0.06923077, -0.11330998, -0.10149924,\n",
       "         -0.2594251 ,  0.20929393, -0.28366953,  0.13066271, -0.23150505],\n",
       "        [ 0.21884945, -0.16028583,  0.14060912,  0.24564174,  0.18401474,\n",
       "          0.13633579, -0.08660534,  0.21803227, -0.26262295,  0.03138795],\n",
       "        [ 0.08936808, -0.05552959,  0.21858999,  0.05786049,  0.18824485,\n",
       "         -0.15279426, -0.0892985 , -0.26154882,  0.04666004,  0.13753116],\n",
       "        [-0.12153168, -0.00467592,  0.25283292,  0.01449567,  0.12213108,\n",
       "          0.06952235, -0.18136749,  0.16731009, -0.04584733, -0.18163612],\n",
       "        [-0.00137538,  0.25428423,  0.1213963 , -0.11019088, -0.21036881,\n",
       "          0.05459517,  0.04548058, -0.12858869,  0.21715721, -0.11565541],\n",
       "        [ 0.23552015, -0.22767305, -0.05953878, -0.07298611,  0.05687258,\n",
       "         -0.13423516,  0.01589406, -0.24760278,  0.20348874,  0.1289739 ],\n",
       "        [ 0.09259078, -0.2591564 ,  0.07791093, -0.15701683, -0.193988  ,\n",
       "          0.27966854, -0.0092423 ,  0.24158898, -0.10369071, -0.00663289],\n",
       "        [-0.26123443,  0.08530703,  0.20311508, -0.06273907,  0.28058842,\n",
       "         -0.21750565, -0.10045172, -0.04252042, -0.26520818,  0.00148258],\n",
       "        [ 0.19333327,  0.21176454, -0.06416339, -0.15989864,  0.19861835,\n",
       "         -0.03478262,  0.18710926, -0.0985236 , -0.18449126, -0.263984  ],\n",
       "        [-0.28028464, -0.24318442,  0.14889228, -0.12976378, -0.26926583,\n",
       "          0.18933555,  0.08517343,  0.07135954,  0.00493023, -0.24901344],\n",
       "        [ 0.01663649,  0.01477441, -0.20557761, -0.26420116, -0.02411041,\n",
       "         -0.07744384,  0.01098764, -0.22026935, -0.00347435, -0.21786125]],\n",
       "       dtype=float32)>,\n",
       " <tf.Variable 'dense_27/bias:0' shape=(10,) dtype=float32, numpy=array([0., 0., 0., 0., 0., 0., 0., 0., 0., 0.], dtype=float32)>]"
      ]
     },
     "execution_count": 44,
     "metadata": {},
     "output_type": "execute_result"
    }
   ],
   "source": [
    "model.build(input_shape=(None, 3))\n",
    "model.weights # DENSE 1 - shape=(3, 64), DENSE 2 - shape=(64, 10)"
   ]
  },
  {
   "cell_type": "markdown",
   "metadata": {
    "colab_type": "text"
   },
   "source": [
    "**요약 메소드**"
   ]
  },
  {
   "cell_type": "code",
   "execution_count": 45,
   "metadata": {
    "colab_type": "code"
   },
   "outputs": [
    {
     "name": "stdout",
     "output_type": "stream",
     "text": [
      "Model: \"sequential_4\"\n",
      "_________________________________________________________________\n",
      " Layer (type)                Output Shape              Param #   \n",
      "=================================================================\n",
      " dense_26 (Dense)            (None, 64)                256       \n",
      "                                                                 \n",
      " dense_27 (Dense)            (None, 10)                650       \n",
      "                                                                 \n",
      "=================================================================\n",
      "Total params: 906\n",
      "Trainable params: 906\n",
      "Non-trainable params: 0\n",
      "_________________________________________________________________\n"
     ]
    }
   ],
   "source": [
    "model.summary()"
   ]
  },
  {
   "cell_type": "markdown",
   "metadata": {
    "colab_type": "text"
   },
   "source": [
    "**`name` 매개변수로 모델 및 층 이름 부여**"
   ]
  },
  {
   "cell_type": "code",
   "execution_count": 46,
   "metadata": {
    "colab_type": "code"
   },
   "outputs": [
    {
     "name": "stdout",
     "output_type": "stream",
     "text": [
      "Model: \"my_example_model\"\n",
      "_________________________________________________________________\n",
      " Layer (type)                Output Shape              Param #   \n",
      "=================================================================\n",
      " my_first_layer (Dense)      (None, 64)                256       \n",
      "                                                                 \n",
      " my_last_layer (Dense)       (None, 10)                650       \n",
      "                                                                 \n",
      "=================================================================\n",
      "Total params: 906\n",
      "Trainable params: 906\n",
      "Non-trainable params: 0\n",
      "_________________________________________________________________\n"
     ]
    }
   ],
   "source": [
    "model = keras.Sequential(name=\"my_example_model\")\n",
    "model.add(layers.Dense(64, activation=\"relu\", name=\"my_first_layer\"))\n",
    "model.add(layers.Dense(10, activation=\"softmax\", name=\"my_last_layer\"))\n",
    "model.build((None, 3))\n",
    "model.summary()"
   ]
  },
  {
   "cell_type": "markdown",
   "metadata": {
    "colab_type": "text"
   },
   "source": [
    "**모델의 입력 형태 미리 지정**"
   ]
  },
  {
   "cell_type": "code",
   "execution_count": 47,
   "metadata": {
    "colab_type": "code"
   },
   "outputs": [],
   "source": [
    "model = keras.Sequential()\n",
    "model.add(keras.Input(shape=(3,)))\n",
    "model.add(layers.Dense(64, activation=\"relu\"))"
   ]
  },
  {
   "cell_type": "code",
   "execution_count": 48,
   "metadata": {
    "colab_type": "code"
   },
   "outputs": [
    {
     "name": "stdout",
     "output_type": "stream",
     "text": [
      "Model: \"sequential_5\"\n",
      "_________________________________________________________________\n",
      " Layer (type)                Output Shape              Param #   \n",
      "=================================================================\n",
      " dense_28 (Dense)            (None, 64)                256       \n",
      "                                                                 \n",
      "=================================================================\n",
      "Total params: 256\n",
      "Trainable params: 256\n",
      "Non-trainable params: 0\n",
      "_________________________________________________________________\n"
     ]
    }
   ],
   "source": [
    "model.summary()"
   ]
  },
  {
   "cell_type": "code",
   "execution_count": 49,
   "metadata": {
    "colab_type": "code"
   },
   "outputs": [
    {
     "name": "stdout",
     "output_type": "stream",
     "text": [
      "Model: \"sequential_5\"\n",
      "_________________________________________________________________\n",
      " Layer (type)                Output Shape              Param #   \n",
      "=================================================================\n",
      " dense_28 (Dense)            (None, 64)                256       \n",
      "                                                                 \n",
      " dense_29 (Dense)            (None, 10)                650       \n",
      "                                                                 \n",
      "=================================================================\n",
      "Total params: 906\n",
      "Trainable params: 906\n",
      "Non-trainable params: 0\n",
      "_________________________________________________________________\n"
     ]
    }
   ],
   "source": [
    "model.add(layers.Dense(10, activation=\"softmax\"))\n",
    "model.summary()"
   ]
  },
  {
   "cell_type": "markdown",
   "metadata": {
    "colab_type": "text"
   },
   "source": [
    "### 7.2.2 함수형 (Functional) API"
   ]
  },
  {
   "cell_type": "markdown",
   "metadata": {
    "colab_type": "text"
   },
   "source": [
    "#### 간단한 예제"
   ]
  },
  {
   "cell_type": "markdown",
   "metadata": {
    "colab_type": "text"
   },
   "source": [
    "**두 개의 `Dense` 층을 가진 단순한 모델**"
   ]
  },
  {
   "cell_type": "code",
   "execution_count": 50,
   "metadata": {
    "colab_type": "code"
   },
   "outputs": [],
   "source": [
    "inputs = keras.Input(shape=(3,), name=\"my_input\") # 애상되는 입력은 3-차원 벡터\n",
    "features = layers.Dense(64, activation=\"relu\")(inputs)\n",
    "outputs = layers.Dense(10, activation=\"softmax\")(features)\n",
    "model = keras.Model(inputs=inputs, outputs=outputs)"
   ]
  },
  {
   "cell_type": "code",
   "execution_count": 51,
   "metadata": {
    "colab_type": "code"
   },
   "outputs": [],
   "source": [
    "inputs = keras.Input(shape=(3,), name=\"my_input\")"
   ]
  },
  {
   "cell_type": "code",
   "execution_count": 52,
   "metadata": {
    "colab_type": "code"
   },
   "outputs": [
    {
     "data": {
      "text/plain": [
       "TensorShape([None, 3])"
      ]
     },
     "execution_count": 52,
     "metadata": {},
     "output_type": "execute_result"
    }
   ],
   "source": [
    "inputs.shape"
   ]
  },
  {
   "cell_type": "code",
   "execution_count": 53,
   "metadata": {
    "colab_type": "code",
    "scrolled": true
   },
   "outputs": [
    {
     "data": {
      "text/plain": [
       "tf.float32"
      ]
     },
     "execution_count": 53,
     "metadata": {},
     "output_type": "execute_result"
    }
   ],
   "source": [
    "inputs.dtype"
   ]
  },
  {
   "cell_type": "code",
   "execution_count": 54,
   "metadata": {
    "colab_type": "code"
   },
   "outputs": [],
   "source": [
    "features = layers.Dense(64, activation=\"relu\")(inputs)"
   ]
  },
  {
   "cell_type": "code",
   "execution_count": 55,
   "metadata": {
    "colab_type": "code"
   },
   "outputs": [
    {
     "data": {
      "text/plain": [
       "TensorShape([None, 64])"
      ]
     },
     "execution_count": 55,
     "metadata": {},
     "output_type": "execute_result"
    }
   ],
   "source": [
    "features.shape"
   ]
  },
  {
   "cell_type": "code",
   "execution_count": 56,
   "metadata": {
    "colab_type": "code"
   },
   "outputs": [],
   "source": [
    "outputs = layers.Dense(10, activation=\"softmax\")(features)\n",
    "model = keras.Model(inputs=inputs, outputs=outputs)"
   ]
  },
  {
   "cell_type": "code",
   "execution_count": 57,
   "metadata": {
    "colab_type": "code"
   },
   "outputs": [
    {
     "name": "stdout",
     "output_type": "stream",
     "text": [
      "Model: \"model_10\"\n",
      "_________________________________________________________________\n",
      " Layer (type)                Output Shape              Param #   \n",
      "=================================================================\n",
      " my_input (InputLayer)       [(None, 3)]               0         \n",
      "                                                                 \n",
      " dense_32 (Dense)            (None, 64)                256       \n",
      "                                                                 \n",
      " dense_33 (Dense)            (None, 10)                650       \n",
      "                                                                 \n",
      "=================================================================\n",
      "Total params: 906\n",
      "Trainable params: 906\n",
      "Non-trainable params: 0\n",
      "_________________________________________________________________\n"
     ]
    }
   ],
   "source": [
    "model.summary()"
   ]
  },
  {
   "cell_type": "markdown",
   "metadata": {
    "colab_type": "text"
   },
   "source": [
    "#### 다중-입력, 다중-출력 모델"
   ]
  },
  {
   "cell_type": "markdown",
   "metadata": {
    "colab_type": "text"
   },
   "source": [
    "**다중-입력, 다중-출력 함수형 모델**"
   ]
  },
  {
   "cell_type": "code",
   "execution_count": 58,
   "metadata": {
    "colab_type": "code"
   },
   "outputs": [],
   "source": [
    "vocabulary_size = 10000\n",
    "num_tags = 100\n",
    "num_departments = 4 # 목표\n",
    "\n",
    "title = keras.Input(shape=(vocabulary_size,), name=\"title\")\n",
    "text_body = keras.Input(shape=(vocabulary_size,), name=\"text_body\")\n",
    "tags = keras.Input(shape=(num_tags,), name=\"tags\")\n",
    "\n",
    "features = layers.Concatenate()([title, text_body, tags]) # 입력 목록을 결합하는 층\n",
    "features = layers.Dense(64, activation=\"relu\")(features)\n",
    "\n",
    "priority = layers.Dense(1, activation=\"sigmoid\", name=\"priority\")(features)\n",
    "department = layers.Dense(num_departments, activation=\"softmax\", name=\"department\")(features)\n",
    "\n",
    "model = keras.Model(inputs=[title, text_body, tags], outputs=[priority, department])"
   ]
  },
  {
   "cell_type": "code",
   "execution_count": 59,
   "metadata": {},
   "outputs": [
    {
     "name": "stdout",
     "output_type": "stream",
     "text": [
      "Model: \"model_11\"\n",
      "__________________________________________________________________________________________________\n",
      " Layer (type)                   Output Shape         Param #     Connected to                     \n",
      "==================================================================================================\n",
      " title (InputLayer)             [(None, 10000)]      0           []                               \n",
      "                                                                                                  \n",
      " text_body (InputLayer)         [(None, 10000)]      0           []                               \n",
      "                                                                                                  \n",
      " tags (InputLayer)              [(None, 100)]        0           []                               \n",
      "                                                                                                  \n",
      " concatenate_2 (Concatenate)    (None, 20100)        0           ['title[0][0]',                  \n",
      "                                                                  'text_body[0][0]',              \n",
      "                                                                  'tags[0][0]']                   \n",
      "                                                                                                  \n",
      " dense_34 (Dense)               (None, 64)           1286464     ['concatenate_2[0][0]']          \n",
      "                                                                                                  \n",
      " priority (Dense)               (None, 1)            65          ['dense_34[0][0]']               \n",
      "                                                                                                  \n",
      " department (Dense)             (None, 4)            260         ['dense_34[0][0]']               \n",
      "                                                                                                  \n",
      "==================================================================================================\n",
      "Total params: 1,286,789\n",
      "Trainable params: 1,286,789\n",
      "Non-trainable params: 0\n",
      "__________________________________________________________________________________________________\n"
     ]
    }
   ],
   "source": [
    "model.summary()"
   ]
  },
  {
   "cell_type": "markdown",
   "metadata": {
    "colab_type": "text"
   },
   "source": [
    "#### 다중-입력, 다중-출력 모델 훈련"
   ]
  },
  {
   "cell_type": "markdown",
   "metadata": {
    "colab_type": "text"
   },
   "source": [
    "**입력 및 대상 배열 목록을 제공하여 모델 훈련**"
   ]
  },
  {
   "cell_type": "code",
   "execution_count": 60,
   "metadata": {
    "colab_type": "code"
   },
   "outputs": [],
   "source": [
    "import numpy as np\n",
    "\n",
    "num_samples = 1280\n",
    "\n",
    "title_data = np.random.randint(0, 2, size=(num_samples, vocabulary_size))\n",
    "text_body_data = np.random.randint(0, 2, size=(num_samples, vocabulary_size))\n",
    "tags_data = np.random.randint(0, 2, size=(num_samples, num_tags))\n",
    "\n",
    "priority_data = np.random.random(size=(num_samples, 1))\n",
    "department_data = np.random.randint(0, 2, size=(num_samples, num_departments))"
   ]
  },
  {
   "cell_type": "code",
   "execution_count": 61,
   "metadata": {
    "colab_type": "code"
   },
   "outputs": [
    {
     "name": "stderr",
     "output_type": "stream",
     "text": [
      "2022-12-10 19:21:44.162354: I tensorflow/core/grappler/optimizers/custom_graph_optimizer_registry.cc:114] Plugin optimizer for device_type GPU is enabled.\n"
     ]
    },
    {
     "name": "stdout",
     "output_type": "stream",
     "text": [
      "40/40 [==============================] - 1s 14ms/step - loss: 26.6508 - priority_loss: 0.3353 - department_loss: 26.3154 - priority_mean_absolute_error: 0.5036 - department_accuracy: 0.1961\n",
      "12/40 [========>.....................] - ETA: 0s - loss: 19.1073 - priority_loss: 0.3435 - department_loss: 18.7639 - priority_mean_absolute_error: 0.5100 - department_accuracy: 0.0703  "
     ]
    },
    {
     "name": "stderr",
     "output_type": "stream",
     "text": [
      "2022-12-10 19:21:45.094991: I tensorflow/core/grappler/optimizers/custom_graph_optimizer_registry.cc:114] Plugin optimizer for device_type GPU is enabled.\n"
     ]
    },
    {
     "name": "stdout",
     "output_type": "stream",
     "text": [
      "40/40 [==============================] - 1s 10ms/step - loss: 19.7295 - priority_loss: 0.3387 - department_loss: 19.3908 - priority_mean_absolute_error: 0.5068 - department_accuracy: 0.0633\n",
      "40/40 [==============================] - 0s 3ms/step\n"
     ]
    },
    {
     "name": "stderr",
     "output_type": "stream",
     "text": [
      "2022-12-10 19:21:45.683575: I tensorflow/core/grappler/optimizers/custom_graph_optimizer_registry.cc:114] Plugin optimizer for device_type GPU is enabled.\n"
     ]
    }
   ],
   "source": [
    "model.compile(optimizer=\"rmsprop\",\n",
    "              loss=[\"mean_squared_error\", \"categorical_crossentropy\"],\n",
    "              metrics=[[\"mean_absolute_error\"], [\"accuracy\"]])\n",
    "model.fit([title_data, text_body_data, tags_data],\n",
    "          [priority_data, department_data],\n",
    "          epochs=1)\n",
    "model.evaluate([title_data, text_body_data, tags_data],\n",
    "               [priority_data, department_data])\n",
    "priority_preds, department_preds = model.predict([title_data, text_body_data, tags_data])"
   ]
  },
  {
   "cell_type": "code",
   "execution_count": 62,
   "metadata": {},
   "outputs": [
    {
     "data": {
      "text/plain": [
       "(array([1.], dtype=float32),\n",
       " array([1.3090253e-09, 1.4793316e-07, 1.4491859e-01, 8.5508138e-01],\n",
       "       dtype=float32))"
      ]
     },
     "execution_count": 62,
     "metadata": {},
     "output_type": "execute_result"
    }
   ],
   "source": [
    "priority_preds[0], department_preds[0]"
   ]
  },
  {
   "cell_type": "markdown",
   "metadata": {
    "colab_type": "text"
   },
   "source": [
    "**입력 및 대상 배열 사전을 제공하여 모델 훈련**"
   ]
  },
  {
   "cell_type": "code",
   "execution_count": 63,
   "metadata": {
    "colab_type": "code"
   },
   "outputs": [
    {
     "name": "stdout",
     "output_type": "stream",
     "text": [
      "\r",
      " 1/40 [..............................] - ETA: 17s - loss: 22.1726 - priority_loss: 0.3484 - department_loss: 21.8242 - priority_mean_absolute_error: 0.5352 - department_accuracy: 0.0312"
     ]
    },
    {
     "name": "stderr",
     "output_type": "stream",
     "text": [
      "2022-12-10 19:21:46.244947: I tensorflow/core/grappler/optimizers/custom_graph_optimizer_registry.cc:114] Plugin optimizer for device_type GPU is enabled.\n"
     ]
    },
    {
     "name": "stdout",
     "output_type": "stream",
     "text": [
      "40/40 [==============================] - 1s 14ms/step - loss: 34.3594 - priority_loss: 0.3387 - department_loss: 34.0207 - priority_mean_absolute_error: 0.5068 - department_accuracy: 0.2320\n",
      "11/40 [=======>......................] - ETA: 0s - loss: 39.5955 - priority_loss: 0.3438 - department_loss: 39.2518 - priority_mean_absolute_error: 0.5102 - department_accuracy: 0.0739   "
     ]
    },
    {
     "name": "stderr",
     "output_type": "stream",
     "text": [
      "2022-12-10 19:21:47.340422: I tensorflow/core/grappler/optimizers/custom_graph_optimizer_registry.cc:114] Plugin optimizer for device_type GPU is enabled.\n"
     ]
    },
    {
     "name": "stdout",
     "output_type": "stream",
     "text": [
      "40/40 [==============================] - 1s 10ms/step - loss: 41.5709 - priority_loss: 0.3387 - department_loss: 41.2322 - priority_mean_absolute_error: 0.5068 - department_accuracy: 0.0633\n",
      "40/40 [==============================] - 0s 4ms/step\n"
     ]
    },
    {
     "name": "stderr",
     "output_type": "stream",
     "text": [
      "2022-12-10 19:21:47.894957: I tensorflow/core/grappler/optimizers/custom_graph_optimizer_registry.cc:114] Plugin optimizer for device_type GPU is enabled.\n"
     ]
    }
   ],
   "source": [
    "model.compile(optimizer=\"rmsprop\",\n",
    "              loss={\"priority\": \"mean_squared_error\", \"department\": \"categorical_crossentropy\"},\n",
    "              metrics={\"priority\": [\"mean_absolute_error\"], \"department\": [\"accuracy\"]})\n",
    "model.fit({\"title\": title_data, \"text_body\": text_body_data, \"tags\": tags_data},\n",
    "          {\"priority\": priority_data, \"department\": department_data},\n",
    "          epochs=1)\n",
    "model.evaluate({\"title\": title_data, \"text_body\": text_body_data, \"tags\": tags_data},\n",
    "               {\"priority\": priority_data, \"department\": department_data})\n",
    "priority_preds, department_preds = model.predict(\n",
    "    {\"title\": title_data, \"text_body\": text_body_data, \"tags\": tags_data})"
   ]
  },
  {
   "cell_type": "markdown",
   "metadata": {
    "colab_type": "text"
   },
   "source": [
    "#### 함수형 API의 강력함: 층 연결에 접근"
   ]
  },
  {
   "cell_type": "code",
   "execution_count": 64,
   "metadata": {
    "colab_type": "code"
   },
   "outputs": [
    {
     "data": {
      "image/png": "[encoded data removed]",
      "text/plain": [
       "<IPython.core.display.Image object>"
      ]
     },
     "execution_count": 64,
     "metadata": {},
     "output_type": "execute_result"
    }
   ],
   "source": [
    "keras.utils.plot_model(model, \"ticket_classifier.png\")"
   ]
  },
  {
   "cell_type": "code",
   "execution_count": 65,
   "metadata": {
    "colab_type": "code"
   },
   "outputs": [
    {
     "data": {
      "image/png": "[encoded data removed]",
      "text/plain": [
       "<IPython.core.display.Image object>"
      ]
     },
     "execution_count": 65,
     "metadata": {},
     "output_type": "execute_result"
    }
   ],
   "source": [
    "keras.utils.plot_model(model, \"ticket_classifier_with_shape_info.png\", show_shapes=True)"
   ]
  },
  {
   "cell_type": "markdown",
   "metadata": {
    "colab_type": "text"
   },
   "source": [
    "**함수형 모델에서 층의 입력 또는 출력 검색**"
   ]
  },
  {
   "cell_type": "code",
   "execution_count": 66,
   "metadata": {
    "colab_type": "code"
   },
   "outputs": [
    {
     "data": {
      "text/plain": [
       "[<keras.engine.input_layer.InputLayer at 0x17736e730>,\n",
       " <keras.engine.input_layer.InputLayer at 0x17736e520>,\n",
       " <keras.engine.input_layer.InputLayer at 0x17736eac0>,\n",
       " <keras.layers.merging.concatenate.Concatenate at 0x17736e7f0>,\n",
       " <keras.layers.core.dense.Dense at 0x17736e250>,\n",
       " <keras.layers.core.dense.Dense at 0x2ab7b2a30>,\n",
       " <keras.layers.core.dense.Dense at 0x17736e3d0>]"
      ]
     },
     "execution_count": 66,
     "metadata": {},
     "output_type": "execute_result"
    }
   ],
   "source": [
    "model.layers"
   ]
  },
  {
   "cell_type": "code",
   "execution_count": 67,
   "metadata": {
    "colab_type": "code"
   },
   "outputs": [
    {
     "data": {
      "text/plain": [
       "[<KerasTensor: shape=(None, 10000) dtype=float32 (created by layer 'title')>,\n",
       " <KerasTensor: shape=(None, 10000) dtype=float32 (created by layer 'text_body')>,\n",
       " <KerasTensor: shape=(None, 100) dtype=float32 (created by layer 'tags')>]"
      ]
     },
     "execution_count": 67,
     "metadata": {},
     "output_type": "execute_result"
    }
   ],
   "source": [
    "model.layers[3].input"
   ]
  },
  {
   "cell_type": "code",
   "execution_count": 68,
   "metadata": {
    "colab_type": "code"
   },
   "outputs": [
    {
     "data": {
      "text/plain": [
       "<KerasTensor: shape=(None, 20100) dtype=float32 (created by layer 'concatenate_2')>"
      ]
     },
     "execution_count": 68,
     "metadata": {},
     "output_type": "execute_result"
    }
   ],
   "source": [
    "model.layers[3].output"
   ]
  },
  {
   "cell_type": "markdown",
   "metadata": {
    "colab_type": "text"
   },
   "source": [
    "**중간 층 출력을 재사용하여 새로운 모델 생성**"
   ]
  },
  {
   "cell_type": "code",
   "execution_count": 69,
   "metadata": {
    "colab_type": "code"
   },
   "outputs": [],
   "source": [
    "features = model.layers[4].output\n",
    "difficulty = layers.Dense(3, activation=\"softmax\", name=\"difficulty\")(features)\n",
    "\n",
    "new_model = keras.Model(\n",
    "    inputs=[title, text_body, tags],\n",
    "    outputs=[priority, department, difficulty])"
   ]
  },
  {
   "cell_type": "code",
   "execution_count": 70,
   "metadata": {
    "colab_type": "code"
   },
   "outputs": [
    {
     "data": {
      "image/png": "[encoded data removed]",
      "text/plain": [
       "<IPython.core.display.Image object>"
      ]
     },
     "execution_count": 70,
     "metadata": {},
     "output_type": "execute_result"
    }
   ],
   "source": [
    "keras.utils.plot_model(new_model, \"updated_ticket_classifier.png\", show_shapes=True)"
   ]
  },
  {
   "cell_type": "markdown",
   "metadata": {
    "colab_type": "text"
   },
   "source": [
    "### 7.2.3 모델 클래스의 하위 클래스화 (Subclassing, 상속)"
   ]
  },
  {
   "cell_type": "markdown",
   "metadata": {
    "colab_type": "text"
   },
   "source": [
    "#### 이전 예제를 하위 클래스화 모델로 다시 작성"
   ]
  },
  {
   "cell_type": "markdown",
   "metadata": {
    "colab_type": "text"
   },
   "source": [
    "**단순 하위 클래스화 모델**"
   ]
  },
  {
   "cell_type": "code",
   "execution_count": 71,
   "metadata": {
    "colab_type": "code"
   },
   "outputs": [],
   "source": [
    "class CustomerTicketModel(keras.Model):\n",
    "\n",
    "    def __init__(self, num_departments):\n",
    "        super().__init__()\n",
    "        self.concat_layer = layers.Concatenate()\n",
    "        self.mixing_layer = layers.Dense(64, activation=\"relu\")\n",
    "        self.priority_scorer = layers.Dense(1, activation=\"sigmoid\")\n",
    "        self.department_classifier = layers.Dense(\n",
    "            num_departments, activation=\"softmax\")\n",
    "\n",
    "    def call(self, inputs):\n",
    "        title = inputs[\"title\"]\n",
    "        text_body = inputs[\"text_body\"]\n",
    "        tags = inputs[\"tags\"]\n",
    "\n",
    "        features = self.concat_layer([title, text_body, tags])\n",
    "        features = self.mixing_layer(features)\n",
    "        priority = self.priority_scorer(features)\n",
    "        department = self.department_classifier(features)\n",
    "        return priority, department"
   ]
  },
  {
   "cell_type": "code",
   "execution_count": 72,
   "metadata": {
    "colab_type": "code"
   },
   "outputs": [],
   "source": [
    "model = CustomerTicketModel(num_departments=4)\n",
    "\n",
    "# `fit` 이전에 실제 데이터를 주입하는 이유를 모르겠다 ...\n",
    "# priority, department = model(\n",
    "#     {\"title\": title_data, \"text_body\": text_body_data, \"tags\": tags_data})\n",
    "\n",
    "priority, department = model(\n",
    "    {\"title\": title, \"text_body\": text_body, \"tags\": tags})"
   ]
  },
  {
   "cell_type": "code",
   "execution_count": 73,
   "metadata": {},
   "outputs": [
    {
     "name": "stdout",
     "output_type": "stream",
     "text": [
      "Model: \"customer_ticket_model_1\"\n",
      "_________________________________________________________________\n",
      " Layer (type)                Output Shape              Param #   \n",
      "=================================================================\n",
      " concatenate_3 (Concatenate)  multiple                 0         \n",
      "                                                                 \n",
      " dense_35 (Dense)            multiple                  1286464   \n",
      "                                                                 \n",
      " dense_36 (Dense)            multiple                  65        \n",
      "                                                                 \n",
      " dense_37 (Dense)            multiple                  260       \n",
      "                                                                 \n",
      "=================================================================\n",
      "Total params: 1,286,789\n",
      "Trainable params: 1,286,789\n",
      "Non-trainable params: 0\n",
      "_________________________________________________________________\n"
     ]
    }
   ],
   "source": [
    "model.summary()"
   ]
  },
  {
   "cell_type": "code",
   "execution_count": 74,
   "metadata": {},
   "outputs": [
    {
     "data": {
      "image/png": "[encoded data removed]",
      "text/plain": [
       "<IPython.core.display.Image object>"
      ]
     },
     "execution_count": 74,
     "metadata": {},
     "output_type": "execute_result"
    }
   ],
   "source": [
    "keras.utils.plot_model(model, \"updated_ticket_classifier_subclassing.png\", show_shapes=True)"
   ]
  },
  {
   "cell_type": "code",
   "execution_count": 75,
   "metadata": {
    "colab_type": "code"
   },
   "outputs": [
    {
     "name": "stderr",
     "output_type": "stream",
     "text": [
      "2022-12-10 19:22:08.026280: I tensorflow/core/grappler/optimizers/custom_graph_optimizer_registry.cc:114] Plugin optimizer for device_type GPU is enabled.\n"
     ]
    },
    {
     "name": "stdout",
     "output_type": "stream",
     "text": [
      "40/40 [==============================] - 1s 14ms/step - loss: 24.1884 - output_1_loss: 0.3199 - output_2_loss: 23.8686 - output_1_mean_absolute_error: 0.4877 - output_2_accuracy: 0.3016\n",
      "11/40 [=======>......................] - ETA: 0s - loss: 27.0072 - output_1_loss: 0.3234 - output_2_loss: 26.6837 - output_1_mean_absolute_error: 0.4898 - output_2_accuracy: 0.0739  "
     ]
    },
    {
     "name": "stderr",
     "output_type": "stream",
     "text": [
      "2022-12-10 19:22:08.914436: I tensorflow/core/grappler/optimizers/custom_graph_optimizer_registry.cc:114] Plugin optimizer for device_type GPU is enabled.\n"
     ]
    },
    {
     "name": "stdout",
     "output_type": "stream",
     "text": [
      "40/40 [==============================] - 1s 10ms/step - loss: 28.2637 - output_1_loss: 0.3250 - output_2_loss: 27.9386 - output_1_mean_absolute_error: 0.4932 - output_2_accuracy: 0.0633\n",
      "40/40 [==============================] - 0s 4ms/step\n"
     ]
    },
    {
     "name": "stderr",
     "output_type": "stream",
     "text": [
      "2022-12-10 19:22:09.467307: I tensorflow/core/grappler/optimizers/custom_graph_optimizer_registry.cc:114] Plugin optimizer for device_type GPU is enabled.\n"
     ]
    }
   ],
   "source": [
    "model.compile(optimizer=\"rmsprop\",\n",
    "              loss=[\"mean_squared_error\", \"categorical_crossentropy\"],\n",
    "              metrics=[[\"mean_absolute_error\"], [\"accuracy\"]])\n",
    "model.fit({\"title\": title_data,\n",
    "           \"text_body\": text_body_data,\n",
    "           \"tags\": tags_data},\n",
    "          [priority_data, department_data],\n",
    "          epochs=1)\n",
    "model.evaluate({\"title\": title_data,\n",
    "                \"text_body\": text_body_data,\n",
    "                \"tags\": tags_data},\n",
    "               [priority_data, department_data])\n",
    "priority_preds, department_preds = model.predict({\"title\": title_data,\n",
    "                                                  \"text_body\": text_body_data,\n",
    "                                                  \"tags\": tags_data})"
   ]
  },
  {
   "cell_type": "markdown",
   "metadata": {
    "colab_type": "text"
   },
   "source": [
    "#### 주의: 하위 클래스된 모델이 지원하지 않는 것\n",
    "- 블랙박스: summary 나 층 연결 구조를 확인할 수 없다. call 메소드 소스 확인 필요"
   ]
  },
  {
   "cell_type": "markdown",
   "metadata": {
    "colab_type": "text"
   },
   "source": [
    "### 7.2.4 다른 구성 요소 혼합 및 일치"
   ]
  },
  {
   "cell_type": "markdown",
   "metadata": {
    "colab_type": "text"
   },
   "source": [
    "**하위 클래스된 모델을 포함한 함수형 모델 생성**"
   ]
  },
  {
   "cell_type": "code",
   "execution_count": 76,
   "metadata": {
    "colab_type": "code"
   },
   "outputs": [],
   "source": [
    "class Classifier(keras.Model):\n",
    "\n",
    "    def __init__(self, num_classes=2):\n",
    "        super().__init__()\n",
    "        if num_classes == 2:\n",
    "            num_units = 1\n",
    "            activation = \"sigmoid\"\n",
    "        else:\n",
    "            num_units = num_classes\n",
    "            activation = \"softmax\"\n",
    "        self.dense = layers.Dense(num_units, activation=activation)\n",
    "\n",
    "    def call(self, inputs):\n",
    "        return self.dense(inputs)\n",
    "\n",
    "inputs = keras.Input(shape=(3,))\n",
    "features = layers.Dense(64, activation=\"relu\")(inputs)\n",
    "outputs = Classifier(num_classes=10)(features)\n",
    "model = keras.Model(inputs=inputs, outputs=outputs)"
   ]
  },
  {
   "cell_type": "markdown",
   "metadata": {
    "colab_type": "text"
   },
   "source": [
    "**함수형 모델을 포함하는 하위 클래스된 모델 생성**"
   ]
  },
  {
   "cell_type": "code",
   "execution_count": 77,
   "metadata": {
    "colab_type": "code"
   },
   "outputs": [],
   "source": [
    "inputs = keras.Input(shape=(64,))\n",
    "outputs = layers.Dense(1, activation=\"sigmoid\")(inputs)\n",
    "binary_classifier = keras.Model(inputs=inputs, outputs=outputs)\n",
    "\n",
    "class MyModel(keras.Model):\n",
    "\n",
    "    def __init__(self, num_classes=2):\n",
    "        super().__init__()\n",
    "        self.dense = layers.Dense(64, activation=\"relu\")\n",
    "        self.classifier = binary_classifier\n",
    "\n",
    "    def call(self, inputs):\n",
    "        features = self.dense(inputs)\n",
    "        return self.classifier(features)\n",
    "\n",
    "model = MyModel()"
   ]
  },
  {
   "cell_type": "markdown",
   "metadata": {
    "colab_type": "text"
   },
   "source": [
    "### 7.2.5 기억: 작업에 올바른 도구를 사용하라"
   ]
  },
  {
   "cell_type": "markdown",
   "metadata": {
    "colab_type": "text"
   },
   "source": [
    "## 7.3 훈련 및 평가 루프 사용"
   ]
  },
  {
   "cell_type": "markdown",
   "metadata": {
    "colab_type": "text"
   },
   "source": [
    "**표준 작업 흐름: `compile()`, `fit()`, `evaluate()`, `predict()`**"
   ]
  },
  {
   "cell_type": "code",
   "execution_count": 78,
   "metadata": {
    "colab_type": "code"
   },
   "outputs": [
    {
     "name": "stdout",
     "output_type": "stream",
     "text": [
      "Epoch 1/3\n",
      "   1/1563 [..............................] - ETA: 8:01 - loss: 2.4035 - accuracy: 0.0938"
     ]
    },
    {
     "name": "stderr",
     "output_type": "stream",
     "text": [
      "2022-12-10 19:22:19.183574: I tensorflow/core/grappler/optimizers/custom_graph_optimizer_registry.cc:114] Plugin optimizer for device_type GPU is enabled.\n"
     ]
    },
    {
     "name": "stdout",
     "output_type": "stream",
     "text": [
      "1563/1563 [==============================] - ETA: 0s - loss: 0.2831 - accuracy: 0.9172"
     ]
    },
    {
     "name": "stderr",
     "output_type": "stream",
     "text": [
      "2022-12-10 19:22:29.661082: I tensorflow/core/grappler/optimizers/custom_graph_optimizer_registry.cc:114] Plugin optimizer for device_type GPU is enabled.\n"
     ]
    },
    {
     "name": "stdout",
     "output_type": "stream",
     "text": [
      "1563/1563 [==============================] - 12s 7ms/step - loss: 0.2831 - accuracy: 0.9172 - val_loss: 0.1642 - val_accuracy: 0.9531\n",
      "Epoch 2/3\n",
      "1563/1563 [==============================] - 11s 7ms/step - loss: 0.1545 - accuracy: 0.9577 - val_loss: 0.1231 - val_accuracy: 0.9651\n",
      "Epoch 3/3\n",
      "1563/1563 [==============================] - 11s 7ms/step - loss: 0.1256 - accuracy: 0.9661 - val_loss: 0.1231 - val_accuracy: 0.9679\n",
      "313/313 [==============================] - 1s 5ms/step - loss: 0.1185 - accuracy: 0.9711\n",
      " 98/313 [========>.....................] - ETA: 0s"
     ]
    },
    {
     "name": "stderr",
     "output_type": "stream",
     "text": [
      "2022-12-10 19:22:55.036784: I tensorflow/core/grappler/optimizers/custom_graph_optimizer_registry.cc:114] Plugin optimizer for device_type GPU is enabled.\n"
     ]
    },
    {
     "name": "stdout",
     "output_type": "stream",
     "text": [
      "313/313 [==============================] - 1s 2ms/step\n"
     ]
    }
   ],
   "source": [
    "from tensorflow.keras.datasets import mnist\n",
    "\n",
    "def get_mnist_model():\n",
    "    inputs = keras.Input(shape=(28 * 28,))\n",
    "    features = layers.Dense(512, activation=\"relu\")(inputs)\n",
    "    features = layers.Dropout(0.5)(features)\n",
    "    outputs = layers.Dense(10, activation=\"softmax\")(features)\n",
    "    model = keras.Model(inputs, outputs)\n",
    "    return model\n",
    "\n",
    "(images, labels), (test_images, test_labels) = mnist.load_data()\n",
    "images = images.reshape((60000, 28 * 28)).astype(\"float32\") / 255\n",
    "test_images = test_images.reshape((10000, 28 * 28)).astype(\"float32\") / 255\n",
    "train_images, val_images = images[10000:], images[:10000]\n",
    "train_labels, val_labels = labels[10000:], labels[:10000]\n",
    "\n",
    "model = get_mnist_model()\n",
    "model.compile(optimizer=\"rmsprop\",\n",
    "              loss=\"sparse_categorical_crossentropy\",\n",
    "              metrics=[\"accuracy\"])\n",
    "model.fit(train_images, train_labels,\n",
    "          epochs=3,\n",
    "          validation_data=(val_images, val_labels))\n",
    "test_metrics = model.evaluate(test_images, test_labels)\n",
    "predictions = model.predict(test_images)"
   ]
  },
  {
   "cell_type": "markdown",
   "metadata": {
    "colab_type": "text"
   },
   "source": [
    "### 7.3.1 나만의 측정 지표 작성"
   ]
  },
  {
   "cell_type": "markdown",
   "metadata": {
    "colab_type": "text"
   },
   "source": [
    "**`Metric` 클래스를 하위 클래스화하여 사용자 측정지표 구현**\n",
    "- [`tf.keras.metrics.RootMeanSquaredError`](https://github.com/keras-team/keras/blob/v2.11.0/keras/metrics/metrics.py#L2453-L2506) 참조"
   ]
  },
  {
   "cell_type": "code",
   "execution_count": 79,
   "metadata": {
    "colab_type": "code"
   },
   "outputs": [],
   "source": [
    "import tensorflow as tf\n",
    "\n",
    "class RootMeanSquaredError(keras.metrics.Metric):\n",
    "\n",
    "    def __init__(self, name=\"rmse\", **kwargs):\n",
    "        super().__init__(name=name, **kwargs)\n",
    "        self.mse_sum = self.add_weight(name=\"mse_sum\", initializer=\"zeros\")\n",
    "        self.total_samples = self.add_weight(\n",
    "            name=\"total_samples\", initializer=\"zeros\", dtype=\"int32\")\n",
    "\n",
    "    def update_state(self, y_true, y_pred, sample_weight=None):\n",
    "        y_true = tf.one_hot(y_true, depth=tf.shape(y_pred)[1])\n",
    "        mse = tf.reduce_sum(tf.square(y_true - y_pred))\n",
    "        self.mse_sum.assign_add(mse)\n",
    "        num_samples = tf.shape(y_pred)[0]\n",
    "        self.total_samples.assign_add(num_samples)\n",
    "\n",
    "    def result(self):\n",
    "        return tf.sqrt(self.mse_sum / tf.cast(self.total_samples, tf.float32))\n",
    "\n",
    "    def reset_state(self):\n",
    "        self.mse_sum.assign(0.)\n",
    "        self.total_samples.assign(0)"
   ]
  },
  {
   "cell_type": "code",
   "execution_count": 80,
   "metadata": {
    "colab_type": "code"
   },
   "outputs": [
    {
     "name": "stdout",
     "output_type": "stream",
     "text": [
      "Epoch 1/3\n",
      "   1/1563 [..............................] - ETA: 8:39 - loss: 2.4305 - accuracy: 0.0625 - rmse: 5.4442"
     ]
    },
    {
     "name": "stderr",
     "output_type": "stream",
     "text": [
      "2022-12-10 19:25:36.729104: I tensorflow/core/grappler/optimizers/custom_graph_optimizer_registry.cc:114] Plugin optimizer for device_type GPU is enabled.\n"
     ]
    },
    {
     "name": "stdout",
     "output_type": "stream",
     "text": [
      "1563/1563 [==============================] - ETA: 0s - loss: 0.2851 - accuracy: 0.9146 - rmse: 7.2011"
     ]
    },
    {
     "name": "stderr",
     "output_type": "stream",
     "text": [
      "2022-12-10 19:25:48.152256: I tensorflow/core/grappler/optimizers/custom_graph_optimizer_registry.cc:114] Plugin optimizer for device_type GPU is enabled.\n"
     ]
    },
    {
     "name": "stdout",
     "output_type": "stream",
     "text": [
      "1563/1563 [==============================] - 13s 8ms/step - loss: 0.2851 - accuracy: 0.9146 - rmse: 7.2011 - val_loss: 0.1628 - val_accuracy: 0.9543 - val_rmse: 7.3518\n",
      "Epoch 2/3\n",
      "1563/1563 [==============================] - 12s 8ms/step - loss: 0.1544 - accuracy: 0.9565 - rmse: 7.3679 - val_loss: 0.1314 - val_accuracy: 0.9656 - val_rmse: 7.4066\n",
      "Epoch 3/3\n",
      "1563/1563 [==============================] - 12s 8ms/step - loss: 0.1264 - accuracy: 0.9649 - rmse: 7.3953 - val_loss: 0.1198 - val_accuracy: 0.9698 - val_rmse: 7.4226\n",
      "313/313 [==============================] - 2s 5ms/step - loss: 0.1120 - accuracy: 0.9712 - rmse: 7.4375\n"
     ]
    }
   ],
   "source": [
    "model = get_mnist_model()\n",
    "model.compile(optimizer=\"rmsprop\",\n",
    "              loss=\"sparse_categorical_crossentropy\",\n",
    "              metrics=[\"accuracy\", RootMeanSquaredError()])\n",
    "model.fit(train_images, train_labels,\n",
    "          epochs=3,\n",
    "          validation_data=(val_images, val_labels))\n",
    "test_metrics = model.evaluate(test_images, test_labels)"
   ]
  },
  {
   "cell_type": "code",
   "execution_count": 82,
   "metadata": {},
   "outputs": [
    {
     "data": {
      "text/plain": [
       "[0.11204256862401962, 0.9712000489234924, 7.437490463256836]"
      ]
     },
     "execution_count": 82,
     "metadata": {},
     "output_type": "execute_result"
    }
   ],
   "source": [
    "test_metrics # 손실, 정확도, 평균제곱근오차"
   ]
  },
  {
   "cell_type": "markdown",
   "metadata": {
    "colab_type": "text"
   },
   "source": [
    "### 7.3.2 콜백 사용"
   ]
  },
  {
   "cell_type": "markdown",
   "metadata": {
    "colab_type": "text"
   },
   "source": [
    "#### `EarlyStopping` 및  `ModelCheckpoint` 콜백"
   ]
  },
  {
   "cell_type": "markdown",
   "metadata": {
    "colab_type": "text"
   },
   "source": [
    "**`fit()` 메소드에서 `callbacks` 매개변수 사용**"
   ]
  },
  {
   "cell_type": "code",
   "execution_count": 83,
   "metadata": {
    "colab_type": "code"
   },
   "outputs": [
    {
     "name": "stdout",
     "output_type": "stream",
     "text": [
      "Epoch 1/10\n",
      "   1/1563 [..............................] - ETA: 8:46 - loss: 2.3560 - accuracy: 0.1875"
     ]
    },
    {
     "name": "stderr",
     "output_type": "stream",
     "text": [
      "2022-12-10 19:35:36.621244: I tensorflow/core/grappler/optimizers/custom_graph_optimizer_registry.cc:114] Plugin optimizer for device_type GPU is enabled.\n"
     ]
    },
    {
     "name": "stdout",
     "output_type": "stream",
     "text": [
      "1563/1563 [==============================] - ETA: 0s - loss: 0.2847 - accuracy: 0.9159"
     ]
    },
    {
     "name": "stderr",
     "output_type": "stream",
     "text": [
      "2022-12-10 19:35:48.053148: I tensorflow/core/grappler/optimizers/custom_graph_optimizer_registry.cc:114] Plugin optimizer for device_type GPU is enabled.\n"
     ]
    },
    {
     "name": "stdout",
     "output_type": "stream",
     "text": [
      "1563/1563 [==============================] - 13s 8ms/step - loss: 0.2847 - accuracy: 0.9159 - val_loss: 0.1473 - val_accuracy: 0.9571\n",
      "Epoch 2/10\n",
      "1563/1563 [==============================] - 11s 7ms/step - loss: 0.1549 - accuracy: 0.9560 - val_loss: 0.1252 - val_accuracy: 0.9642\n",
      "Epoch 3/10\n",
      "1563/1563 [==============================] - 12s 7ms/step - loss: 0.1282 - accuracy: 0.9655 - val_loss: 0.1125 - val_accuracy: 0.9714\n",
      "Epoch 4/10\n",
      "1563/1563 [==============================] - 12s 7ms/step - loss: 0.1111 - accuracy: 0.9707 - val_loss: 0.1178 - val_accuracy: 0.9704\n",
      "Epoch 5/10\n",
      "1563/1563 [==============================] - 12s 7ms/step - loss: 0.1058 - accuracy: 0.9734 - val_loss: 0.1081 - val_accuracy: 0.9752\n",
      "Epoch 6/10\n",
      "1563/1563 [==============================] - 12s 7ms/step - loss: 0.0970 - accuracy: 0.9767 - val_loss: 0.1136 - val_accuracy: 0.9766\n",
      "Epoch 7/10\n",
      "1563/1563 [==============================] - 12s 7ms/step - loss: 0.0898 - accuracy: 0.9775 - val_loss: 0.1107 - val_accuracy: 0.9780\n",
      "Epoch 8/10\n",
      "1563/1563 [==============================] - 12s 8ms/step - loss: 0.0831 - accuracy: 0.9794 - val_loss: 0.1156 - val_accuracy: 0.9771\n",
      "Epoch 9/10\n",
      "1563/1563 [==============================] - 11s 7ms/step - loss: 0.0807 - accuracy: 0.9812 - val_loss: 0.1128 - val_accuracy: 0.9780\n"
     ]
    },
    {
     "data": {
      "text/plain": [
       "<keras.callbacks.History at 0x176c0e790>"
      ]
     },
     "execution_count": 83,
     "metadata": {},
     "output_type": "execute_result"
    }
   ],
   "source": [
    "callbacks_list = [\n",
    "    keras.callbacks.EarlyStopping(\n",
    "        monitor=\"val_accuracy\",\n",
    "        patience=2,\n",
    "    ),\n",
    "    keras.callbacks.ModelCheckpoint(\n",
    "        filepath=\"checkpoint_path.keras\",\n",
    "        monitor=\"val_loss\",\n",
    "        save_best_only=True,\n",
    "    )\n",
    "]\n",
    "model = get_mnist_model()\n",
    "model.compile(optimizer=\"rmsprop\",\n",
    "              loss=\"sparse_categorical_crossentropy\",\n",
    "              metrics=[\"accuracy\"])\n",
    "model.fit(train_images, train_labels,\n",
    "          epochs=10,\n",
    "          callbacks=callbacks_list,\n",
    "          validation_data=(val_images, val_labels))"
   ]
  },
  {
   "cell_type": "code",
   "execution_count": 84,
   "metadata": {
    "colab_type": "code"
   },
   "outputs": [],
   "source": [
    "model = keras.models.load_model(\"checkpoint_path.keras\")"
   ]
  },
  {
   "cell_type": "code",
   "execution_count": 85,
   "metadata": {},
   "outputs": [
    {
     "data": {
      "text/plain": [
       "<keras.engine.functional.Functional at 0x3ce6b6f10>"
      ]
     },
     "execution_count": 85,
     "metadata": {},
     "output_type": "execute_result"
    }
   ],
   "source": [
    "model"
   ]
  },
  {
   "cell_type": "markdown",
   "metadata": {
    "colab_type": "text"
   },
   "source": [
    "### 7.3.3 나만의 콜백 작성"
   ]
  },
  {
   "cell_type": "markdown",
   "metadata": {
    "colab_type": "text"
   },
   "source": [
    "**`Callback` 클래스를 하위 클래스화하여 사용자 콜백 생성**"
   ]
  },
  {
   "cell_type": "code",
   "execution_count": 86,
   "metadata": {
    "colab_type": "code"
   },
   "outputs": [],
   "source": [
    "from matplotlib import pyplot as plt\n",
    "\n",
    "class LossHistory(keras.callbacks.Callback):\n",
    "    def on_train_begin(self, logs):\n",
    "        self.per_batch_losses = []\n",
    "\n",
    "    def on_batch_end(self, batch, logs):\n",
    "        self.per_batch_losses.append(logs.get(\"loss\"))\n",
    "\n",
    "    def on_epoch_end(self, epoch, logs):\n",
    "        plt.clf()\n",
    "        plt.plot(range(len(self.per_batch_losses)), self.per_batch_losses,\n",
    "                 label=\"Training loss for each batch\")\n",
    "        plt.xlabel(f\"Batch (epoch {epoch})\")\n",
    "        plt.ylabel(\"Loss\")\n",
    "        plt.legend()\n",
    "        plt.savefig(f\"plot_at_epoch_{epoch}\")\n",
    "        self.per_batch_losses = []"
   ]
  },
  {
   "cell_type": "code",
   "execution_count": 87,
   "metadata": {
    "colab_type": "code"
   },
   "outputs": [
    {
     "name": "stdout",
     "output_type": "stream",
     "text": [
      "Epoch 1/10\n",
      "   1/1563 [..............................] - ETA: 8:17 - loss: 2.4454 - accuracy: 0.0312"
     ]
    },
    {
     "name": "stderr",
     "output_type": "stream",
     "text": [
      "2022-12-10 19:40:24.933566: I tensorflow/core/grappler/optimizers/custom_graph_optimizer_registry.cc:114] Plugin optimizer for device_type GPU is enabled.\n"
     ]
    },
    {
     "name": "stdout",
     "output_type": "stream",
     "text": [
      "1563/1563 [==============================] - ETA: 0s - loss: 0.2844 - accuracy: 0.9171"
     ]
    },
    {
     "name": "stderr",
     "output_type": "stream",
     "text": [
      "2022-12-10 19:40:35.514525: I tensorflow/core/grappler/optimizers/custom_graph_optimizer_registry.cc:114] Plugin optimizer for device_type GPU is enabled.\n"
     ]
    },
    {
     "name": "stdout",
     "output_type": "stream",
     "text": [
      "1563/1563 [==============================] - 12s 8ms/step - loss: 0.2844 - accuracy: 0.9171 - val_loss: 0.1455 - val_accuracy: 0.9584\n",
      "Epoch 2/10\n",
      "1563/1563 [==============================] - 12s 8ms/step - loss: 0.1548 - accuracy: 0.9563 - val_loss: 0.1214 - val_accuracy: 0.9657\n",
      "Epoch 3/10\n",
      "1563/1563 [==============================] - 12s 7ms/step - loss: 0.1262 - accuracy: 0.9666 - val_loss: 0.1278 - val_accuracy: 0.9689\n",
      "Epoch 4/10\n",
      "1563/1563 [==============================] - 12s 8ms/step - loss: 0.1137 - accuracy: 0.9707 - val_loss: 0.1147 - val_accuracy: 0.9730\n",
      "Epoch 5/10\n",
      "1563/1563 [==============================] - 12s 8ms/step - loss: 0.1037 - accuracy: 0.9734 - val_loss: 0.1163 - val_accuracy: 0.9747\n",
      "Epoch 6/10\n",
      "1563/1563 [==============================] - 12s 8ms/step - loss: 0.0954 - accuracy: 0.9761 - val_loss: 0.1236 - val_accuracy: 0.9730\n",
      "Epoch 7/10\n",
      "1563/1563 [==============================] - 12s 8ms/step - loss: 0.0892 - accuracy: 0.9782 - val_loss: 0.1286 - val_accuracy: 0.9748\n",
      "Epoch 8/10\n",
      "1563/1563 [==============================] - 12s 8ms/step - loss: 0.0845 - accuracy: 0.9809 - val_loss: 0.1226 - val_accuracy: 0.9745\n",
      "Epoch 9/10\n",
      "1563/1563 [==============================] - 12s 8ms/step - loss: 0.0791 - accuracy: 0.9814 - val_loss: 0.1195 - val_accuracy: 0.9782\n",
      "Epoch 10/10\n",
      "1563/1563 [==============================] - 12s 8ms/step - loss: 0.0772 - accuracy: 0.9819 - val_loss: 0.1241 - val_accuracy: 0.9770\n"
     ]
    },
    {
     "data": {
      "text/plain": [
       "<keras.callbacks.History at 0x177395fa0>"
      ]
     },
     "execution_count": 87,
     "metadata": {},
     "output_type": "execute_result"
    },
    {
     "data": {
      "image/png": "[encoded data removed]",
      "text/plain": [
       "<Figure size 640x480 with 1 Axes>"
      ]
     },
     "metadata": {},
     "output_type": "display_data"
    }
   ],
   "source": [
    "model = get_mnist_model()\n",
    "model.compile(optimizer=\"rmsprop\",\n",
    "              loss=\"sparse_categorical_crossentropy\",\n",
    "              metrics=[\"accuracy\"])\n",
    "model.fit(train_images, train_labels,\n",
    "          epochs=10,\n",
    "          callbacks=[LossHistory()],\n",
    "          validation_data=(val_images, val_labels))"
   ]
  },
  {
   "cell_type": "markdown",
   "metadata": {
    "colab_type": "text"
   },
   "source": [
    "### 7.3.4 텐서보드로 모니터링 및 시각화"
   ]
  },
  {
   "cell_type": "code",
   "execution_count": 88,
   "metadata": {
    "colab_type": "code"
   },
   "outputs": [
    {
     "name": "stdout",
     "output_type": "stream",
     "text": [
      "Epoch 1/10\n"
     ]
    },
    {
     "name": "stderr",
     "output_type": "stream",
     "text": [
      "2022-12-10 19:47:50.738049: I tensorflow/core/grappler/optimizers/custom_graph_optimizer_registry.cc:114] Plugin optimizer for device_type GPU is enabled.\n"
     ]
    },
    {
     "name": "stdout",
     "output_type": "stream",
     "text": [
      "1563/1563 [==============================] - ETA: 0s - loss: 0.2856 - accuracy: 0.9164"
     ]
    },
    {
     "name": "stderr",
     "output_type": "stream",
     "text": [
      "2022-12-10 19:48:01.472808: I tensorflow/core/grappler/optimizers/custom_graph_optimizer_registry.cc:114] Plugin optimizer for device_type GPU is enabled.\n"
     ]
    },
    {
     "name": "stdout",
     "output_type": "stream",
     "text": [
      "1563/1563 [==============================] - 12s 7ms/step - loss: 0.2856 - accuracy: 0.9164 - val_loss: 0.1416 - val_accuracy: 0.9583\n",
      "Epoch 2/10\n",
      "1563/1563 [==============================] - 11s 7ms/step - loss: 0.1541 - accuracy: 0.9560 - val_loss: 0.1390 - val_accuracy: 0.9610\n",
      "Epoch 3/10\n",
      "1563/1563 [==============================] - 11s 7ms/step - loss: 0.1258 - accuracy: 0.9658 - val_loss: 0.1288 - val_accuracy: 0.9671\n",
      "Epoch 4/10\n",
      "1563/1563 [==============================] - 11s 7ms/step - loss: 0.1136 - accuracy: 0.9697 - val_loss: 0.1045 - val_accuracy: 0.9739\n",
      "Epoch 5/10\n",
      "1563/1563 [==============================] - 12s 8ms/step - loss: 0.1008 - accuracy: 0.9746 - val_loss: 0.1077 - val_accuracy: 0.9759\n",
      "Epoch 6/10\n",
      "1563/1563 [==============================] - 12s 8ms/step - loss: 0.0940 - accuracy: 0.9767 - val_loss: 0.1171 - val_accuracy: 0.9748\n",
      "Epoch 7/10\n",
      "1563/1563 [==============================] - 11s 7ms/step - loss: 0.0876 - accuracy: 0.9784 - val_loss: 0.1355 - val_accuracy: 0.9726\n",
      "Epoch 8/10\n",
      "1563/1563 [==============================] - 11s 7ms/step - loss: 0.0852 - accuracy: 0.9802 - val_loss: 0.1153 - val_accuracy: 0.9769\n",
      "Epoch 9/10\n",
      "1563/1563 [==============================] - 12s 7ms/step - loss: 0.0785 - accuracy: 0.9819 - val_loss: 0.1380 - val_accuracy: 0.9746\n",
      "Epoch 10/10\n",
      "1563/1563 [==============================] - 11s 7ms/step - loss: 0.0771 - accuracy: 0.9824 - val_loss: 0.1245 - val_accuracy: 0.9783\n"
     ]
    },
    {
     "data": {
      "text/plain": [
       "<keras.callbacks.History at 0x32c3aae20>"
      ]
     },
     "execution_count": 88,
     "metadata": {},
     "output_type": "execute_result"
    }
   ],
   "source": [
    "model = get_mnist_model()\n",
    "model.compile(optimizer=\"rmsprop\",\n",
    "              loss=\"sparse_categorical_crossentropy\",\n",
    "              metrics=[\"accuracy\"])\n",
    "\n",
    "tensorboard = keras.callbacks.TensorBoard(\n",
    "    log_dir=\"./full_path_to_your_log_dir\",\n",
    ")\n",
    "model.fit(train_images, train_labels,\n",
    "          epochs=10,\n",
    "          validation_data=(val_images, val_labels),\n",
    "          callbacks=[tensorboard])"
   ]
  },
  {
   "cell_type": "code",
   "execution_count": 89,
   "metadata": {
    "colab_type": "code"
   },
   "outputs": [
    {
     "data": {
      "text/html": [
       "\n",
       "      <iframe id=\"tensorboard-frame-c31067f7d4a0d5c3\" width=\"100%\" height=\"800\" frameborder=\"0\">\n",
       "      </iframe>\n",
       "      <script>\n",
       "        (function() {\n",
       "          const frame = document.getElementById(\"tensorboard-frame-c31067f7d4a0d5c3\");\n",
       "          const url = new URL(\"/\", window.location);\n",
       "          const port = 6006;\n",
       "          if (port) {\n",
       "            url.port = port;\n",
       "          }\n",
       "          frame.src = url;\n",
       "        })();\n",
       "      </script>\n",
       "    "
      ],
      "text/plain": [
       "<IPython.core.display.HTML object>"
      ]
     },
     "metadata": {},
     "output_type": "display_data"
    }
   ],
   "source": [
    "%load_ext tensorboard\n",
    "%tensorboard --logdir ./full_path_to_your_log_dir"
   ]
  },
  {
   "cell_type": "markdown",
   "metadata": {
    "colab_type": "text"
   },
   "source": [
    "## 7.4 나만의 훈련 및 평가 루프 작성"
   ]
  },
  {
   "cell_type": "markdown",
   "metadata": {
    "colab_type": "text"
   },
   "source": [
    "### 7.4.1 훈련 vs. 추론"
   ]
  },
  {
   "cell_type": "markdown",
   "metadata": {
    "colab_type": "text"
   },
   "source": [
    "### 7.4.2 측정지표의 저수준 사용"
   ]
  },
  {
   "cell_type": "code",
   "execution_count": 90,
   "metadata": {
    "colab_type": "code"
   },
   "outputs": [
    {
     "name": "stdout",
     "output_type": "stream",
     "text": [
      "result: 1.00\n"
     ]
    }
   ],
   "source": [
    "metric = keras.metrics.SparseCategoricalAccuracy()\n",
    "targets = [0, 1, 2]\n",
    "predictions = [[1, 0, 0], [0, 1, 0], [0, 0, 1]]\n",
    "metric.update_state(targets, predictions)\n",
    "current_result = metric.result()\n",
    "print(f\"result: {current_result:.2f}\")"
   ]
  },
  {
   "cell_type": "code",
   "execution_count": 91,
   "metadata": {
    "colab_type": "code"
   },
   "outputs": [
    {
     "name": "stdout",
     "output_type": "stream",
     "text": [
      "Mean of values: 2.00\n"
     ]
    }
   ],
   "source": [
    "values = [0, 1, 2, 3, 4]\n",
    "mean_tracker = keras.metrics.Mean()\n",
    "for value in values:\n",
    "    mean_tracker.update_state(value)\n",
    "print(f\"Mean of values: {mean_tracker.result():.2f}\")"
   ]
  },
  {
   "cell_type": "markdown",
   "metadata": {
    "colab_type": "text"
   },
   "source": [
    "### 7.4.3 완전한 훈련 및 평가 루프"
   ]
  },
  {
   "cell_type": "markdown",
   "metadata": {
    "colab_type": "text"
   },
   "source": [
    "**단계별 루프 작성: 훈련 단계 함수**"
   ]
  },
  {
   "cell_type": "code",
   "execution_count": 92,
   "metadata": {
    "colab_type": "code"
   },
   "outputs": [],
   "source": [
    "model = get_mnist_model()\n",
    "\n",
    "loss_fn = keras.losses.SparseCategoricalCrossentropy()\n",
    "optimizer = keras.optimizers.RMSprop()\n",
    "metrics = [keras.metrics.SparseCategoricalAccuracy()]\n",
    "loss_tracking_metric = keras.metrics.Mean()\n",
    "\n",
    "def train_step(inputs, targets):\n",
    "    with tf.GradientTape() as tape:\n",
    "        predictions = model(inputs, training=True)\n",
    "        loss = loss_fn(targets, predictions)\n",
    "    gradients = tape.gradient(loss, model.trainable_weights)\n",
    "    optimizer.apply_gradients(zip(gradients, model.trainable_weights))\n",
    "\n",
    "    logs = {}\n",
    "    for metric in metrics:\n",
    "        metric.update_state(targets, predictions)\n",
    "        logs[metric.name] = metric.result()\n",
    "\n",
    "    loss_tracking_metric.update_state(loss)\n",
    "    logs[\"loss\"] = loss_tracking_metric.result()\n",
    "    return logs"
   ]
  },
  {
   "cell_type": "markdown",
   "metadata": {
    "colab_type": "text"
   },
   "source": [
    "**단계별 루프 작성: 매트릭스 재설정**"
   ]
  },
  {
   "cell_type": "code",
   "execution_count": 93,
   "metadata": {
    "colab_type": "code"
   },
   "outputs": [],
   "source": [
    "def reset_metrics():\n",
    "    for metric in metrics:\n",
    "        metric.reset_state()\n",
    "    loss_tracking_metric.reset_state()"
   ]
  },
  {
   "cell_type": "markdown",
   "metadata": {
    "colab_type": "text"
   },
   "source": [
    "**단계별 루프 작성: 루프 자체**"
   ]
  },
  {
   "cell_type": "code",
   "execution_count": 94,
   "metadata": {
    "colab_type": "code"
   },
   "outputs": [
    {
     "name": "stdout",
     "output_type": "stream",
     "text": [
      "Results at the end of epoch 0\n",
      "...sparse_categorical_accuracy: 0.9197\n",
      "...loss: 0.2737\n",
      "Results at the end of epoch 1\n",
      "...sparse_categorical_accuracy: 0.9667\n",
      "...loss: 0.1215\n",
      "Results at the end of epoch 2\n",
      "...sparse_categorical_accuracy: 0.9804\n",
      "...loss: 0.0778\n"
     ]
    }
   ],
   "source": [
    "training_dataset = tf.data.Dataset.from_tensor_slices((train_images, train_labels))\n",
    "training_dataset = training_dataset.batch(32)\n",
    "epochs = 3\n",
    "for epoch in range(epochs):\n",
    "    reset_metrics()\n",
    "    for inputs_batch, targets_batch in training_dataset:\n",
    "        logs = train_step(inputs_batch, targets_batch)\n",
    "    print(f\"Results at the end of epoch {epoch}\")\n",
    "    for key, value in logs.items():\n",
    "        print(f\"...{key}: {value:.4f}\")"
   ]
  },
  {
   "cell_type": "markdown",
   "metadata": {
    "colab_type": "text"
   },
   "source": [
    "**단계별 루프 작성: 평가 루프**"
   ]
  },
  {
   "cell_type": "code",
   "execution_count": 95,
   "metadata": {
    "colab_type": "code"
   },
   "outputs": [
    {
     "name": "stdout",
     "output_type": "stream",
     "text": [
      "Evaluation results:\n",
      "...val_sparse_categorical_accuracy: 0.9577\n",
      "...val_loss: 0.1836\n"
     ]
    }
   ],
   "source": [
    "def test_step(inputs, targets):\n",
    "    predictions = model(inputs, training=False)\n",
    "    loss = loss_fn(targets, predictions)\n",
    "\n",
    "    logs = {}\n",
    "    for metric in metrics:\n",
    "        metric.update_state(targets, predictions)\n",
    "        logs[\"val_\" + metric.name] = metric.result()\n",
    "\n",
    "    loss_tracking_metric.update_state(loss)\n",
    "    logs[\"val_loss\"] = loss_tracking_metric.result()\n",
    "    return logs\n",
    "\n",
    "val_dataset = tf.data.Dataset.from_tensor_slices((val_images, val_labels))\n",
    "val_dataset = val_dataset.batch(32)\n",
    "reset_metrics()\n",
    "for inputs_batch, targets_batch in val_dataset:\n",
    "    logs = test_step(inputs_batch, targets_batch)\n",
    "print(\"Evaluation results:\")\n",
    "for key, value in logs.items():\n",
    "    print(f\"...{key}: {value:.4f}\")"
   ]
  },
  {
   "cell_type": "markdown",
   "metadata": {
    "colab_type": "text"
   },
   "source": [
    "### 7.4.4 tf.function 으로 속도 향상"
   ]
  },
  {
   "cell_type": "markdown",
   "metadata": {
    "colab_type": "text"
   },
   "source": [
    "**평가-단계 함수에 `tf.function` 데코레이터(decorator) 추가**"
   ]
  },
  {
   "cell_type": "code",
   "execution_count": 96,
   "metadata": {
    "colab_type": "code"
   },
   "outputs": [
    {
     "name": "stderr",
     "output_type": "stream",
     "text": [
      "2022-12-10 20:45:35.284398: I tensorflow/core/grappler/optimizers/custom_graph_optimizer_registry.cc:114] Plugin optimizer for device_type GPU is enabled.\n"
     ]
    },
    {
     "name": "stdout",
     "output_type": "stream",
     "text": [
      "Evaluation results:\n",
      "...val_sparse_categorical_accuracy: 0.9577\n",
      "...val_loss: 0.1836\n"
     ]
    },
    {
     "name": "stderr",
     "output_type": "stream",
     "text": [
      "2022-12-10 20:45:36.096467: I tensorflow/core/grappler/optimizers/custom_graph_optimizer_registry.cc:114] Plugin optimizer for device_type GPU is enabled.\n"
     ]
    }
   ],
   "source": [
    "@tf.function\n",
    "def test_step(inputs, targets):\n",
    "    predictions = model(inputs, training=False)\n",
    "    loss = loss_fn(targets, predictions)\n",
    "\n",
    "    logs = {}\n",
    "    for metric in metrics:\n",
    "        metric.update_state(targets, predictions)\n",
    "        logs[\"val_\" + metric.name] = metric.result()\n",
    "\n",
    "    loss_tracking_metric.update_state(loss)\n",
    "    logs[\"val_loss\"] = loss_tracking_metric.result()\n",
    "    return logs\n",
    "\n",
    "val_dataset = tf.data.Dataset.from_tensor_slices((val_images, val_labels))\n",
    "val_dataset = val_dataset.batch(32)\n",
    "reset_metrics()\n",
    "for inputs_batch, targets_batch in val_dataset:\n",
    "    logs = test_step(inputs_batch, targets_batch)\n",
    "print(\"Evaluation results:\")\n",
    "for key, value in logs.items():\n",
    "    print(f\"...{key}: {value:.4f}\")"
   ]
  },
  {
   "cell_type": "markdown",
   "metadata": {
    "colab_type": "text"
   },
   "source": [
    "### 7.4.5 사용자 훈련 루프로 fit() 향상"
   ]
  },
  {
   "cell_type": "markdown",
   "metadata": {
    "colab_type": "text"
   },
   "source": [
    "**`fit()`를 사용하여 사용자 훈련 단계 구현**"
   ]
  },
  {
   "cell_type": "code",
   "execution_count": 97,
   "metadata": {
    "colab_type": "code"
   },
   "outputs": [],
   "source": [
    "loss_fn = keras.losses.SparseCategoricalCrossentropy()\n",
    "loss_tracker = keras.metrics.Mean(name=\"loss\")\n",
    "\n",
    "class CustomModel(keras.Model):\n",
    "    def train_step(self, data):\n",
    "        inputs, targets = data\n",
    "        with tf.GradientTape() as tape:\n",
    "            predictions = self(inputs, training=True)\n",
    "            loss = loss_fn(targets, predictions)\n",
    "        gradients = tape.gradient(loss, self.trainable_weights)\n",
    "        self.optimizer.apply_gradients(zip(gradients, self.trainable_weights))\n",
    "\n",
    "        loss_tracker.update_state(loss)\n",
    "        return {\"loss\": loss_tracker.result()}\n",
    "\n",
    "    @property\n",
    "    def metrics(self):\n",
    "        return [loss_tracker]"
   ]
  },
  {
   "cell_type": "code",
   "execution_count": 98,
   "metadata": {
    "colab_type": "code"
   },
   "outputs": [
    {
     "name": "stdout",
     "output_type": "stream",
     "text": [
      "Epoch 1/3\n",
      "   1/1563 [..............................] - ETA: 11:04 - loss: 2.4525"
     ]
    },
    {
     "name": "stderr",
     "output_type": "stream",
     "text": [
      "2022-12-10 20:46:06.059523: I tensorflow/core/grappler/optimizers/custom_graph_optimizer_registry.cc:114] Plugin optimizer for device_type GPU is enabled.\n"
     ]
    },
    {
     "name": "stdout",
     "output_type": "stream",
     "text": [
      "1563/1563 [==============================] - 9s 6ms/step - loss: 0.2864\n",
      "Epoch 2/3\n",
      "1563/1563 [==============================] - 8s 5ms/step - loss: 0.1548\n",
      "Epoch 3/3\n",
      "1563/1563 [==============================] - 8s 5ms/step - loss: 0.1272\n"
     ]
    },
    {
     "data": {
      "text/plain": [
       "<keras.callbacks.History at 0x2f200e4c0>"
      ]
     },
     "execution_count": 98,
     "metadata": {},
     "output_type": "execute_result"
    }
   ],
   "source": [
    "inputs = keras.Input(shape=(28 * 28,))\n",
    "features = layers.Dense(512, activation=\"relu\")(inputs)\n",
    "features = layers.Dropout(0.5)(features)\n",
    "outputs = layers.Dense(10, activation=\"softmax\")(features)\n",
    "model = CustomModel(inputs, outputs)\n",
    "\n",
    "model.compile(optimizer=keras.optimizers.RMSprop())\n",
    "model.fit(train_images, train_labels, epochs=3)"
   ]
  },
  {
   "cell_type": "code",
   "execution_count": 99,
   "metadata": {
    "colab_type": "code"
   },
   "outputs": [],
   "source": [
    "class CustomModel(keras.Model):\n",
    "    def train_step(self, data):\n",
    "        inputs, targets = data\n",
    "        with tf.GradientTape() as tape:\n",
    "            predictions = self(inputs, training=True)\n",
    "            loss = self.compiled_loss(targets, predictions)\n",
    "        gradients = tape.gradient(loss, self.trainable_weights)\n",
    "        self.optimizer.apply_gradients(zip(gradients, self.trainable_weights))\n",
    "        self.compiled_metrics.update_state(targets, predictions)\n",
    "        return {m.name: m.result() for m in self.metrics}"
   ]
  },
  {
   "cell_type": "code",
   "execution_count": 100,
   "metadata": {
    "colab_type": "code"
   },
   "outputs": [
    {
     "name": "stdout",
     "output_type": "stream",
     "text": [
      "Epoch 1/3\n"
     ]
    },
    {
     "name": "stderr",
     "output_type": "stream",
     "text": [
      "2022-12-10 20:46:51.515387: I tensorflow/core/grappler/optimizers/custom_graph_optimizer_registry.cc:114] Plugin optimizer for device_type GPU is enabled.\n"
     ]
    },
    {
     "name": "stdout",
     "output_type": "stream",
     "text": [
      "1563/1563 [==============================] - 11s 7ms/step - loss: 0.2814 - sparse_categorical_accuracy: 0.9179\n",
      "Epoch 2/3\n",
      "1563/1563 [==============================] - 10s 6ms/step - loss: 0.1536 - sparse_categorical_accuracy: 0.9572\n",
      "Epoch 3/3\n",
      "1563/1563 [==============================] - 10s 6ms/step - loss: 0.1279 - sparse_categorical_accuracy: 0.9656\n"
     ]
    },
    {
     "data": {
      "text/plain": [
       "<keras.callbacks.History at 0x176bf09d0>"
      ]
     },
     "execution_count": 100,
     "metadata": {},
     "output_type": "execute_result"
    }
   ],
   "source": [
    "inputs = keras.Input(shape=(28 * 28,))\n",
    "features = layers.Dense(512, activation=\"relu\")(inputs)\n",
    "features = layers.Dropout(0.5)(features)\n",
    "outputs = layers.Dense(10, activation=\"softmax\")(features)\n",
    "model = CustomModel(inputs, outputs)\n",
    "\n",
    "model.compile(optimizer=keras.optimizers.RMSprop(),\n",
    "              loss=keras.losses.SparseCategoricalCrossentropy(),\n",
    "              metrics=[keras.metrics.SparseCategoricalAccuracy()])\n",
    "model.fit(train_images, train_labels, epochs=3)"
   ]
  },
  {
   "cell_type": "markdown",
   "metadata": {
    "colab_type": "text"
   },
   "source": [
    "## 7.5 요약"
   ]
  }
 ],
 "metadata": {
  "colab": {
   "collapsed_sections": [],
   "name": "chapter07_working-with-keras.i",
   "private_outputs": false,
   "provenance": [],
   "toc_visible": true
  },
  "kernelspec": {
   "display_name": "Python 3 (ipykernel)",
   "language": "python",
   "name": "python3"
  },
  "language_info": {
   "codemirror_mode": {
    "name": "ipython",
    "version": 3
   },
   "file_extension": ".py",
   "mimetype": "text/x-python",
   "name": "python",
   "nbconvert_exporter": "python",
   "pygments_lexer": "ipython3",
   "version": "3.9.13"
  }
 },
 "nbformat": 4,
 "nbformat_minor": 1
}
